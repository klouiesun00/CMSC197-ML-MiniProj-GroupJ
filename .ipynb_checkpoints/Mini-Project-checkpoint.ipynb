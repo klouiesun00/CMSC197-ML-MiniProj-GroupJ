{
 "cells": [
  {
   "cell_type": "markdown",
   "id": "94e58599",
   "metadata": {},
   "source": [
    "# COVID-19 Pandemic Prediction \n",
    "\n",
    "Predicting the number of positive cases in the Philippines and also the health equipment found in hospitals (Logistic Regression). Also predict the health status of a patient using demographic characteristics (Naive Bayes)."
   ]
  },
  {
   "cell_type": "markdown",
   "id": "750cbbdb",
   "metadata": {},
   "source": [
    "## Imports"
   ]
  },
  {
   "cell_type": "code",
   "execution_count": 1,
   "id": "8c63fc21",
   "metadata": {},
   "outputs": [
    {
     "name": "stdout",
     "output_type": "stream",
     "text": [
      "Requirement already satisfied: imbalanced-learn in d:\\anaconda3\\lib\\site-packages (0.10.0)\n",
      "Requirement already satisfied: threadpoolctl>=2.0.0 in d:\\anaconda3\\lib\\site-packages (from imbalanced-learn) (2.2.0)\n",
      "Requirement already satisfied: scikit-learn>=1.0.2 in d:\\anaconda3\\lib\\site-packages (from imbalanced-learn) (1.0.2)\n",
      "Requirement already satisfied: numpy>=1.17.3 in d:\\anaconda3\\lib\\site-packages (from imbalanced-learn) (1.21.5)\n",
      "Requirement already satisfied: scipy>=1.3.2 in d:\\anaconda3\\lib\\site-packages (from imbalanced-learn) (1.7.3)\n",
      "Requirement already satisfied: joblib>=1.1.1 in d:\\anaconda3\\lib\\site-packages (from imbalanced-learn) (1.2.0)\n"
     ]
    }
   ],
   "source": [
    "!pip install imbalanced-learn"
   ]
  },
  {
   "cell_type": "code",
   "execution_count": 1,
   "id": "43db3171",
   "metadata": {},
   "outputs": [],
   "source": [
    "##### Standard Libraries #####\n",
    "import glob\n",
    "import numpy as np\n",
    "import pandas as pd\n",
    "import matplotlib.pyplot as plt\n",
    "import seaborn as sns\n",
    "import imblearn\n",
    "from numpy import log, dot, e\n",
    "from math import sqrt\n",
    "sns.set_style(\"whitegrid\")\n",
    "sns.set_context(\"poster\")\n",
    "\n",
    "%matplotlib inline\n",
    "\n",
    "##### For Preprocessing #####\n",
    "from sklearn.model_selection import train_test_split\n",
    "from sklearn import preprocessing\n",
    "#from sklearn.preprocessing import StandardScaler\n",
    "\n",
    "##### For Building the Model #####\n",
    "from sklearn.linear_model import LinearRegression, LogisticRegression\n",
    "from sklearn.naive_bayes import GaussianNB, ComplementNB, MultinomialNB\n",
    "#from sklearn.pipeline import make_pipeline\n",
    "\n",
    "##### For Validation of the Model #####\n",
    "from sklearn.model_selection import cross_val_score\n",
    "from sklearn.metrics import accuracy_score, precision_score, recall_score, f1_score\n",
    "from sklearn.metrics import precision_recall_fscore_support\n",
    "from sklearn.metrics import confusion_matrix, ConfusionMatrixDisplay\n",
    "from sklearn.metrics import mean_squared_error\n",
    "from sklearn.metrics import r2_score\n",
    "\n",
    "from collections import Counter\n",
    "from imblearn.over_sampling import RandomOverSampler\n",
    "from imblearn.under_sampling import RandomUnderSampler\n",
    "from imblearn.combine import SMOTEENN, SMOTETomek"
   ]
  },
  {
   "cell_type": "markdown",
   "id": "d1f11495",
   "metadata": {},
   "source": [
    "## Reading Data"
   ]
  },
  {
   "cell_type": "code",
   "execution_count": 3,
   "id": "03e43697",
   "metadata": {},
   "outputs": [],
   "source": [
    "df_cases = pd.read_csv('./COVID-19_Cases_in_the_Philippines_Dataset/Testing_Aggregates_20200513.csv')"
   ]
  },
  {
   "cell_type": "code",
   "execution_count": 4,
   "id": "a71c90b7",
   "metadata": {},
   "outputs": [
    {
     "data": {
      "text/html": [
       "<div>\n",
       "<style scoped>\n",
       "    .dataframe tbody tr th:only-of-type {\n",
       "        vertical-align: middle;\n",
       "    }\n",
       "\n",
       "    .dataframe tbody tr th {\n",
       "        vertical-align: top;\n",
       "    }\n",
       "\n",
       "    .dataframe thead th {\n",
       "        text-align: right;\n",
       "    }\n",
       "</style>\n",
       "<table border=\"1\" class=\"dataframe\">\n",
       "  <thead>\n",
       "    <tr style=\"text-align: right;\">\n",
       "      <th></th>\n",
       "      <th>Date</th>\n",
       "      <th>Name of Health Facility/Laboratory</th>\n",
       "      <th>Abbrev of Health Facility</th>\n",
       "      <th>Daily Output - Positive Individuals</th>\n",
       "      <th>Daily Output - Unique Individuals Tested</th>\n",
       "      <th>Daily Output - Tests Conducted</th>\n",
       "      <th>UNIQUE INDIVIDUALS TESTED</th>\n",
       "      <th>POSITIVE INDIVIDUALS</th>\n",
       "      <th>% positive/ unique individuals</th>\n",
       "      <th>NEGATIVE INDIVIDUALS</th>\n",
       "      <th>% negative/ unique individuals</th>\n",
       "      <th>EQUIVOCAL</th>\n",
       "      <th>% equivocal /unique individuals</th>\n",
       "      <th>INVALID</th>\n",
       "      <th>% invalid /unique individuals</th>\n",
       "      <th>TOTAL TESTS CONDUCTED</th>\n",
       "      <th>REMAINING AVAILABLE TESTS</th>\n",
       "      <th>Unnamed: 17</th>\n",
       "    </tr>\n",
       "  </thead>\n",
       "  <tbody>\n",
       "    <tr>\n",
       "      <th>0</th>\n",
       "      <td>April 2, 2020</td>\n",
       "      <td>Research Institute for Tropical Medicine (RITM)</td>\n",
       "      <td>RITM</td>\n",
       "      <td>NaN</td>\n",
       "      <td>NaN</td>\n",
       "      <td>NaN</td>\n",
       "      <td>15,197</td>\n",
       "      <td>2,652</td>\n",
       "      <td>17%</td>\n",
       "      <td>11,367</td>\n",
       "      <td>75%</td>\n",
       "      <td>32</td>\n",
       "      <td>0.20%</td>\n",
       "      <td>NaN</td>\n",
       "      <td>NaN</td>\n",
       "      <td>20,826</td>\n",
       "      <td>75,396</td>\n",
       "      <td>NaN</td>\n",
       "    </tr>\n",
       "    <tr>\n",
       "      <th>1</th>\n",
       "      <td>April 2, 2020</td>\n",
       "      <td>Baguio General Hospital and Medical Center (BG...</td>\n",
       "      <td>BGHMC</td>\n",
       "      <td>NaN</td>\n",
       "      <td>NaN</td>\n",
       "      <td>NaN</td>\n",
       "      <td>473</td>\n",
       "      <td>21</td>\n",
       "      <td>4%</td>\n",
       "      <td>452</td>\n",
       "      <td>96%</td>\n",
       "      <td>0</td>\n",
       "      <td>0.00%</td>\n",
       "      <td>NaN</td>\n",
       "      <td>NaN</td>\n",
       "      <td>478</td>\n",
       "      <td>4,519</td>\n",
       "      <td>NaN</td>\n",
       "    </tr>\n",
       "    <tr>\n",
       "      <th>2</th>\n",
       "      <td>April 2, 2020</td>\n",
       "      <td>San Lazaro Hospital (SLH)</td>\n",
       "      <td>SLH</td>\n",
       "      <td>NaN</td>\n",
       "      <td>NaN</td>\n",
       "      <td>NaN</td>\n",
       "      <td>115</td>\n",
       "      <td>31</td>\n",
       "      <td>27%</td>\n",
       "      <td>84</td>\n",
       "      <td>73%</td>\n",
       "      <td>0</td>\n",
       "      <td>0.00%</td>\n",
       "      <td>NaN</td>\n",
       "      <td>NaN</td>\n",
       "      <td>193</td>\n",
       "      <td>4,846</td>\n",
       "      <td>NaN</td>\n",
       "    </tr>\n",
       "    <tr>\n",
       "      <th>3</th>\n",
       "      <td>April 2, 2020</td>\n",
       "      <td>Vicente Sotto Memorial Medical Center (VSMMC)</td>\n",
       "      <td>VSMMC</td>\n",
       "      <td>NaN</td>\n",
       "      <td>NaN</td>\n",
       "      <td>NaN</td>\n",
       "      <td>672</td>\n",
       "      <td>37</td>\n",
       "      <td>6%</td>\n",
       "      <td>634</td>\n",
       "      <td>94%</td>\n",
       "      <td>1</td>\n",
       "      <td>0.10%</td>\n",
       "      <td>NaN</td>\n",
       "      <td>NaN</td>\n",
       "      <td>672</td>\n",
       "      <td>23,812</td>\n",
       "      <td>NaN</td>\n",
       "    </tr>\n",
       "    <tr>\n",
       "      <th>4</th>\n",
       "      <td>April 2, 2020</td>\n",
       "      <td>UP National Institutes of Health (UP-NIH)</td>\n",
       "      <td>UP-NIH</td>\n",
       "      <td>NaN</td>\n",
       "      <td>NaN</td>\n",
       "      <td>NaN</td>\n",
       "      <td>332</td>\n",
       "      <td>43</td>\n",
       "      <td>13%</td>\n",
       "      <td>279</td>\n",
       "      <td>84%</td>\n",
       "      <td>10</td>\n",
       "      <td>3.00%</td>\n",
       "      <td>NaN</td>\n",
       "      <td>NaN</td>\n",
       "      <td>335</td>\n",
       "      <td>4,565</td>\n",
       "      <td>NaN</td>\n",
       "    </tr>\n",
       "    <tr>\n",
       "      <th>...</th>\n",
       "      <td>...</td>\n",
       "      <td>...</td>\n",
       "      <td>...</td>\n",
       "      <td>...</td>\n",
       "      <td>...</td>\n",
       "      <td>...</td>\n",
       "      <td>...</td>\n",
       "      <td>...</td>\n",
       "      <td>...</td>\n",
       "      <td>...</td>\n",
       "      <td>...</td>\n",
       "      <td>...</td>\n",
       "      <td>...</td>\n",
       "      <td>...</td>\n",
       "      <td>...</td>\n",
       "      <td>...</td>\n",
       "      <td>...</td>\n",
       "      <td>...</td>\n",
       "    </tr>\n",
       "    <tr>\n",
       "      <th>651</th>\n",
       "      <td>May 12, 2020</td>\n",
       "      <td>Chinese General Hospital (CGH)</td>\n",
       "      <td>CGH</td>\n",
       "      <td>22</td>\n",
       "      <td>439</td>\n",
       "      <td>439</td>\n",
       "      <td>3,272</td>\n",
       "      <td>321</td>\n",
       "      <td>10%</td>\n",
       "      <td>2,951</td>\n",
       "      <td>90%</td>\n",
       "      <td>0</td>\n",
       "      <td>0.00%</td>\n",
       "      <td>0.0</td>\n",
       "      <td>0.00%</td>\n",
       "      <td>3,277</td>\n",
       "      <td>-</td>\n",
       "      <td>NaN</td>\n",
       "    </tr>\n",
       "    <tr>\n",
       "      <th>652</th>\n",
       "      <td>May 12, 2020</td>\n",
       "      <td>Philippine Red Cross Logistics &amp; Multipurpose ...</td>\n",
       "      <td>PLMC</td>\n",
       "      <td>30</td>\n",
       "      <td>2,158</td>\n",
       "      <td>2,158</td>\n",
       "      <td>14,754</td>\n",
       "      <td>538</td>\n",
       "      <td>4%</td>\n",
       "      <td>14,202</td>\n",
       "      <td>96%</td>\n",
       "      <td>14</td>\n",
       "      <td>0.10%</td>\n",
       "      <td>0.0</td>\n",
       "      <td>0.00%</td>\n",
       "      <td>14,755</td>\n",
       "      <td>-</td>\n",
       "      <td>NaN</td>\n",
       "    </tr>\n",
       "    <tr>\n",
       "      <th>653</th>\n",
       "      <td>May 12, 2020</td>\n",
       "      <td>Singapore Diagnostics</td>\n",
       "      <td>NaN</td>\n",
       "      <td>8</td>\n",
       "      <td>99</td>\n",
       "      <td>99</td>\n",
       "      <td>351</td>\n",
       "      <td>39</td>\n",
       "      <td>11%</td>\n",
       "      <td>312</td>\n",
       "      <td>89%</td>\n",
       "      <td>0</td>\n",
       "      <td>0.00%</td>\n",
       "      <td>0.0</td>\n",
       "      <td>0.00%</td>\n",
       "      <td>352</td>\n",
       "      <td>9,069</td>\n",
       "      <td>NaN</td>\n",
       "    </tr>\n",
       "    <tr>\n",
       "      <th>654</th>\n",
       "      <td>May 12, 2020</td>\n",
       "      <td>Lung Center of the Philippines GeneXpert Labor...</td>\n",
       "      <td>NaN</td>\n",
       "      <td>13</td>\n",
       "      <td>42</td>\n",
       "      <td>42</td>\n",
       "      <td>243</td>\n",
       "      <td>47</td>\n",
       "      <td>19%</td>\n",
       "      <td>196</td>\n",
       "      <td>81%</td>\n",
       "      <td>0</td>\n",
       "      <td>0.00%</td>\n",
       "      <td>0.0</td>\n",
       "      <td>0</td>\n",
       "      <td>243</td>\n",
       "      <td>894</td>\n",
       "      <td>NaN</td>\n",
       "    </tr>\n",
       "    <tr>\n",
       "      <th>655</th>\n",
       "      <td>May 12, 2020</td>\n",
       "      <td>Zamboanga City Medical Center GeneXpert Labora...</td>\n",
       "      <td>ZCMC</td>\n",
       "      <td>13</td>\n",
       "      <td>72</td>\n",
       "      <td>72</td>\n",
       "      <td>295</td>\n",
       "      <td>51</td>\n",
       "      <td>17%</td>\n",
       "      <td>243</td>\n",
       "      <td>82%</td>\n",
       "      <td>1</td>\n",
       "      <td>0.30%</td>\n",
       "      <td>0.0</td>\n",
       "      <td>0</td>\n",
       "      <td>298</td>\n",
       "      <td>842</td>\n",
       "      <td>NaN</td>\n",
       "    </tr>\n",
       "  </tbody>\n",
       "</table>\n",
       "<p>656 rows × 18 columns</p>\n",
       "</div>"
      ],
      "text/plain": [
       "              Date                 Name of Health Facility/Laboratory  \\\n",
       "0    April 2, 2020    Research Institute for Tropical Medicine (RITM)   \n",
       "1    April 2, 2020  Baguio General Hospital and Medical Center (BG...   \n",
       "2    April 2, 2020                          San Lazaro Hospital (SLH)   \n",
       "3    April 2, 2020      Vicente Sotto Memorial Medical Center (VSMMC)   \n",
       "4    April 2, 2020          UP National Institutes of Health (UP-NIH)   \n",
       "..             ...                                                ...   \n",
       "651   May 12, 2020                     Chinese General Hospital (CGH)   \n",
       "652   May 12, 2020  Philippine Red Cross Logistics & Multipurpose ...   \n",
       "653   May 12, 2020                              Singapore Diagnostics   \n",
       "654   May 12, 2020  Lung Center of the Philippines GeneXpert Labor...   \n",
       "655   May 12, 2020  Zamboanga City Medical Center GeneXpert Labora...   \n",
       "\n",
       "    Abbrev of Health Facility Daily Output - Positive Individuals  \\\n",
       "0                        RITM                                 NaN   \n",
       "1                       BGHMC                                 NaN   \n",
       "2                         SLH                                 NaN   \n",
       "3                       VSMMC                                 NaN   \n",
       "4                      UP-NIH                                 NaN   \n",
       "..                        ...                                 ...   \n",
       "651                       CGH                                  22   \n",
       "652                      PLMC                                  30   \n",
       "653                       NaN                                   8   \n",
       "654                       NaN                                  13   \n",
       "655                      ZCMC                                  13   \n",
       "\n",
       "    Daily Output - Unique Individuals Tested  Daily Output - Tests Conducted  \\\n",
       "0                                         NaN                            NaN   \n",
       "1                                         NaN                            NaN   \n",
       "2                                         NaN                            NaN   \n",
       "3                                         NaN                            NaN   \n",
       "4                                         NaN                            NaN   \n",
       "..                                        ...                            ...   \n",
       "651                                       439                            439   \n",
       "652                                     2,158                          2,158   \n",
       "653                                        99                             99   \n",
       "654                                        42                             42   \n",
       "655                                        72                             72   \n",
       "\n",
       "    UNIQUE INDIVIDUALS TESTED POSITIVE INDIVIDUALS  \\\n",
       "0                      15,197                2,652   \n",
       "1                         473                   21   \n",
       "2                         115                   31   \n",
       "3                         672                   37   \n",
       "4                         332                   43   \n",
       "..                        ...                  ...   \n",
       "651                     3,272                  321   \n",
       "652                    14,754                  538   \n",
       "653                       351                   39   \n",
       "654                       243                   47   \n",
       "655                       295                   51   \n",
       "\n",
       "    % positive/ unique individuals NEGATIVE INDIVIDUALS  \\\n",
       "0                              17%               11,367   \n",
       "1                               4%                  452   \n",
       "2                              27%                   84   \n",
       "3                               6%                  634   \n",
       "4                              13%                  279   \n",
       "..                             ...                  ...   \n",
       "651                            10%                2,951   \n",
       "652                             4%               14,202   \n",
       "653                            11%                  312   \n",
       "654                            19%                  196   \n",
       "655                            17%                  243   \n",
       "\n",
       "    % negative/ unique individuals  EQUIVOCAL % equivocal /unique individuals  \\\n",
       "0                              75%         32                           0.20%   \n",
       "1                              96%          0                           0.00%   \n",
       "2                              73%          0                           0.00%   \n",
       "3                              94%          1                           0.10%   \n",
       "4                              84%         10                           3.00%   \n",
       "..                             ...        ...                             ...   \n",
       "651                            90%          0                           0.00%   \n",
       "652                            96%         14                           0.10%   \n",
       "653                            89%          0                           0.00%   \n",
       "654                            81%          0                           0.00%   \n",
       "655                            82%          1                           0.30%   \n",
       "\n",
       "     INVALID % invalid /unique individuals TOTAL TESTS CONDUCTED  \\\n",
       "0        NaN                           NaN                20,826   \n",
       "1        NaN                           NaN                   478   \n",
       "2        NaN                           NaN                   193   \n",
       "3        NaN                           NaN                   672   \n",
       "4        NaN                           NaN                   335   \n",
       "..       ...                           ...                   ...   \n",
       "651      0.0                         0.00%                 3,277   \n",
       "652      0.0                         0.00%                14,755   \n",
       "653      0.0                         0.00%                   352   \n",
       "654      0.0                             0                   243   \n",
       "655      0.0                             0                   298   \n",
       "\n",
       "    REMAINING AVAILABLE TESTS Unnamed: 17  \n",
       "0                      75,396         NaN  \n",
       "1                       4,519         NaN  \n",
       "2                       4,846         NaN  \n",
       "3                      23,812         NaN  \n",
       "4                       4,565         NaN  \n",
       "..                        ...         ...  \n",
       "651                         -         NaN  \n",
       "652                         -         NaN  \n",
       "653                     9,069         NaN  \n",
       "654                       894         NaN  \n",
       "655                       842         NaN  \n",
       "\n",
       "[656 rows x 18 columns]"
      ]
     },
     "execution_count": 4,
     "metadata": {},
     "output_type": "execute_result"
    }
   ],
   "source": [
    "df_cases"
   ]
  },
  {
   "cell_type": "code",
   "execution_count": 5,
   "id": "c5cc9286",
   "metadata": {},
   "outputs": [],
   "source": [
    "path_isolbed_o = './COVID-19_Cases_in_the_Philippines_Dataset/DOH Data Collect - Daily Reports'\n",
    "csv_isolbed_o = glob.glob(path_isolbed_o + \"/*.csv\")\n",
    "df_list_isolbed_o = (pd.read_csv(file) for file in csv_isolbed_o)"
   ]
  },
  {
   "cell_type": "code",
   "execution_count": 6,
   "id": "944403a5",
   "metadata": {},
   "outputs": [],
   "source": [
    "df_isolbed_o = pd.concat(df_list_isolbed_o, ignore_index=True)"
   ]
  },
  {
   "cell_type": "code",
   "execution_count": 7,
   "id": "b774bda2",
   "metadata": {},
   "outputs": [
    {
     "data": {
      "text/plain": [
       "Index(['updateddate', 'addeddate', 'reportdate', 'icu_np_o', 'beds_ward_v',\n",
       "       'isolbed_o', 'icu_wnp_v', 'hfhudcode', 'beds_ward_o', 'id',\n",
       "       'reporttime', 'icu_np_v', 'mechvent_o', 'mechvent_v', 'isolbed_v',\n",
       "       'icu_wnp_o', 'cfname', 'er_suspro', 'adm_suspro', 'er_confirm',\n",
       "       'adm_confirm', 'icu_o', 'icu_v'],\n",
       "      dtype='object')"
      ]
     },
     "execution_count": 7,
     "metadata": {},
     "output_type": "execute_result"
    }
   ],
   "source": [
    "df_isolbed_o.columns"
   ]
  },
  {
   "cell_type": "code",
   "execution_count": 2,
   "id": "92ac6f07",
   "metadata": {},
   "outputs": [],
   "source": [
    "path_surgmask = './COVID-19_Cases_in_the_Philippines_Dataset/DOH Data Collect - Weekly Reports'\n",
    "csv_surgmask = glob.glob(path_surgmask + \"/*.csv\")\n",
    "df_list_surgmask = (pd.read_csv(file) for file in csv_surgmask)"
   ]
  },
  {
   "cell_type": "code",
   "execution_count": 3,
   "id": "fa499d55",
   "metadata": {},
   "outputs": [],
   "source": [
    "df_surgmask = pd.concat(df_list_surgmask, ignore_index=True)"
   ]
  },
  {
   "cell_type": "code",
   "execution_count": 4,
   "id": "c5bdc48c",
   "metadata": {},
   "outputs": [
    {
     "data": {
      "text/plain": [
       "Index(['updateddate', 'addeddate', 'reportdate', 'goggles', 'mechvent_tech',\n",
       "       'icu_nurse', 'respthe', 'shoe_cover', 'pulmo', 'medtech', 'gloves',\n",
       "       'face_shield', 'resident', 'gown', 'hfhudcode', 'ic_specialist',\n",
       "       'n95mask', 'er_nurse', 'id_specialist', 'ward_nurse', 'id', 'surgmask',\n",
       "       'head_cover', 'cfname', 'coverall'],\n",
       "      dtype='object')"
      ]
     },
     "execution_count": 4,
     "metadata": {},
     "output_type": "execute_result"
    }
   ],
   "source": [
    "df_surgmask.columns"
   ]
  },
  {
   "cell_type": "code",
   "execution_count": 11,
   "id": "d5274b00",
   "metadata": {},
   "outputs": [],
   "source": [
    "df_health_status = pd.read_csv('./COVID-19_Cases_in_the_Philippines_Dataset/Case_Information.csv')"
   ]
  },
  {
   "cell_type": "code",
   "execution_count": 12,
   "id": "a6629b73",
   "metadata": {},
   "outputs": [
    {
     "data": {
      "text/plain": [
       "Index(['case_id', 'age', 'age_group', 'sex', 'date_announced',\n",
       "       'date_recovered', 'date_of_death', 'status',\n",
       "       'date_announced_as_removed', 'province', 'muni_city', 'health_status',\n",
       "       'home_quarantined', 'date_of_onset_of_symptoms', 'pregnant', 'region'],\n",
       "      dtype='object')"
      ]
     },
     "execution_count": 12,
     "metadata": {},
     "output_type": "execute_result"
    }
   ],
   "source": [
    "df_health_status.columns"
   ]
  },
  {
   "cell_type": "markdown",
   "id": "b76df6cc",
   "metadata": {},
   "source": [
    "## Predict Number of Positive Cases\n",
    "\n",
    "Use linear regression to predict the number of <i> positive individuals </i>\n",
    "\n",
    "Steps:\n",
    "1. Clean data and convert all values to int\n",
    "2. Create correlation matrix and visualize it. Choose factors with high correlation to <i>POSITIVE INDIVIDUALS</i>\n",
    "3. Create linear regression model and predict using x_test.\n",
    "4. Compare y_pred and y_test\n",
    "5. Evaluate model using R2, MSE, and RMSE\n"
   ]
  },
  {
   "cell_type": "code",
   "execution_count": 13,
   "id": "6b643a5a",
   "metadata": {},
   "outputs": [
    {
     "data": {
      "text/plain": [
       "Index(['Date', 'Name of Health Facility/Laboratory',\n",
       "       'Abbrev of Health Facility', 'Daily Output - Positive Individuals',\n",
       "       'Daily Output - Unique Individuals Tested ',\n",
       "       'Daily Output - Tests Conducted', 'UNIQUE INDIVIDUALS TESTED',\n",
       "       'POSITIVE INDIVIDUALS', '% positive/ unique individuals',\n",
       "       'NEGATIVE INDIVIDUALS', '% negative/ unique individuals', 'EQUIVOCAL',\n",
       "       '% equivocal /unique individuals', 'INVALID',\n",
       "       '% invalid /unique individuals', 'TOTAL TESTS CONDUCTED',\n",
       "       'REMAINING AVAILABLE TESTS', 'Unnamed: 17'],\n",
       "      dtype='object')"
      ]
     },
     "execution_count": 13,
     "metadata": {},
     "output_type": "execute_result"
    }
   ],
   "source": [
    "df_cases.columns"
   ]
  },
  {
   "cell_type": "code",
   "execution_count": 14,
   "id": "2767946d",
   "metadata": {},
   "outputs": [],
   "source": [
    "df_cases = df_cases.drop('Unnamed: 17', axis=1)"
   ]
  },
  {
   "cell_type": "code",
   "execution_count": 15,
   "id": "82921e77",
   "metadata": {},
   "outputs": [],
   "source": [
    "df_corr_cases = df_cases.drop(['Date', 'Name of Health Facility/Laboratory',\n",
    "       'Abbrev of Health Facility', '% positive/ unique individuals', '% negative/ unique individuals', '% equivocal /unique individuals', \n",
    "        '% invalid /unique individuals'], axis=1)"
   ]
  },
  {
   "cell_type": "code",
   "execution_count": 16,
   "id": "b2c658a7",
   "metadata": {},
   "outputs": [],
   "source": [
    "# replace NA data with 0\n",
    "df_corr_cases = df_corr_cases.fillna(0)"
   ]
  },
  {
   "cell_type": "code",
   "execution_count": 17,
   "id": "f6145a65",
   "metadata": {},
   "outputs": [
    {
     "data": {
      "text/plain": [
       "Daily Output - Positive Individuals           object\n",
       "Daily Output - Unique Individuals Tested      object\n",
       "Daily Output - Tests Conducted                object\n",
       "UNIQUE INDIVIDUALS TESTED                     object\n",
       "POSITIVE INDIVIDUALS                          object\n",
       "NEGATIVE INDIVIDUALS                          object\n",
       "EQUIVOCAL                                      int64\n",
       "INVALID                                      float64\n",
       "TOTAL TESTS CONDUCTED                         object\n",
       "REMAINING AVAILABLE TESTS                     object\n",
       "dtype: object"
      ]
     },
     "execution_count": 17,
     "metadata": {},
     "output_type": "execute_result"
    }
   ],
   "source": [
    "# check the types of each column\n",
    "df_corr_cases.dtypes"
   ]
  },
  {
   "cell_type": "code",
   "execution_count": 18,
   "id": "42cfdf16",
   "metadata": {},
   "outputs": [],
   "source": [
    "# the numbers in eahc column are in string format with commas. remove commas first to convert str to int\n",
    "df_corr_cases = df_corr_cases.replace(\",\", \"\", regex=True)"
   ]
  },
  {
   "cell_type": "code",
   "execution_count": 19,
   "id": "f3ebbb4f",
   "metadata": {},
   "outputs": [],
   "source": [
    "# this row has 'NR' as its values so dropped it\n",
    "df_corr_cases = df_corr_cases.drop(146)"
   ]
  },
  {
   "cell_type": "code",
   "execution_count": 20,
   "id": "6772a03c",
   "metadata": {},
   "outputs": [
    {
     "data": {
      "text/html": [
       "<div>\n",
       "<style scoped>\n",
       "    .dataframe tbody tr th:only-of-type {\n",
       "        vertical-align: middle;\n",
       "    }\n",
       "\n",
       "    .dataframe tbody tr th {\n",
       "        vertical-align: top;\n",
       "    }\n",
       "\n",
       "    .dataframe thead th {\n",
       "        text-align: right;\n",
       "    }\n",
       "</style>\n",
       "<table border=\"1\" class=\"dataframe\">\n",
       "  <thead>\n",
       "    <tr style=\"text-align: right;\">\n",
       "      <th></th>\n",
       "      <th>Daily Output - Positive Individuals</th>\n",
       "      <th>Daily Output - Unique Individuals Tested</th>\n",
       "      <th>Daily Output - Tests Conducted</th>\n",
       "      <th>UNIQUE INDIVIDUALS TESTED</th>\n",
       "      <th>POSITIVE INDIVIDUALS</th>\n",
       "      <th>NEGATIVE INDIVIDUALS</th>\n",
       "      <th>EQUIVOCAL</th>\n",
       "      <th>INVALID</th>\n",
       "      <th>TOTAL TESTS CONDUCTED</th>\n",
       "      <th>REMAINING AVAILABLE TESTS</th>\n",
       "    </tr>\n",
       "  </thead>\n",
       "  <tbody>\n",
       "    <tr>\n",
       "      <th>617</th>\n",
       "      <td>0</td>\n",
       "      <td>8</td>\n",
       "      <td>7</td>\n",
       "      <td>8</td>\n",
       "      <td>0</td>\n",
       "      <td>7</td>\n",
       "      <td>0</td>\n",
       "      <td>1.0</td>\n",
       "      <td>7</td>\n",
       "      <td>-</td>\n",
       "    </tr>\n",
       "    <tr>\n",
       "      <th>624</th>\n",
       "      <td>24</td>\n",
       "      <td>366</td>\n",
       "      <td>366</td>\n",
       "      <td>2833</td>\n",
       "      <td>299</td>\n",
       "      <td>2534</td>\n",
       "      <td>0</td>\n",
       "      <td>0.0</td>\n",
       "      <td>2838</td>\n",
       "      <td>-</td>\n",
       "    </tr>\n",
       "    <tr>\n",
       "      <th>644</th>\n",
       "      <td>0</td>\n",
       "      <td>16</td>\n",
       "      <td>17</td>\n",
       "      <td>16</td>\n",
       "      <td>0</td>\n",
       "      <td>24</td>\n",
       "      <td>0</td>\n",
       "      <td>0.0</td>\n",
       "      <td>24</td>\n",
       "      <td>-</td>\n",
       "    </tr>\n",
       "    <tr>\n",
       "      <th>651</th>\n",
       "      <td>22</td>\n",
       "      <td>439</td>\n",
       "      <td>439</td>\n",
       "      <td>3272</td>\n",
       "      <td>321</td>\n",
       "      <td>2951</td>\n",
       "      <td>0</td>\n",
       "      <td>0.0</td>\n",
       "      <td>3277</td>\n",
       "      <td>-</td>\n",
       "    </tr>\n",
       "    <tr>\n",
       "      <th>652</th>\n",
       "      <td>30</td>\n",
       "      <td>2158</td>\n",
       "      <td>2158</td>\n",
       "      <td>14754</td>\n",
       "      <td>538</td>\n",
       "      <td>14202</td>\n",
       "      <td>14</td>\n",
       "      <td>0.0</td>\n",
       "      <td>14755</td>\n",
       "      <td>-</td>\n",
       "    </tr>\n",
       "  </tbody>\n",
       "</table>\n",
       "</div>"
      ],
      "text/plain": [
       "    Daily Output - Positive Individuals  \\\n",
       "617                                   0   \n",
       "624                                  24   \n",
       "644                                   0   \n",
       "651                                  22   \n",
       "652                                  30   \n",
       "\n",
       "    Daily Output - Unique Individuals Tested  Daily Output - Tests Conducted  \\\n",
       "617                                         8                              7   \n",
       "624                                       366                            366   \n",
       "644                                        16                             17   \n",
       "651                                       439                            439   \n",
       "652                                      2158                           2158   \n",
       "\n",
       "    UNIQUE INDIVIDUALS TESTED POSITIVE INDIVIDUALS NEGATIVE INDIVIDUALS  \\\n",
       "617                         8                    0                    7   \n",
       "624                      2833                  299                 2534   \n",
       "644                        16                    0                   24   \n",
       "651                      3272                  321                 2951   \n",
       "652                     14754                  538                14202   \n",
       "\n",
       "     EQUIVOCAL  INVALID TOTAL TESTS CONDUCTED REMAINING AVAILABLE TESTS  \n",
       "617          0      1.0                     7                         -  \n",
       "624          0      0.0                  2838                         -  \n",
       "644          0      0.0                    24                         -  \n",
       "651          0      0.0                  3277                         -  \n",
       "652         14      0.0                 14755                         -  "
      ]
     },
     "execution_count": 20,
     "metadata": {},
     "output_type": "execute_result"
    }
   ],
   "source": [
    "# some rows have '-' as their value in REMAINING AVAILABLE TESTS so replace them with 0\n",
    "df_corr_cases.loc[df_corr_cases['REMAINING AVAILABLE TESTS'] == '-']"
   ]
  },
  {
   "cell_type": "code",
   "execution_count": 21,
   "id": "f69e2c5d",
   "metadata": {},
   "outputs": [],
   "source": [
    "df_corr_cases = df_corr_cases.replace(\"-\", \"0\")"
   ]
  },
  {
   "cell_type": "code",
   "execution_count": 22,
   "id": "cb5be709",
   "metadata": {},
   "outputs": [],
   "source": [
    "# now change all values in the dataframe to int\n",
    "df_corr_cases = df_corr_cases.astype(int)"
   ]
  },
  {
   "cell_type": "code",
   "execution_count": 23,
   "id": "a3fcd4ad",
   "metadata": {},
   "outputs": [
    {
     "data": {
      "text/plain": [
       "Daily Output - Positive Individuals          int32\n",
       "Daily Output - Unique Individuals Tested     int32\n",
       "Daily Output - Tests Conducted               int32\n",
       "UNIQUE INDIVIDUALS TESTED                    int32\n",
       "POSITIVE INDIVIDUALS                         int32\n",
       "NEGATIVE INDIVIDUALS                         int32\n",
       "EQUIVOCAL                                    int32\n",
       "INVALID                                      int32\n",
       "TOTAL TESTS CONDUCTED                        int32\n",
       "REMAINING AVAILABLE TESTS                    int32\n",
       "dtype: object"
      ]
     },
     "execution_count": 23,
     "metadata": {},
     "output_type": "execute_result"
    }
   ],
   "source": [
    "# types have now changed to int\n",
    "df_corr_cases.dtypes"
   ]
  },
  {
   "cell_type": "code",
   "execution_count": 24,
   "id": "8a230012",
   "metadata": {},
   "outputs": [
    {
     "data": {
      "text/html": [
       "<div>\n",
       "<style scoped>\n",
       "    .dataframe tbody tr th:only-of-type {\n",
       "        vertical-align: middle;\n",
       "    }\n",
       "\n",
       "    .dataframe tbody tr th {\n",
       "        vertical-align: top;\n",
       "    }\n",
       "\n",
       "    .dataframe thead th {\n",
       "        text-align: right;\n",
       "    }\n",
       "</style>\n",
       "<table border=\"1\" class=\"dataframe\">\n",
       "  <thead>\n",
       "    <tr style=\"text-align: right;\">\n",
       "      <th></th>\n",
       "      <th>Daily Output - Positive Individuals</th>\n",
       "      <th>Daily Output - Unique Individuals Tested</th>\n",
       "      <th>Daily Output - Tests Conducted</th>\n",
       "      <th>UNIQUE INDIVIDUALS TESTED</th>\n",
       "      <th>POSITIVE INDIVIDUALS</th>\n",
       "      <th>NEGATIVE INDIVIDUALS</th>\n",
       "      <th>EQUIVOCAL</th>\n",
       "      <th>INVALID</th>\n",
       "      <th>TOTAL TESTS CONDUCTED</th>\n",
       "      <th>REMAINING AVAILABLE TESTS</th>\n",
       "    </tr>\n",
       "  </thead>\n",
       "  <tbody>\n",
       "    <tr>\n",
       "      <th>Daily Output - Positive Individuals</th>\n",
       "      <td>1.000000</td>\n",
       "      <td>0.658014</td>\n",
       "      <td>0.671802</td>\n",
       "      <td>0.476077</td>\n",
       "      <td>0.514300</td>\n",
       "      <td>0.465780</td>\n",
       "      <td>0.251123</td>\n",
       "      <td>0.081320</td>\n",
       "      <td>0.467161</td>\n",
       "      <td>0.196757</td>\n",
       "    </tr>\n",
       "    <tr>\n",
       "      <th>Daily Output - Unique Individuals Tested</th>\n",
       "      <td>0.658014</td>\n",
       "      <td>1.000000</td>\n",
       "      <td>0.990812</td>\n",
       "      <td>0.644753</td>\n",
       "      <td>0.567148</td>\n",
       "      <td>0.655022</td>\n",
       "      <td>0.200055</td>\n",
       "      <td>0.064238</td>\n",
       "      <td>0.625036</td>\n",
       "      <td>0.364163</td>\n",
       "    </tr>\n",
       "    <tr>\n",
       "      <th>Daily Output - Tests Conducted</th>\n",
       "      <td>0.671802</td>\n",
       "      <td>0.990812</td>\n",
       "      <td>1.000000</td>\n",
       "      <td>0.701332</td>\n",
       "      <td>0.629663</td>\n",
       "      <td>0.710170</td>\n",
       "      <td>0.212423</td>\n",
       "      <td>0.067451</td>\n",
       "      <td>0.683453</td>\n",
       "      <td>0.377935</td>\n",
       "    </tr>\n",
       "    <tr>\n",
       "      <th>UNIQUE INDIVIDUALS TESTED</th>\n",
       "      <td>0.476077</td>\n",
       "      <td>0.644753</td>\n",
       "      <td>0.701332</td>\n",
       "      <td>1.000000</td>\n",
       "      <td>0.970181</td>\n",
       "      <td>0.998950</td>\n",
       "      <td>0.294263</td>\n",
       "      <td>0.068177</td>\n",
       "      <td>0.999053</td>\n",
       "      <td>0.596016</td>\n",
       "    </tr>\n",
       "    <tr>\n",
       "      <th>POSITIVE INDIVIDUALS</th>\n",
       "      <td>0.514300</td>\n",
       "      <td>0.567148</td>\n",
       "      <td>0.629663</td>\n",
       "      <td>0.970181</td>\n",
       "      <td>1.000000</td>\n",
       "      <td>0.958205</td>\n",
       "      <td>0.332230</td>\n",
       "      <td>0.059700</td>\n",
       "      <td>0.975383</td>\n",
       "      <td>0.538851</td>\n",
       "    </tr>\n",
       "    <tr>\n",
       "      <th>NEGATIVE INDIVIDUALS</th>\n",
       "      <td>0.465780</td>\n",
       "      <td>0.655022</td>\n",
       "      <td>0.710170</td>\n",
       "      <td>0.998950</td>\n",
       "      <td>0.958205</td>\n",
       "      <td>1.000000</td>\n",
       "      <td>0.281079</td>\n",
       "      <td>0.065034</td>\n",
       "      <td>0.996830</td>\n",
       "      <td>0.602826</td>\n",
       "    </tr>\n",
       "    <tr>\n",
       "      <th>EQUIVOCAL</th>\n",
       "      <td>0.251123</td>\n",
       "      <td>0.200055</td>\n",
       "      <td>0.212423</td>\n",
       "      <td>0.294263</td>\n",
       "      <td>0.332230</td>\n",
       "      <td>0.281079</td>\n",
       "      <td>1.000000</td>\n",
       "      <td>0.752341</td>\n",
       "      <td>0.290951</td>\n",
       "      <td>0.104416</td>\n",
       "    </tr>\n",
       "    <tr>\n",
       "      <th>INVALID</th>\n",
       "      <td>0.081320</td>\n",
       "      <td>0.064238</td>\n",
       "      <td>0.067451</td>\n",
       "      <td>0.068177</td>\n",
       "      <td>0.059700</td>\n",
       "      <td>0.065034</td>\n",
       "      <td>0.752341</td>\n",
       "      <td>1.000000</td>\n",
       "      <td>0.063102</td>\n",
       "      <td>-0.019909</td>\n",
       "    </tr>\n",
       "    <tr>\n",
       "      <th>TOTAL TESTS CONDUCTED</th>\n",
       "      <td>0.467161</td>\n",
       "      <td>0.625036</td>\n",
       "      <td>0.683453</td>\n",
       "      <td>0.999053</td>\n",
       "      <td>0.975383</td>\n",
       "      <td>0.996830</td>\n",
       "      <td>0.290951</td>\n",
       "      <td>0.063102</td>\n",
       "      <td>1.000000</td>\n",
       "      <td>0.598473</td>\n",
       "    </tr>\n",
       "    <tr>\n",
       "      <th>REMAINING AVAILABLE TESTS</th>\n",
       "      <td>0.196757</td>\n",
       "      <td>0.364163</td>\n",
       "      <td>0.377935</td>\n",
       "      <td>0.596016</td>\n",
       "      <td>0.538851</td>\n",
       "      <td>0.602826</td>\n",
       "      <td>0.104416</td>\n",
       "      <td>-0.019909</td>\n",
       "      <td>0.598473</td>\n",
       "      <td>1.000000</td>\n",
       "    </tr>\n",
       "  </tbody>\n",
       "</table>\n",
       "</div>"
      ],
      "text/plain": [
       "                                           Daily Output - Positive Individuals  \\\n",
       "Daily Output - Positive Individuals                                   1.000000   \n",
       "Daily Output - Unique Individuals Tested                              0.658014   \n",
       "Daily Output - Tests Conducted                                        0.671802   \n",
       "UNIQUE INDIVIDUALS TESTED                                             0.476077   \n",
       "POSITIVE INDIVIDUALS                                                  0.514300   \n",
       "NEGATIVE INDIVIDUALS                                                  0.465780   \n",
       "EQUIVOCAL                                                             0.251123   \n",
       "INVALID                                                               0.081320   \n",
       "TOTAL TESTS CONDUCTED                                                 0.467161   \n",
       "REMAINING AVAILABLE TESTS                                             0.196757   \n",
       "\n",
       "                                           Daily Output - Unique Individuals Tested   \\\n",
       "Daily Output - Positive Individuals                                         0.658014   \n",
       "Daily Output - Unique Individuals Tested                                    1.000000   \n",
       "Daily Output - Tests Conducted                                              0.990812   \n",
       "UNIQUE INDIVIDUALS TESTED                                                   0.644753   \n",
       "POSITIVE INDIVIDUALS                                                        0.567148   \n",
       "NEGATIVE INDIVIDUALS                                                        0.655022   \n",
       "EQUIVOCAL                                                                   0.200055   \n",
       "INVALID                                                                     0.064238   \n",
       "TOTAL TESTS CONDUCTED                                                       0.625036   \n",
       "REMAINING AVAILABLE TESTS                                                   0.364163   \n",
       "\n",
       "                                           Daily Output - Tests Conducted  \\\n",
       "Daily Output - Positive Individuals                              0.671802   \n",
       "Daily Output - Unique Individuals Tested                         0.990812   \n",
       "Daily Output - Tests Conducted                                   1.000000   \n",
       "UNIQUE INDIVIDUALS TESTED                                        0.701332   \n",
       "POSITIVE INDIVIDUALS                                             0.629663   \n",
       "NEGATIVE INDIVIDUALS                                             0.710170   \n",
       "EQUIVOCAL                                                        0.212423   \n",
       "INVALID                                                          0.067451   \n",
       "TOTAL TESTS CONDUCTED                                            0.683453   \n",
       "REMAINING AVAILABLE TESTS                                        0.377935   \n",
       "\n",
       "                                           UNIQUE INDIVIDUALS TESTED  \\\n",
       "Daily Output - Positive Individuals                         0.476077   \n",
       "Daily Output - Unique Individuals Tested                    0.644753   \n",
       "Daily Output - Tests Conducted                              0.701332   \n",
       "UNIQUE INDIVIDUALS TESTED                                   1.000000   \n",
       "POSITIVE INDIVIDUALS                                        0.970181   \n",
       "NEGATIVE INDIVIDUALS                                        0.998950   \n",
       "EQUIVOCAL                                                   0.294263   \n",
       "INVALID                                                     0.068177   \n",
       "TOTAL TESTS CONDUCTED                                       0.999053   \n",
       "REMAINING AVAILABLE TESTS                                   0.596016   \n",
       "\n",
       "                                           POSITIVE INDIVIDUALS  \\\n",
       "Daily Output - Positive Individuals                    0.514300   \n",
       "Daily Output - Unique Individuals Tested               0.567148   \n",
       "Daily Output - Tests Conducted                         0.629663   \n",
       "UNIQUE INDIVIDUALS TESTED                              0.970181   \n",
       "POSITIVE INDIVIDUALS                                   1.000000   \n",
       "NEGATIVE INDIVIDUALS                                   0.958205   \n",
       "EQUIVOCAL                                              0.332230   \n",
       "INVALID                                                0.059700   \n",
       "TOTAL TESTS CONDUCTED                                  0.975383   \n",
       "REMAINING AVAILABLE TESTS                              0.538851   \n",
       "\n",
       "                                           NEGATIVE INDIVIDUALS  EQUIVOCAL  \\\n",
       "Daily Output - Positive Individuals                    0.465780   0.251123   \n",
       "Daily Output - Unique Individuals Tested               0.655022   0.200055   \n",
       "Daily Output - Tests Conducted                         0.710170   0.212423   \n",
       "UNIQUE INDIVIDUALS TESTED                              0.998950   0.294263   \n",
       "POSITIVE INDIVIDUALS                                   0.958205   0.332230   \n",
       "NEGATIVE INDIVIDUALS                                   1.000000   0.281079   \n",
       "EQUIVOCAL                                              0.281079   1.000000   \n",
       "INVALID                                                0.065034   0.752341   \n",
       "TOTAL TESTS CONDUCTED                                  0.996830   0.290951   \n",
       "REMAINING AVAILABLE TESTS                              0.602826   0.104416   \n",
       "\n",
       "                                            INVALID  TOTAL TESTS CONDUCTED  \\\n",
       "Daily Output - Positive Individuals        0.081320               0.467161   \n",
       "Daily Output - Unique Individuals Tested   0.064238               0.625036   \n",
       "Daily Output - Tests Conducted             0.067451               0.683453   \n",
       "UNIQUE INDIVIDUALS TESTED                  0.068177               0.999053   \n",
       "POSITIVE INDIVIDUALS                       0.059700               0.975383   \n",
       "NEGATIVE INDIVIDUALS                       0.065034               0.996830   \n",
       "EQUIVOCAL                                  0.752341               0.290951   \n",
       "INVALID                                    1.000000               0.063102   \n",
       "TOTAL TESTS CONDUCTED                      0.063102               1.000000   \n",
       "REMAINING AVAILABLE TESTS                 -0.019909               0.598473   \n",
       "\n",
       "                                           REMAINING AVAILABLE TESTS  \n",
       "Daily Output - Positive Individuals                         0.196757  \n",
       "Daily Output - Unique Individuals Tested                    0.364163  \n",
       "Daily Output - Tests Conducted                              0.377935  \n",
       "UNIQUE INDIVIDUALS TESTED                                   0.596016  \n",
       "POSITIVE INDIVIDUALS                                        0.538851  \n",
       "NEGATIVE INDIVIDUALS                                        0.602826  \n",
       "EQUIVOCAL                                                   0.104416  \n",
       "INVALID                                                    -0.019909  \n",
       "TOTAL TESTS CONDUCTED                                       0.598473  \n",
       "REMAINING AVAILABLE TESTS                                   1.000000  "
      ]
     },
     "execution_count": 24,
     "metadata": {},
     "output_type": "execute_result"
    }
   ],
   "source": [
    "# calculate correlation values of each column with each other to find the columns we can use\n",
    "df_corr_cases.corr()"
   ]
  },
  {
   "cell_type": "code",
   "execution_count": 25,
   "id": "9491d2d8",
   "metadata": {},
   "outputs": [
    {
     "data": {
      "text/plain": [
       "<AxesSubplot:>"
      ]
     },
     "execution_count": 25,
     "metadata": {},
     "output_type": "execute_result"
    },
    {
     "data": {
      "image/png": "[encoded data removed]",
      "text/plain": [
       "<Figure size 648x504 with 2 Axes>"
      ]
     },
     "metadata": {
      "needs_background": "light"
     },
     "output_type": "display_data"
    }
   ],
   "source": [
    "# Correlation heatmap\n",
    "\n",
    "# Set up the matplotlib figure\n",
    "f, ax = plt.subplots(figsize=(9, 7))\n",
    "\n",
    "# Generate a custom diverging colormap\n",
    "cmap = sns.diverging_palette(230, 10, as_cmap=True)\n",
    "\n",
    "# Draw the heatmap with the mask and correct aspect ratio\n",
    "sns.heatmap(df_corr_cases.corr(), cmap=cmap, vmax=.9, square=True, linewidths=.5, ax=ax)"
   ]
  },
  {
   "cell_type": "code",
   "execution_count": 26,
   "id": "da2468ba",
   "metadata": {},
   "outputs": [
    {
     "data": {
      "text/plain": [
       "<seaborn.axisgrid.PairGrid at 0x1e6817eb7f0>"
      ]
     },
     "execution_count": 26,
     "metadata": {},
     "output_type": "execute_result"
    },
    {
     "data": {
      "image/png": "[encoded data removed]",
      "text/plain": [
       "<Figure size 1512x504 with 3 Axes>"
      ]
     },
     "metadata": {
      "needs_background": "light"
     },
     "output_type": "display_data"
    }
   ],
   "source": [
    "# visualize the relationship of the 3 predictors and positive individuals\n",
    "sns.pairplot(df_corr_cases, x_vars=['UNIQUE INDIVIDUALS TESTED', 'NEGATIVE INDIVIDUALS', 'TOTAL TESTS CONDUCTED'], y_vars='POSITIVE INDIVIDUALS', height=7,aspect=1,kind='reg')"
   ]
  },
  {
   "cell_type": "markdown",
   "id": "ed061e1a",
   "metadata": {},
   "source": [
    "To predict the number positive individuals, we will use the predictors that scored over 90% on the correlation matrix which are: unique individuals tested, negative individuals, and total tests conducted."
   ]
  },
  {
   "cell_type": "code",
   "execution_count": 27,
   "id": "8dbb8b72",
   "metadata": {},
   "outputs": [
    {
     "data": {
      "text/html": [
       "<div>\n",
       "<style scoped>\n",
       "    .dataframe tbody tr th:only-of-type {\n",
       "        vertical-align: middle;\n",
       "    }\n",
       "\n",
       "    .dataframe tbody tr th {\n",
       "        vertical-align: top;\n",
       "    }\n",
       "\n",
       "    .dataframe thead th {\n",
       "        text-align: right;\n",
       "    }\n",
       "</style>\n",
       "<table border=\"1\" class=\"dataframe\">\n",
       "  <thead>\n",
       "    <tr style=\"text-align: right;\">\n",
       "      <th></th>\n",
       "      <th>UNIQUE INDIVIDUALS TESTED</th>\n",
       "      <th>NEGATIVE INDIVIDUALS</th>\n",
       "      <th>TOTAL TESTS CONDUCTED</th>\n",
       "    </tr>\n",
       "  </thead>\n",
       "  <tbody>\n",
       "    <tr>\n",
       "      <th>0</th>\n",
       "      <td>15197</td>\n",
       "      <td>11367</td>\n",
       "      <td>20826</td>\n",
       "    </tr>\n",
       "    <tr>\n",
       "      <th>1</th>\n",
       "      <td>473</td>\n",
       "      <td>452</td>\n",
       "      <td>478</td>\n",
       "    </tr>\n",
       "    <tr>\n",
       "      <th>2</th>\n",
       "      <td>115</td>\n",
       "      <td>84</td>\n",
       "      <td>193</td>\n",
       "    </tr>\n",
       "    <tr>\n",
       "      <th>3</th>\n",
       "      <td>672</td>\n",
       "      <td>634</td>\n",
       "      <td>672</td>\n",
       "    </tr>\n",
       "    <tr>\n",
       "      <th>4</th>\n",
       "      <td>332</td>\n",
       "      <td>279</td>\n",
       "      <td>335</td>\n",
       "    </tr>\n",
       "  </tbody>\n",
       "</table>\n",
       "</div>"
      ],
      "text/plain": [
       "   UNIQUE INDIVIDUALS TESTED  NEGATIVE INDIVIDUALS  TOTAL TESTS CONDUCTED\n",
       "0                      15197                 11367                  20826\n",
       "1                        473                   452                    478\n",
       "2                        115                    84                    193\n",
       "3                        672                   634                    672\n",
       "4                        332                   279                    335"
      ]
     },
     "execution_count": 27,
     "metadata": {},
     "output_type": "execute_result"
    }
   ],
   "source": [
    "x = df_corr_cases[['UNIQUE INDIVIDUALS TESTED', 'NEGATIVE INDIVIDUALS', 'TOTAL TESTS CONDUCTED']]\n",
    "x.head(5)"
   ]
  },
  {
   "cell_type": "code",
   "execution_count": 28,
   "id": "fbf6ec74",
   "metadata": {},
   "outputs": [
    {
     "data": {
      "text/plain": [
       "0    2652\n",
       "1      21\n",
       "2      31\n",
       "3      37\n",
       "4      43\n",
       "Name: POSITIVE INDIVIDUALS, dtype: int32"
      ]
     },
     "execution_count": 28,
     "metadata": {},
     "output_type": "execute_result"
    }
   ],
   "source": [
    "y = df_corr_cases['POSITIVE INDIVIDUALS']\n",
    "y.head(5)"
   ]
  },
  {
   "cell_type": "code",
   "execution_count": 29,
   "id": "37af2416",
   "metadata": {},
   "outputs": [],
   "source": [
    "# separate into training and testing\n",
    "x_train, x_test, y_train, y_test = train_test_split(x, y, test_size = 0.15)"
   ]
  },
  {
   "cell_type": "code",
   "execution_count": 30,
   "id": "0beeec9d",
   "metadata": {},
   "outputs": [],
   "source": [
    "# make and fit linear regression model\n",
    "model = LinearRegression().fit(x_train, y_train)"
   ]
  },
  {
   "cell_type": "code",
   "execution_count": 31,
   "id": "c3e024c0",
   "metadata": {},
   "outputs": [],
   "source": [
    "# predictions by the model\n",
    "y_pred = model.predict(x_test)"
   ]
  },
  {
   "cell_type": "code",
   "execution_count": 32,
   "id": "b8dc38c6",
   "metadata": {},
   "outputs": [
    {
     "data": {
      "text/plain": [
       "-6.084578183810208"
      ]
     },
     "execution_count": 32,
     "metadata": {},
     "output_type": "execute_result"
    }
   ],
   "source": [
    "# intercept\n",
    "model.intercept_"
   ]
  },
  {
   "cell_type": "code",
   "execution_count": 33,
   "id": "0bec33ff",
   "metadata": {},
   "outputs": [
    {
     "data": {
      "text/plain": [
       "array([ 0.94246098, -0.96600027,  0.02393471])"
      ]
     },
     "execution_count": 33,
     "metadata": {},
     "output_type": "execute_result"
    }
   ],
   "source": [
    "# coefficients\n",
    "model.coef_"
   ]
  },
  {
   "cell_type": "code",
   "execution_count": 34,
   "id": "087caf61",
   "metadata": {},
   "outputs": [
    {
     "data": {
      "text/plain": [
       "0.9937439536444714"
      ]
     },
     "execution_count": 34,
     "metadata": {},
     "output_type": "execute_result"
    }
   ],
   "source": [
    "# coefficient of determination (r2)\n",
    "model.score(x_test, y_test)"
   ]
  },
  {
   "cell_type": "code",
   "execution_count": 35,
   "id": "5dc42fe7",
   "metadata": {},
   "outputs": [
    {
     "data": {
      "text/plain": [
       "15656.563171926233"
      ]
     },
     "execution_count": 35,
     "metadata": {},
     "output_type": "execute_result"
    }
   ],
   "source": [
    "MSE = mean_squared_error(y_pred, y_test)\n",
    "MSE"
   ]
  },
  {
   "cell_type": "code",
   "execution_count": 36,
   "id": "95236bec",
   "metadata": {},
   "outputs": [
    {
     "data": {
      "text/plain": [
       "125.12618899305706"
      ]
     },
     "execution_count": 36,
     "metadata": {},
     "output_type": "execute_result"
    }
   ],
   "source": [
    "RMSE = sqrt(MSE)\n",
    "RMSE"
   ]
  },
  {
   "cell_type": "code",
   "execution_count": 37,
   "id": "09d2502e",
   "metadata": {},
   "outputs": [
    {
     "data": {
      "image/png": "[encoded data removed]",
      "text/plain": [
       "<Figure size 720x360 with 1 Axes>"
      ]
     },
     "metadata": {
      "needs_background": "light"
     },
     "output_type": "display_data"
    }
   ],
   "source": [
    "plt.figure(figsize=(10, 5))\n",
    "plt.scatter(y_pred, y_test, color ='r')\n",
    "plt.xlabel('Predicted')\n",
    "plt.ylabel('Actual')\n",
    "plt.show()"
   ]
  },
  {
   "cell_type": "code",
   "execution_count": 38,
   "id": "50f8f48f",
   "metadata": {},
   "outputs": [
    {
     "data": {
      "image/png": "[encoded data removed]",
      "text/plain": [
       "<Figure size 720x360 with 1 Axes>"
      ]
     },
     "metadata": {
      "needs_background": "light"
     },
     "output_type": "display_data"
    }
   ],
   "source": [
    "# plot of y_test with unique individuals test (b) vs y_pred with unique individuals test (r)\n",
    "plt.figure(figsize=(10, 5))\n",
    "plt.scatter(x_test['UNIQUE INDIVIDUALS TESTED'], y_test, color ='b')\n",
    "plt.scatter(x_test['UNIQUE INDIVIDUALS TESTED'], y_pred, color ='r')\n",
    "#plt.plot(y_pred, color ='k')\n",
    "  \n",
    "plt.show()"
   ]
  },
  {
   "cell_type": "markdown",
   "id": "080d7ea7",
   "metadata": {},
   "source": [
    "<b>Model: </b> -6.086 + 0.942(Unique Individuals Tested) - 0.966(Negative Individuals) + 0.024(Total Tests Conducted) \n",
    "\n",
    "\n",
    "The model was able to get 99.4% as the coefficient of determination score. The MSE of the model is 15656.56 and the RMSE is 125.13.\n",
    "\n",
    "note: values change every run of this notebook"
   ]
  },
  {
   "cell_type": "code",
   "execution_count": null,
   "id": "56d73862",
   "metadata": {},
   "outputs": [],
   "source": []
  },
  {
   "cell_type": "markdown",
   "id": "3b999131",
   "metadata": {},
   "source": [
    "## Predict Number of Isolation Beds - Benjie\n",
    "- use logistic regression to predict number of isolation beds\n",
    "- choose which factors strongly affect isolbed_o and use thos in the regression "
   ]
  },
  {
   "cell_type": "code",
   "execution_count": null,
   "id": "fc33a5fa",
   "metadata": {},
   "outputs": [],
   "source": []
  },
  {
   "cell_type": "code",
   "execution_count": null,
   "id": "559dd952",
   "metadata": {},
   "outputs": [],
   "source": []
  },
  {
   "cell_type": "code",
   "execution_count": null,
   "id": "69bb5ab7",
   "metadata": {},
   "outputs": [],
   "source": []
  },
  {
   "cell_type": "code",
   "execution_count": null,
   "id": "9d569ec9",
   "metadata": {},
   "outputs": [],
   "source": []
  },
  {
   "cell_type": "markdown",
   "id": "1b5ac0c0",
   "metadata": {},
   "source": [
    "## Predict Number of Surgical Masks - Pam\n",
    "- use logistic regression to predict number of isolation beds\n",
    "- choose which factors strongly affect isolbed_o and use thos in the regression "
   ]
  },
  {
   "cell_type": "code",
   "execution_count": 18,
   "id": "6e80597b",
   "metadata": {},
   "outputs": [
    {
     "data": {
      "text/plain": [
       "Index(['updateddate', 'addeddate', 'reportdate', 'goggles', 'mechvent_tech',\n",
       "       'icu_nurse', 'respthe', 'shoe_cover', 'pulmo', 'medtech', 'gloves',\n",
       "       'face_shield', 'resident', 'gown', 'hfhudcode', 'ic_specialist',\n",
       "       'n95mask', 'er_nurse', 'id_specialist', 'ward_nurse', 'id', 'surgmask',\n",
       "       'head_cover', 'cfname', 'coverall'],\n",
       "      dtype='object')"
      ]
     },
     "execution_count": 18,
     "metadata": {},
     "output_type": "execute_result"
    }
   ],
   "source": [
    "df_surgmask.columns"
   ]
  },
  {
   "cell_type": "code",
   "execution_count": 19,
   "id": "fc4c26e0",
   "metadata": {},
   "outputs": [],
   "source": [
    "df_corr_surgmask = df_surgmask.drop(['updateddate', 'addeddate','reportdate', 'hfhudcode','id','cfname', 'ic_specialist'], axis=1)"
   ]
  },
  {
   "cell_type": "code",
   "execution_count": 20,
   "id": "ff1d69ed",
   "metadata": {},
   "outputs": [],
   "source": [
    "# replace NA data with 0\n",
    "df_corr_surgmask = df_corr_surgmask.fillna(0)"
   ]
  },
  {
   "cell_type": "code",
   "execution_count": 21,
   "id": "8bf4b6b6",
   "metadata": {},
   "outputs": [
    {
     "data": {
      "text/plain": [
       "goggles            int64\n",
       "mechvent_tech    float64\n",
       "icu_nurse        float64\n",
       "respthe          float64\n",
       "shoe_cover         int64\n",
       "pulmo            float64\n",
       "medtech          float64\n",
       "gloves             int64\n",
       "face_shield        int64\n",
       "resident         float64\n",
       "gown               int64\n",
       "n95mask            int64\n",
       "er_nurse         float64\n",
       "id_specialist    float64\n",
       "ward_nurse        object\n",
       "surgmask           int64\n",
       "head_cover         int64\n",
       "coverall         float64\n",
       "dtype: object"
      ]
     },
     "execution_count": 21,
     "metadata": {},
     "output_type": "execute_result"
    }
   ],
   "source": [
    "df_corr_surgmask.dtypes"
   ]
  },
  {
   "cell_type": "code",
   "execution_count": 22,
   "id": "f3ab2edb",
   "metadata": {
    "scrolled": false
   },
   "outputs": [
    {
     "data": {
      "text/html": [
       "<div>\n",
       "<style scoped>\n",
       "    .dataframe tbody tr th:only-of-type {\n",
       "        vertical-align: middle;\n",
       "    }\n",
       "\n",
       "    .dataframe tbody tr th {\n",
       "        vertical-align: top;\n",
       "    }\n",
       "\n",
       "    .dataframe thead th {\n",
       "        text-align: right;\n",
       "    }\n",
       "</style>\n",
       "<table border=\"1\" class=\"dataframe\">\n",
       "  <thead>\n",
       "    <tr style=\"text-align: right;\">\n",
       "      <th></th>\n",
       "      <th>goggles</th>\n",
       "      <th>mechvent_tech</th>\n",
       "      <th>icu_nurse</th>\n",
       "      <th>respthe</th>\n",
       "      <th>shoe_cover</th>\n",
       "      <th>pulmo</th>\n",
       "      <th>medtech</th>\n",
       "      <th>gloves</th>\n",
       "      <th>face_shield</th>\n",
       "      <th>resident</th>\n",
       "      <th>gown</th>\n",
       "      <th>n95mask</th>\n",
       "      <th>er_nurse</th>\n",
       "      <th>id_specialist</th>\n",
       "      <th>surgmask</th>\n",
       "      <th>head_cover</th>\n",
       "      <th>coverall</th>\n",
       "    </tr>\n",
       "  </thead>\n",
       "  <tbody>\n",
       "    <tr>\n",
       "      <th>goggles</th>\n",
       "      <td>1.000000</td>\n",
       "      <td>0.002281</td>\n",
       "      <td>0.110391</td>\n",
       "      <td>0.072018</td>\n",
       "      <td>0.620708</td>\n",
       "      <td>0.035201</td>\n",
       "      <td>0.135892</td>\n",
       "      <td>0.430278</td>\n",
       "      <td>0.774090</td>\n",
       "      <td>0.035234</td>\n",
       "      <td>0.289205</td>\n",
       "      <td>0.343275</td>\n",
       "      <td>0.117407</td>\n",
       "      <td>0.087156</td>\n",
       "      <td>0.432796</td>\n",
       "      <td>0.280481</td>\n",
       "      <td>0.744519</td>\n",
       "    </tr>\n",
       "    <tr>\n",
       "      <th>mechvent_tech</th>\n",
       "      <td>0.002281</td>\n",
       "      <td>1.000000</td>\n",
       "      <td>0.458635</td>\n",
       "      <td>0.552305</td>\n",
       "      <td>0.019530</td>\n",
       "      <td>0.469743</td>\n",
       "      <td>0.372136</td>\n",
       "      <td>-0.003397</td>\n",
       "      <td>0.001506</td>\n",
       "      <td>0.647545</td>\n",
       "      <td>0.002559</td>\n",
       "      <td>-0.003690</td>\n",
       "      <td>0.430137</td>\n",
       "      <td>0.396681</td>\n",
       "      <td>-0.005699</td>\n",
       "      <td>0.014331</td>\n",
       "      <td>-0.006729</td>\n",
       "    </tr>\n",
       "    <tr>\n",
       "      <th>icu_nurse</th>\n",
       "      <td>0.110391</td>\n",
       "      <td>0.458635</td>\n",
       "      <td>1.000000</td>\n",
       "      <td>0.735714</td>\n",
       "      <td>0.070097</td>\n",
       "      <td>0.553976</td>\n",
       "      <td>0.871828</td>\n",
       "      <td>-0.002108</td>\n",
       "      <td>0.008550</td>\n",
       "      <td>0.696207</td>\n",
       "      <td>0.019311</td>\n",
       "      <td>-0.002573</td>\n",
       "      <td>0.838956</td>\n",
       "      <td>0.691521</td>\n",
       "      <td>-0.004530</td>\n",
       "      <td>0.037436</td>\n",
       "      <td>-0.007645</td>\n",
       "    </tr>\n",
       "    <tr>\n",
       "      <th>respthe</th>\n",
       "      <td>0.072018</td>\n",
       "      <td>0.552305</td>\n",
       "      <td>0.735714</td>\n",
       "      <td>1.000000</td>\n",
       "      <td>0.069204</td>\n",
       "      <td>0.609806</td>\n",
       "      <td>0.682610</td>\n",
       "      <td>-0.003642</td>\n",
       "      <td>0.016402</td>\n",
       "      <td>0.711506</td>\n",
       "      <td>0.013922</td>\n",
       "      <td>-0.000986</td>\n",
       "      <td>0.713228</td>\n",
       "      <td>0.658144</td>\n",
       "      <td>-0.005827</td>\n",
       "      <td>0.034765</td>\n",
       "      <td>-0.009206</td>\n",
       "    </tr>\n",
       "    <tr>\n",
       "      <th>shoe_cover</th>\n",
       "      <td>0.620708</td>\n",
       "      <td>0.019530</td>\n",
       "      <td>0.070097</td>\n",
       "      <td>0.069204</td>\n",
       "      <td>1.000000</td>\n",
       "      <td>0.028846</td>\n",
       "      <td>0.085283</td>\n",
       "      <td>0.377642</td>\n",
       "      <td>0.568396</td>\n",
       "      <td>0.039881</td>\n",
       "      <td>0.547846</td>\n",
       "      <td>0.258945</td>\n",
       "      <td>0.073539</td>\n",
       "      <td>0.059721</td>\n",
       "      <td>0.636049</td>\n",
       "      <td>0.392300</td>\n",
       "      <td>0.751561</td>\n",
       "    </tr>\n",
       "    <tr>\n",
       "      <th>pulmo</th>\n",
       "      <td>0.035201</td>\n",
       "      <td>0.469743</td>\n",
       "      <td>0.553976</td>\n",
       "      <td>0.609806</td>\n",
       "      <td>0.028846</td>\n",
       "      <td>1.000000</td>\n",
       "      <td>0.546137</td>\n",
       "      <td>-0.003184</td>\n",
       "      <td>0.000993</td>\n",
       "      <td>0.527520</td>\n",
       "      <td>0.006849</td>\n",
       "      <td>-0.007980</td>\n",
       "      <td>0.581474</td>\n",
       "      <td>0.737734</td>\n",
       "      <td>-0.010489</td>\n",
       "      <td>0.016626</td>\n",
       "      <td>-0.013248</td>\n",
       "    </tr>\n",
       "    <tr>\n",
       "      <th>medtech</th>\n",
       "      <td>0.135892</td>\n",
       "      <td>0.372136</td>\n",
       "      <td>0.871828</td>\n",
       "      <td>0.682610</td>\n",
       "      <td>0.085283</td>\n",
       "      <td>0.546137</td>\n",
       "      <td>1.000000</td>\n",
       "      <td>-0.003498</td>\n",
       "      <td>0.009878</td>\n",
       "      <td>0.617713</td>\n",
       "      <td>0.021133</td>\n",
       "      <td>-0.005758</td>\n",
       "      <td>0.918129</td>\n",
       "      <td>0.722005</td>\n",
       "      <td>-0.007080</td>\n",
       "      <td>0.046475</td>\n",
       "      <td>-0.010442</td>\n",
       "    </tr>\n",
       "    <tr>\n",
       "      <th>gloves</th>\n",
       "      <td>0.430278</td>\n",
       "      <td>-0.003397</td>\n",
       "      <td>-0.002108</td>\n",
       "      <td>-0.003642</td>\n",
       "      <td>0.377642</td>\n",
       "      <td>-0.003184</td>\n",
       "      <td>-0.003498</td>\n",
       "      <td>1.000000</td>\n",
       "      <td>0.370313</td>\n",
       "      <td>-0.004058</td>\n",
       "      <td>0.060622</td>\n",
       "      <td>0.114310</td>\n",
       "      <td>-0.004540</td>\n",
       "      <td>-0.002474</td>\n",
       "      <td>0.229852</td>\n",
       "      <td>0.156701</td>\n",
       "      <td>0.384221</td>\n",
       "    </tr>\n",
       "    <tr>\n",
       "      <th>face_shield</th>\n",
       "      <td>0.774090</td>\n",
       "      <td>0.001506</td>\n",
       "      <td>0.008550</td>\n",
       "      <td>0.016402</td>\n",
       "      <td>0.568396</td>\n",
       "      <td>0.000993</td>\n",
       "      <td>0.009878</td>\n",
       "      <td>0.370313</td>\n",
       "      <td>1.000000</td>\n",
       "      <td>0.005000</td>\n",
       "      <td>0.393460</td>\n",
       "      <td>0.486145</td>\n",
       "      <td>0.006480</td>\n",
       "      <td>0.007995</td>\n",
       "      <td>0.536258</td>\n",
       "      <td>0.350665</td>\n",
       "      <td>0.765327</td>\n",
       "    </tr>\n",
       "    <tr>\n",
       "      <th>resident</th>\n",
       "      <td>0.035234</td>\n",
       "      <td>0.647545</td>\n",
       "      <td>0.696207</td>\n",
       "      <td>0.711506</td>\n",
       "      <td>0.039881</td>\n",
       "      <td>0.527520</td>\n",
       "      <td>0.617713</td>\n",
       "      <td>-0.004058</td>\n",
       "      <td>0.005000</td>\n",
       "      <td>1.000000</td>\n",
       "      <td>0.006725</td>\n",
       "      <td>-0.005007</td>\n",
       "      <td>0.699097</td>\n",
       "      <td>0.533581</td>\n",
       "      <td>-0.008346</td>\n",
       "      <td>0.013525</td>\n",
       "      <td>-0.010679</td>\n",
       "    </tr>\n",
       "    <tr>\n",
       "      <th>gown</th>\n",
       "      <td>0.289205</td>\n",
       "      <td>0.002559</td>\n",
       "      <td>0.019311</td>\n",
       "      <td>0.013922</td>\n",
       "      <td>0.547846</td>\n",
       "      <td>0.006849</td>\n",
       "      <td>0.021133</td>\n",
       "      <td>0.060622</td>\n",
       "      <td>0.393460</td>\n",
       "      <td>0.006725</td>\n",
       "      <td>1.000000</td>\n",
       "      <td>0.375384</td>\n",
       "      <td>0.018301</td>\n",
       "      <td>0.018728</td>\n",
       "      <td>0.807102</td>\n",
       "      <td>0.488789</td>\n",
       "      <td>0.667093</td>\n",
       "    </tr>\n",
       "    <tr>\n",
       "      <th>n95mask</th>\n",
       "      <td>0.343275</td>\n",
       "      <td>-0.003690</td>\n",
       "      <td>-0.002573</td>\n",
       "      <td>-0.000986</td>\n",
       "      <td>0.258945</td>\n",
       "      <td>-0.007980</td>\n",
       "      <td>-0.005758</td>\n",
       "      <td>0.114310</td>\n",
       "      <td>0.486145</td>\n",
       "      <td>-0.005007</td>\n",
       "      <td>0.375384</td>\n",
       "      <td>1.000000</td>\n",
       "      <td>-0.008383</td>\n",
       "      <td>-0.007447</td>\n",
       "      <td>0.396162</td>\n",
       "      <td>0.326737</td>\n",
       "      <td>0.431966</td>\n",
       "    </tr>\n",
       "    <tr>\n",
       "      <th>er_nurse</th>\n",
       "      <td>0.117407</td>\n",
       "      <td>0.430137</td>\n",
       "      <td>0.838956</td>\n",
       "      <td>0.713228</td>\n",
       "      <td>0.073539</td>\n",
       "      <td>0.581474</td>\n",
       "      <td>0.918129</td>\n",
       "      <td>-0.004540</td>\n",
       "      <td>0.006480</td>\n",
       "      <td>0.699097</td>\n",
       "      <td>0.018301</td>\n",
       "      <td>-0.008383</td>\n",
       "      <td>1.000000</td>\n",
       "      <td>0.733462</td>\n",
       "      <td>-0.009562</td>\n",
       "      <td>0.044928</td>\n",
       "      <td>-0.013231</td>\n",
       "    </tr>\n",
       "    <tr>\n",
       "      <th>id_specialist</th>\n",
       "      <td>0.087156</td>\n",
       "      <td>0.396681</td>\n",
       "      <td>0.691521</td>\n",
       "      <td>0.658144</td>\n",
       "      <td>0.059721</td>\n",
       "      <td>0.737734</td>\n",
       "      <td>0.722005</td>\n",
       "      <td>-0.002474</td>\n",
       "      <td>0.007995</td>\n",
       "      <td>0.533581</td>\n",
       "      <td>0.018728</td>\n",
       "      <td>-0.007447</td>\n",
       "      <td>0.733462</td>\n",
       "      <td>1.000000</td>\n",
       "      <td>-0.008746</td>\n",
       "      <td>0.032544</td>\n",
       "      <td>-0.012144</td>\n",
       "    </tr>\n",
       "    <tr>\n",
       "      <th>surgmask</th>\n",
       "      <td>0.432796</td>\n",
       "      <td>-0.005699</td>\n",
       "      <td>-0.004530</td>\n",
       "      <td>-0.005827</td>\n",
       "      <td>0.636049</td>\n",
       "      <td>-0.010489</td>\n",
       "      <td>-0.007080</td>\n",
       "      <td>0.229852</td>\n",
       "      <td>0.536258</td>\n",
       "      <td>-0.008346</td>\n",
       "      <td>0.807102</td>\n",
       "      <td>0.396162</td>\n",
       "      <td>-0.009562</td>\n",
       "      <td>-0.008746</td>\n",
       "      <td>1.000000</td>\n",
       "      <td>0.409732</td>\n",
       "      <td>0.771269</td>\n",
       "    </tr>\n",
       "    <tr>\n",
       "      <th>head_cover</th>\n",
       "      <td>0.280481</td>\n",
       "      <td>0.014331</td>\n",
       "      <td>0.037436</td>\n",
       "      <td>0.034765</td>\n",
       "      <td>0.392300</td>\n",
       "      <td>0.016626</td>\n",
       "      <td>0.046475</td>\n",
       "      <td>0.156701</td>\n",
       "      <td>0.350665</td>\n",
       "      <td>0.013525</td>\n",
       "      <td>0.488789</td>\n",
       "      <td>0.326737</td>\n",
       "      <td>0.044928</td>\n",
       "      <td>0.032544</td>\n",
       "      <td>0.409732</td>\n",
       "      <td>1.000000</td>\n",
       "      <td>0.447977</td>\n",
       "    </tr>\n",
       "    <tr>\n",
       "      <th>coverall</th>\n",
       "      <td>0.744519</td>\n",
       "      <td>-0.006729</td>\n",
       "      <td>-0.007645</td>\n",
       "      <td>-0.009206</td>\n",
       "      <td>0.751561</td>\n",
       "      <td>-0.013248</td>\n",
       "      <td>-0.010442</td>\n",
       "      <td>0.384221</td>\n",
       "      <td>0.765327</td>\n",
       "      <td>-0.010679</td>\n",
       "      <td>0.667093</td>\n",
       "      <td>0.431966</td>\n",
       "      <td>-0.013231</td>\n",
       "      <td>-0.012144</td>\n",
       "      <td>0.771269</td>\n",
       "      <td>0.447977</td>\n",
       "      <td>1.000000</td>\n",
       "    </tr>\n",
       "  </tbody>\n",
       "</table>\n",
       "</div>"
      ],
      "text/plain": [
       "                goggles  mechvent_tech  icu_nurse   respthe  shoe_cover  \\\n",
       "goggles        1.000000       0.002281   0.110391  0.072018    0.620708   \n",
       "mechvent_tech  0.002281       1.000000   0.458635  0.552305    0.019530   \n",
       "icu_nurse      0.110391       0.458635   1.000000  0.735714    0.070097   \n",
       "respthe        0.072018       0.552305   0.735714  1.000000    0.069204   \n",
       "shoe_cover     0.620708       0.019530   0.070097  0.069204    1.000000   \n",
       "pulmo          0.035201       0.469743   0.553976  0.609806    0.028846   \n",
       "medtech        0.135892       0.372136   0.871828  0.682610    0.085283   \n",
       "gloves         0.430278      -0.003397  -0.002108 -0.003642    0.377642   \n",
       "face_shield    0.774090       0.001506   0.008550  0.016402    0.568396   \n",
       "resident       0.035234       0.647545   0.696207  0.711506    0.039881   \n",
       "gown           0.289205       0.002559   0.019311  0.013922    0.547846   \n",
       "n95mask        0.343275      -0.003690  -0.002573 -0.000986    0.258945   \n",
       "er_nurse       0.117407       0.430137   0.838956  0.713228    0.073539   \n",
       "id_specialist  0.087156       0.396681   0.691521  0.658144    0.059721   \n",
       "surgmask       0.432796      -0.005699  -0.004530 -0.005827    0.636049   \n",
       "head_cover     0.280481       0.014331   0.037436  0.034765    0.392300   \n",
       "coverall       0.744519      -0.006729  -0.007645 -0.009206    0.751561   \n",
       "\n",
       "                  pulmo   medtech    gloves  face_shield  resident      gown  \\\n",
       "goggles        0.035201  0.135892  0.430278     0.774090  0.035234  0.289205   \n",
       "mechvent_tech  0.469743  0.372136 -0.003397     0.001506  0.647545  0.002559   \n",
       "icu_nurse      0.553976  0.871828 -0.002108     0.008550  0.696207  0.019311   \n",
       "respthe        0.609806  0.682610 -0.003642     0.016402  0.711506  0.013922   \n",
       "shoe_cover     0.028846  0.085283  0.377642     0.568396  0.039881  0.547846   \n",
       "pulmo          1.000000  0.546137 -0.003184     0.000993  0.527520  0.006849   \n",
       "medtech        0.546137  1.000000 -0.003498     0.009878  0.617713  0.021133   \n",
       "gloves        -0.003184 -0.003498  1.000000     0.370313 -0.004058  0.060622   \n",
       "face_shield    0.000993  0.009878  0.370313     1.000000  0.005000  0.393460   \n",
       "resident       0.527520  0.617713 -0.004058     0.005000  1.000000  0.006725   \n",
       "gown           0.006849  0.021133  0.060622     0.393460  0.006725  1.000000   \n",
       "n95mask       -0.007980 -0.005758  0.114310     0.486145 -0.005007  0.375384   \n",
       "er_nurse       0.581474  0.918129 -0.004540     0.006480  0.699097  0.018301   \n",
       "id_specialist  0.737734  0.722005 -0.002474     0.007995  0.533581  0.018728   \n",
       "surgmask      -0.010489 -0.007080  0.229852     0.536258 -0.008346  0.807102   \n",
       "head_cover     0.016626  0.046475  0.156701     0.350665  0.013525  0.488789   \n",
       "coverall      -0.013248 -0.010442  0.384221     0.765327 -0.010679  0.667093   \n",
       "\n",
       "                n95mask  er_nurse  id_specialist  surgmask  head_cover  \\\n",
       "goggles        0.343275  0.117407       0.087156  0.432796    0.280481   \n",
       "mechvent_tech -0.003690  0.430137       0.396681 -0.005699    0.014331   \n",
       "icu_nurse     -0.002573  0.838956       0.691521 -0.004530    0.037436   \n",
       "respthe       -0.000986  0.713228       0.658144 -0.005827    0.034765   \n",
       "shoe_cover     0.258945  0.073539       0.059721  0.636049    0.392300   \n",
       "pulmo         -0.007980  0.581474       0.737734 -0.010489    0.016626   \n",
       "medtech       -0.005758  0.918129       0.722005 -0.007080    0.046475   \n",
       "gloves         0.114310 -0.004540      -0.002474  0.229852    0.156701   \n",
       "face_shield    0.486145  0.006480       0.007995  0.536258    0.350665   \n",
       "resident      -0.005007  0.699097       0.533581 -0.008346    0.013525   \n",
       "gown           0.375384  0.018301       0.018728  0.807102    0.488789   \n",
       "n95mask        1.000000 -0.008383      -0.007447  0.396162    0.326737   \n",
       "er_nurse      -0.008383  1.000000       0.733462 -0.009562    0.044928   \n",
       "id_specialist -0.007447  0.733462       1.000000 -0.008746    0.032544   \n",
       "surgmask       0.396162 -0.009562      -0.008746  1.000000    0.409732   \n",
       "head_cover     0.326737  0.044928       0.032544  0.409732    1.000000   \n",
       "coverall       0.431966 -0.013231      -0.012144  0.771269    0.447977   \n",
       "\n",
       "               coverall  \n",
       "goggles        0.744519  \n",
       "mechvent_tech -0.006729  \n",
       "icu_nurse     -0.007645  \n",
       "respthe       -0.009206  \n",
       "shoe_cover     0.751561  \n",
       "pulmo         -0.013248  \n",
       "medtech       -0.010442  \n",
       "gloves         0.384221  \n",
       "face_shield    0.765327  \n",
       "resident      -0.010679  \n",
       "gown           0.667093  \n",
       "n95mask        0.431966  \n",
       "er_nurse      -0.013231  \n",
       "id_specialist -0.012144  \n",
       "surgmask       0.771269  \n",
       "head_cover     0.447977  \n",
       "coverall       1.000000  "
      ]
     },
     "execution_count": 22,
     "metadata": {},
     "output_type": "execute_result"
    }
   ],
   "source": [
    "# calculate the correlation\n",
    "df_corr_surgmask.corr()"
   ]
  },
  {
   "cell_type": "code",
   "execution_count": 28,
   "id": "326f1f40",
   "metadata": {},
   "outputs": [
    {
     "data": {
      "text/plain": [
       "<AxesSubplot:>"
      ]
     },
     "execution_count": 28,
     "metadata": {},
     "output_type": "execute_result"
    },
    {
     "data": {
      "image/png": "[encoded data removed]",
      "text/plain": [
       "<Figure size 648x504 with 2 Axes>"
      ]
     },
     "metadata": {},
     "output_type": "display_data"
    }
   ],
   "source": [
    "# Correlation heatmap\n",
    "\n",
    "# Set up the matplotlib figure\n",
    "f, ax = plt.subplots(figsize=(9, 7))\n",
    "\n",
    "# Generate a custom diverging colormap\n",
    "cmap = sns.diverging_palette(230, 10, as_cmap=True)\n",
    "\n",
    "# Draw the heatmap with the mask and correct aspect ratio\n",
    "sns.heatmap(df_corr_surgmask.corr(), cmap=cmap, vmax=.9, square=True, linewidths=.3, ax=ax)"
   ]
  },
  {
   "cell_type": "code",
   "execution_count": 29,
   "id": "f8d7fa94",
   "metadata": {},
   "outputs": [
    {
     "data": {
      "text/plain": [
       "<seaborn.axisgrid.PairGrid at 0x29806b24e80>"
      ]
     },
     "execution_count": 29,
     "metadata": {},
     "output_type": "execute_result"
    },
    {
     "data": {
      "image/png": "[encoded data removed]",
      "text/plain": [
       "<Figure size 1008x504 with 2 Axes>"
      ]
     },
     "metadata": {},
     "output_type": "display_data"
    }
   ],
   "source": [
    "# visualize the relationship of the 2 predictors and surgical mask\n",
    "sns.pairplot(df_corr_surgmask, x_vars=['coverall', 'gown'], y_vars='surgmask', height=7,aspect=1,kind='reg')"
   ]
  },
  {
   "cell_type": "code",
   "execution_count": 30,
   "id": "5b170e31",
   "metadata": {},
   "outputs": [],
   "source": [
    "x = df_corr_surgmask[['coverall', 'gown']]\n",
    "y = df_corr_surgmask['surgmask']"
   ]
  },
  {
   "cell_type": "code",
   "execution_count": 31,
   "id": "700f589a",
   "metadata": {},
   "outputs": [],
   "source": [
    "# separate into training and testing sets\n",
    "x_train, x_test, y_train, y_test = train_test_split(x, y, test_size = 0.15)"
   ]
  },
  {
   "cell_type": "code",
   "execution_count": 32,
   "id": "cd3b85ec",
   "metadata": {},
   "outputs": [],
   "source": [
    "model = LinearRegression().fit(x_train, y_train)"
   ]
  },
  {
   "cell_type": "code",
   "execution_count": 33,
   "id": "1e990c6d",
   "metadata": {},
   "outputs": [],
   "source": [
    "# predictions by the model\n",
    "y_pred = model.predict(x_test)"
   ]
  },
  {
   "cell_type": "code",
   "execution_count": 34,
   "id": "26a32a72",
   "metadata": {},
   "outputs": [
    {
     "data": {
      "text/plain": [
       "643.2163843889548"
      ]
     },
     "execution_count": 34,
     "metadata": {},
     "output_type": "execute_result"
    }
   ],
   "source": [
    "# intercept\n",
    "model.intercept_"
   ]
  },
  {
   "cell_type": "code",
   "execution_count": 35,
   "id": "276eac2c",
   "metadata": {},
   "outputs": [
    {
     "data": {
      "text/plain": [
       "array([ 9.06584516, 10.76388142])"
      ]
     },
     "execution_count": 35,
     "metadata": {},
     "output_type": "execute_result"
    }
   ],
   "source": [
    "# coefficients\n",
    "model.coef_"
   ]
  },
  {
   "cell_type": "code",
   "execution_count": 37,
   "id": "b894a957",
   "metadata": {},
   "outputs": [
    {
     "data": {
      "text/plain": [
       "0.7702231811913512"
      ]
     },
     "execution_count": 37,
     "metadata": {},
     "output_type": "execute_result"
    }
   ],
   "source": [
    "# coefficient of determination (r2)\n",
    "model.score(x_test, y_test)"
   ]
  },
  {
   "cell_type": "code",
   "execution_count": 38,
   "id": "70774972",
   "metadata": {},
   "outputs": [
    {
     "data": {
      "text/plain": [
       "431969619.05519444"
      ]
     },
     "execution_count": 38,
     "metadata": {},
     "output_type": "execute_result"
    }
   ],
   "source": [
    "MSE = mean_squared_error(y_pred, y_test)\n",
    "MSE"
   ]
  },
  {
   "cell_type": "code",
   "execution_count": 39,
   "id": "875d2d9f",
   "metadata": {},
   "outputs": [
    {
     "data": {
      "text/plain": [
       "20783.878826032316"
      ]
     },
     "execution_count": 39,
     "metadata": {},
     "output_type": "execute_result"
    }
   ],
   "source": [
    "RMSE = np.sqrt(mean_squared_error(y_pred, y_test))\n",
    "RMSE"
   ]
  },
  {
   "cell_type": "code",
   "execution_count": 40,
   "id": "3887a45a",
   "metadata": {},
   "outputs": [
    {
     "data": {
      "image/png": "[encoded data removed]",
      "text/plain": [
       "<Figure size 720x360 with 1 Axes>"
      ]
     },
     "metadata": {},
     "output_type": "display_data"
    }
   ],
   "source": [
    "plt.figure(figsize=(10, 5))\n",
    "plt.scatter(y_pred, y_test, color ='r')\n",
    "plt.xlabel('Predicted')\n",
    "plt.ylabel('Actual')\n",
    "plt.show()"
   ]
  },
  {
   "cell_type": "code",
   "execution_count": 44,
   "id": "f8a4e4db",
   "metadata": {},
   "outputs": [
    {
     "data": {
      "image/png": "[encoded data removed]",
      "text/plain": [
       "<Figure size 720x360 with 1 Axes>"
      ]
     },
     "metadata": {},
     "output_type": "display_data"
    }
   ],
   "source": [
    "# comparing y test and y pred with coverall\n",
    "plt.figure(figsize=(10, 5))\n",
    "plt.scatter(x_test['coverall'], y_test, color ='b')\n",
    "plt.scatter(x_test['coverall'], y_pred, color ='r')\n",
    "plt.xlabel('coverall')\n",
    "plt.ylabel('surgmask')\n",
    "  \n",
    "plt.show()"
   ]
  },
  {
   "cell_type": "markdown",
   "id": "962c633c",
   "metadata": {},
   "source": [
    "<b>model: </b> y = 643.22 + 9.06584516(coverall) + 10.76388142(gown)\n",
    "\n",
    "The model scored a coefficient of determination score of 0.77, an MSE score of 431969619.05519444, and an RMSE score of 20783.878826032316. The large MSE and RMSE score can be attributed to the large variability in the data values."
   ]
  },
  {
   "cell_type": "code",
   "execution_count": null,
   "id": "7ebfee9b",
   "metadata": {},
   "outputs": [],
   "source": []
  },
  {
   "cell_type": "markdown",
   "id": "543fc5af",
   "metadata": {},
   "source": [
    "## Predict Health Status of Individual \n",
    "- use Gaussian Naive Bayes classifier to classify if an individual's health status is Mild (0), Recovered (1), Asymptomatic (2), Died (3), Severe (4), or Critical (5)\n",
    "- features to be used are: age, sex, home_quarantined, pregnant\n",
    "\n",
    "Steps:\n",
    "1. Separate data into features and label, clean, then encode\n",
    "        1.1 Balance data using SMOTENN\n",
    "2. Create the multinomial classifier and fit using x_train and y_train\n",
    "3. Predict\n",
    "4. Evaluate"
   ]
  },
  {
   "cell_type": "code",
   "execution_count": 40,
   "id": "07445613",
   "metadata": {},
   "outputs": [
    {
     "data": {
      "text/plain": [
       "Index(['case_id', 'age', 'age_group', 'sex', 'date_announced',\n",
       "       'date_recovered', 'date_of_death', 'status',\n",
       "       'date_announced_as_removed', 'province', 'muni_city', 'health_status',\n",
       "       'home_quarantined', 'date_of_onset_of_symptoms', 'pregnant', 'region'],\n",
       "      dtype='object')"
      ]
     },
     "execution_count": 40,
     "metadata": {},
     "output_type": "execute_result"
    }
   ],
   "source": [
    "df_health_status.columns"
   ]
  },
  {
   "cell_type": "code",
   "execution_count": 41,
   "id": "186a8ebb",
   "metadata": {},
   "outputs": [
    {
     "data": {
      "text/plain": [
       "Mild            7777\n",
       "Recovered       2460\n",
       "Asymptomatic     969\n",
       "Died             806\n",
       "Severe            54\n",
       "Critical          25\n",
       "Name: health_status, dtype: int64"
      ]
     },
     "execution_count": 41,
     "metadata": {},
     "output_type": "execute_result"
    }
   ],
   "source": [
    "# we have 6 classes biased towards Mild class\n",
    "df_health_status.health_status.value_counts()"
   ]
  },
  {
   "cell_type": "code",
   "execution_count": 42,
   "id": "8ef68da2",
   "metadata": {},
   "outputs": [
    {
     "data": {
      "text/html": [
       "<div>\n",
       "<style scoped>\n",
       "    .dataframe tbody tr th:only-of-type {\n",
       "        vertical-align: middle;\n",
       "    }\n",
       "\n",
       "    .dataframe tbody tr th {\n",
       "        vertical-align: top;\n",
       "    }\n",
       "\n",
       "    .dataframe thead th {\n",
       "        text-align: right;\n",
       "    }\n",
       "</style>\n",
       "<table border=\"1\" class=\"dataframe\">\n",
       "  <thead>\n",
       "    <tr style=\"text-align: right;\">\n",
       "      <th></th>\n",
       "      <th>case_id</th>\n",
       "      <th>age</th>\n",
       "      <th>age_group</th>\n",
       "      <th>sex</th>\n",
       "      <th>date_announced</th>\n",
       "      <th>date_recovered</th>\n",
       "      <th>date_of_death</th>\n",
       "      <th>status</th>\n",
       "      <th>date_announced_as_removed</th>\n",
       "      <th>province</th>\n",
       "      <th>muni_city</th>\n",
       "      <th>health_status</th>\n",
       "      <th>home_quarantined</th>\n",
       "      <th>date_of_onset_of_symptoms</th>\n",
       "      <th>pregnant</th>\n",
       "      <th>region</th>\n",
       "    </tr>\n",
       "  </thead>\n",
       "  <tbody>\n",
       "    <tr>\n",
       "      <th>0</th>\n",
       "      <td>C404174</td>\n",
       "      <td>38.0</td>\n",
       "      <td>35 to 39</td>\n",
       "      <td>Female</td>\n",
       "      <td>2020-01-30</td>\n",
       "      <td>NaN</td>\n",
       "      <td>NaN</td>\n",
       "      <td>Recovered</td>\n",
       "      <td>2020-02-07</td>\n",
       "      <td>Negros Oriental</td>\n",
       "      <td>Dumaguete City</td>\n",
       "      <td>Recovered</td>\n",
       "      <td>NaN</td>\n",
       "      <td>2020-01-21</td>\n",
       "      <td>NaN</td>\n",
       "      <td>Central Visayas (Region VII)</td>\n",
       "    </tr>\n",
       "    <tr>\n",
       "      <th>1</th>\n",
       "      <td>C462688</td>\n",
       "      <td>44.0</td>\n",
       "      <td>40 to 44</td>\n",
       "      <td>Male</td>\n",
       "      <td>2020-02-03</td>\n",
       "      <td>NaN</td>\n",
       "      <td>2020-02-01</td>\n",
       "      <td>Died</td>\n",
       "      <td>2020-02-02</td>\n",
       "      <td>Negros Oriental</td>\n",
       "      <td>Dumaguete City</td>\n",
       "      <td>Died</td>\n",
       "      <td>NaN</td>\n",
       "      <td>2020-01-18</td>\n",
       "      <td>NaN</td>\n",
       "      <td>Central Visayas (Region VII)</td>\n",
       "    </tr>\n",
       "    <tr>\n",
       "      <th>2</th>\n",
       "      <td>C387710</td>\n",
       "      <td>60.0</td>\n",
       "      <td>60 to 64</td>\n",
       "      <td>Female</td>\n",
       "      <td>2020-02-05</td>\n",
       "      <td>2020-01-31</td>\n",
       "      <td>NaN</td>\n",
       "      <td>Recovered</td>\n",
       "      <td>2020-02-05</td>\n",
       "      <td>Bohol</td>\n",
       "      <td>Panglao</td>\n",
       "      <td>Recovered</td>\n",
       "      <td>No</td>\n",
       "      <td>2020-01-21</td>\n",
       "      <td>NaN</td>\n",
       "      <td>Central Visayas (Region VII)</td>\n",
       "    </tr>\n",
       "  </tbody>\n",
       "</table>\n",
       "</div>"
      ],
      "text/plain": [
       "   case_id   age age_group     sex date_announced date_recovered  \\\n",
       "0  C404174  38.0  35 to 39  Female     2020-01-30            NaN   \n",
       "1  C462688  44.0  40 to 44    Male     2020-02-03            NaN   \n",
       "2  C387710  60.0  60 to 64  Female     2020-02-05     2020-01-31   \n",
       "\n",
       "  date_of_death     status date_announced_as_removed         province  \\\n",
       "0           NaN  Recovered                2020-02-07  Negros Oriental   \n",
       "1    2020-02-01       Died                2020-02-02  Negros Oriental   \n",
       "2           NaN  Recovered                2020-02-05            Bohol   \n",
       "\n",
       "        muni_city health_status home_quarantined date_of_onset_of_symptoms  \\\n",
       "0  Dumaguete City     Recovered              NaN                2020-01-21   \n",
       "1  Dumaguete City          Died              NaN                2020-01-18   \n",
       "2         Panglao     Recovered               No                2020-01-21   \n",
       "\n",
       "  pregnant                        region  \n",
       "0      NaN  Central Visayas (Region VII)  \n",
       "1      NaN  Central Visayas (Region VII)  \n",
       "2      NaN  Central Visayas (Region VII)  "
      ]
     },
     "execution_count": 42,
     "metadata": {},
     "output_type": "execute_result"
    }
   ],
   "source": [
    "df_health_status.head(3)"
   ]
  },
  {
   "cell_type": "code",
   "execution_count": 43,
   "id": "e22f0ed0",
   "metadata": {},
   "outputs": [],
   "source": [
    "features = df_health_status[['age', 'sex', 'home_quarantined', 'pregnant']]\n",
    "label = df_health_status['health_status']"
   ]
  },
  {
   "cell_type": "code",
   "execution_count": 44,
   "id": "c7c47dd9",
   "metadata": {},
   "outputs": [
    {
     "data": {
      "text/html": [
       "<div>\n",
       "<style scoped>\n",
       "    .dataframe tbody tr th:only-of-type {\n",
       "        vertical-align: middle;\n",
       "    }\n",
       "\n",
       "    .dataframe tbody tr th {\n",
       "        vertical-align: top;\n",
       "    }\n",
       "\n",
       "    .dataframe thead th {\n",
       "        text-align: right;\n",
       "    }\n",
       "</style>\n",
       "<table border=\"1\" class=\"dataframe\">\n",
       "  <thead>\n",
       "    <tr style=\"text-align: right;\">\n",
       "      <th></th>\n",
       "      <th>age</th>\n",
       "      <th>sex</th>\n",
       "      <th>home_quarantined</th>\n",
       "      <th>pregnant</th>\n",
       "    </tr>\n",
       "  </thead>\n",
       "  <tbody>\n",
       "    <tr>\n",
       "      <th>0</th>\n",
       "      <td>38.0</td>\n",
       "      <td>Female</td>\n",
       "      <td>Unknown</td>\n",
       "      <td>Unknown</td>\n",
       "    </tr>\n",
       "    <tr>\n",
       "      <th>1</th>\n",
       "      <td>44.0</td>\n",
       "      <td>Male</td>\n",
       "      <td>Unknown</td>\n",
       "      <td>Unknown</td>\n",
       "    </tr>\n",
       "    <tr>\n",
       "      <th>2</th>\n",
       "      <td>60.0</td>\n",
       "      <td>Female</td>\n",
       "      <td>No</td>\n",
       "      <td>Unknown</td>\n",
       "    </tr>\n",
       "    <tr>\n",
       "      <th>3</th>\n",
       "      <td>48.0</td>\n",
       "      <td>Male</td>\n",
       "      <td>No</td>\n",
       "      <td>Unknown</td>\n",
       "    </tr>\n",
       "    <tr>\n",
       "      <th>4</th>\n",
       "      <td>62.0</td>\n",
       "      <td>Male</td>\n",
       "      <td>No</td>\n",
       "      <td>Unknown</td>\n",
       "    </tr>\n",
       "    <tr>\n",
       "      <th>...</th>\n",
       "      <td>...</td>\n",
       "      <td>...</td>\n",
       "      <td>...</td>\n",
       "      <td>...</td>\n",
       "    </tr>\n",
       "    <tr>\n",
       "      <th>12086</th>\n",
       "      <td>35.0</td>\n",
       "      <td>Male</td>\n",
       "      <td>Unknown</td>\n",
       "      <td>Unknown</td>\n",
       "    </tr>\n",
       "    <tr>\n",
       "      <th>12087</th>\n",
       "      <td>37.0</td>\n",
       "      <td>Male</td>\n",
       "      <td>Unknown</td>\n",
       "      <td>Unknown</td>\n",
       "    </tr>\n",
       "    <tr>\n",
       "      <th>12088</th>\n",
       "      <td>62.0</td>\n",
       "      <td>Female</td>\n",
       "      <td>Unknown</td>\n",
       "      <td>Unknown</td>\n",
       "    </tr>\n",
       "    <tr>\n",
       "      <th>12089</th>\n",
       "      <td>18.0</td>\n",
       "      <td>Female</td>\n",
       "      <td>Yes</td>\n",
       "      <td>No</td>\n",
       "    </tr>\n",
       "    <tr>\n",
       "      <th>12090</th>\n",
       "      <td>50.0</td>\n",
       "      <td>Female</td>\n",
       "      <td>Unknown</td>\n",
       "      <td>Unknown</td>\n",
       "    </tr>\n",
       "  </tbody>\n",
       "</table>\n",
       "<p>12091 rows × 4 columns</p>\n",
       "</div>"
      ],
      "text/plain": [
       "        age     sex home_quarantined pregnant\n",
       "0      38.0  Female          Unknown  Unknown\n",
       "1      44.0    Male          Unknown  Unknown\n",
       "2      60.0  Female               No  Unknown\n",
       "3      48.0    Male               No  Unknown\n",
       "4      62.0    Male               No  Unknown\n",
       "...     ...     ...              ...      ...\n",
       "12086  35.0    Male          Unknown  Unknown\n",
       "12087  37.0    Male          Unknown  Unknown\n",
       "12088  62.0  Female          Unknown  Unknown\n",
       "12089  18.0  Female              Yes       No\n",
       "12090  50.0  Female          Unknown  Unknown\n",
       "\n",
       "[12091 rows x 4 columns]"
      ]
     },
     "execution_count": 44,
     "metadata": {},
     "output_type": "execute_result"
    }
   ],
   "source": [
    "# replace NaN values with unknown\n",
    "features = features.fillna(\"Unknown\")\n",
    "features"
   ]
  },
  {
   "cell_type": "code",
   "execution_count": 45,
   "id": "9bc91059",
   "metadata": {},
   "outputs": [],
   "source": [
    "# replace unkown ages with 0\n",
    "features.age = features.age.replace([\"Unknown\"], 0)"
   ]
  },
  {
   "cell_type": "code",
   "execution_count": 46,
   "id": "6f4cf109",
   "metadata": {},
   "outputs": [],
   "source": [
    "# encoding strings into numerical\n",
    "le = preprocessing.LabelEncoder()\n",
    "features.sex = le.fit_transform(features.sex)  # female = 0, male = 1\n",
    "features.home_quarantined = le.fit_transform(features.home_quarantined) # Unknown = 1, No = 0, Yes = 2\n",
    "features.pregnant = le.fit_transform(features.pregnant) # Unknown = 1, No = 0, Yes = 2"
   ]
  },
  {
   "cell_type": "code",
   "execution_count": 47,
   "id": "e71343b3",
   "metadata": {},
   "outputs": [
    {
     "data": {
      "text/html": [
       "<div>\n",
       "<style scoped>\n",
       "    .dataframe tbody tr th:only-of-type {\n",
       "        vertical-align: middle;\n",
       "    }\n",
       "\n",
       "    .dataframe tbody tr th {\n",
       "        vertical-align: top;\n",
       "    }\n",
       "\n",
       "    .dataframe thead th {\n",
       "        text-align: right;\n",
       "    }\n",
       "</style>\n",
       "<table border=\"1\" class=\"dataframe\">\n",
       "  <thead>\n",
       "    <tr style=\"text-align: right;\">\n",
       "      <th></th>\n",
       "      <th>age</th>\n",
       "      <th>sex</th>\n",
       "      <th>home_quarantined</th>\n",
       "      <th>pregnant</th>\n",
       "    </tr>\n",
       "  </thead>\n",
       "  <tbody>\n",
       "    <tr>\n",
       "      <th>0</th>\n",
       "      <td>38.0</td>\n",
       "      <td>0</td>\n",
       "      <td>1</td>\n",
       "      <td>1</td>\n",
       "    </tr>\n",
       "    <tr>\n",
       "      <th>1</th>\n",
       "      <td>44.0</td>\n",
       "      <td>1</td>\n",
       "      <td>1</td>\n",
       "      <td>1</td>\n",
       "    </tr>\n",
       "    <tr>\n",
       "      <th>2</th>\n",
       "      <td>60.0</td>\n",
       "      <td>0</td>\n",
       "      <td>0</td>\n",
       "      <td>1</td>\n",
       "    </tr>\n",
       "    <tr>\n",
       "      <th>3</th>\n",
       "      <td>48.0</td>\n",
       "      <td>1</td>\n",
       "      <td>0</td>\n",
       "      <td>1</td>\n",
       "    </tr>\n",
       "    <tr>\n",
       "      <th>4</th>\n",
       "      <td>62.0</td>\n",
       "      <td>1</td>\n",
       "      <td>0</td>\n",
       "      <td>1</td>\n",
       "    </tr>\n",
       "    <tr>\n",
       "      <th>...</th>\n",
       "      <td>...</td>\n",
       "      <td>...</td>\n",
       "      <td>...</td>\n",
       "      <td>...</td>\n",
       "    </tr>\n",
       "    <tr>\n",
       "      <th>12086</th>\n",
       "      <td>35.0</td>\n",
       "      <td>1</td>\n",
       "      <td>1</td>\n",
       "      <td>1</td>\n",
       "    </tr>\n",
       "    <tr>\n",
       "      <th>12087</th>\n",
       "      <td>37.0</td>\n",
       "      <td>1</td>\n",
       "      <td>1</td>\n",
       "      <td>1</td>\n",
       "    </tr>\n",
       "    <tr>\n",
       "      <th>12088</th>\n",
       "      <td>62.0</td>\n",
       "      <td>0</td>\n",
       "      <td>1</td>\n",
       "      <td>1</td>\n",
       "    </tr>\n",
       "    <tr>\n",
       "      <th>12089</th>\n",
       "      <td>18.0</td>\n",
       "      <td>0</td>\n",
       "      <td>2</td>\n",
       "      <td>0</td>\n",
       "    </tr>\n",
       "    <tr>\n",
       "      <th>12090</th>\n",
       "      <td>50.0</td>\n",
       "      <td>0</td>\n",
       "      <td>1</td>\n",
       "      <td>1</td>\n",
       "    </tr>\n",
       "  </tbody>\n",
       "</table>\n",
       "<p>12091 rows × 4 columns</p>\n",
       "</div>"
      ],
      "text/plain": [
       "        age  sex  home_quarantined  pregnant\n",
       "0      38.0    0                 1         1\n",
       "1      44.0    1                 1         1\n",
       "2      60.0    0                 0         1\n",
       "3      48.0    1                 0         1\n",
       "4      62.0    1                 0         1\n",
       "...     ...  ...               ...       ...\n",
       "12086  35.0    1                 1         1\n",
       "12087  37.0    1                 1         1\n",
       "12088  62.0    0                 1         1\n",
       "12089  18.0    0                 2         0\n",
       "12090  50.0    0                 1         1\n",
       "\n",
       "[12091 rows x 4 columns]"
      ]
     },
     "execution_count": 47,
     "metadata": {},
     "output_type": "execute_result"
    }
   ],
   "source": [
    "features"
   ]
  },
  {
   "cell_type": "code",
   "execution_count": 48,
   "id": "298f3b11",
   "metadata": {},
   "outputs": [],
   "source": [
    "# split data into trianing and testing\n",
    "x_train, x_test, y_train, y_test = train_test_split(features, label, test_size = 0.15)"
   ]
  },
  {
   "cell_type": "code",
   "execution_count": 49,
   "id": "1da3e667",
   "metadata": {},
   "outputs": [
    {
     "data": {
      "text/html": [
       "<div>\n",
       "<style scoped>\n",
       "    .dataframe tbody tr th:only-of-type {\n",
       "        vertical-align: middle;\n",
       "    }\n",
       "\n",
       "    .dataframe tbody tr th {\n",
       "        vertical-align: top;\n",
       "    }\n",
       "\n",
       "    .dataframe thead th {\n",
       "        text-align: right;\n",
       "    }\n",
       "</style>\n",
       "<table border=\"1\" class=\"dataframe\">\n",
       "  <thead>\n",
       "    <tr style=\"text-align: right;\">\n",
       "      <th></th>\n",
       "      <th>age</th>\n",
       "      <th>sex</th>\n",
       "      <th>home_quarantined</th>\n",
       "      <th>pregnant</th>\n",
       "    </tr>\n",
       "  </thead>\n",
       "  <tbody>\n",
       "    <tr>\n",
       "      <th>9886</th>\n",
       "      <td>65.0</td>\n",
       "      <td>0</td>\n",
       "      <td>1</td>\n",
       "      <td>1</td>\n",
       "    </tr>\n",
       "    <tr>\n",
       "      <th>6633</th>\n",
       "      <td>27.0</td>\n",
       "      <td>1</td>\n",
       "      <td>1</td>\n",
       "      <td>1</td>\n",
       "    </tr>\n",
       "    <tr>\n",
       "      <th>7048</th>\n",
       "      <td>54.0</td>\n",
       "      <td>1</td>\n",
       "      <td>1</td>\n",
       "      <td>1</td>\n",
       "    </tr>\n",
       "    <tr>\n",
       "      <th>3213</th>\n",
       "      <td>42.0</td>\n",
       "      <td>0</td>\n",
       "      <td>1</td>\n",
       "      <td>0</td>\n",
       "    </tr>\n",
       "    <tr>\n",
       "      <th>10921</th>\n",
       "      <td>84.0</td>\n",
       "      <td>0</td>\n",
       "      <td>1</td>\n",
       "      <td>1</td>\n",
       "    </tr>\n",
       "    <tr>\n",
       "      <th>...</th>\n",
       "      <td>...</td>\n",
       "      <td>...</td>\n",
       "      <td>...</td>\n",
       "      <td>...</td>\n",
       "    </tr>\n",
       "    <tr>\n",
       "      <th>8671</th>\n",
       "      <td>52.0</td>\n",
       "      <td>1</td>\n",
       "      <td>1</td>\n",
       "      <td>1</td>\n",
       "    </tr>\n",
       "    <tr>\n",
       "      <th>7937</th>\n",
       "      <td>50.0</td>\n",
       "      <td>0</td>\n",
       "      <td>1</td>\n",
       "      <td>1</td>\n",
       "    </tr>\n",
       "    <tr>\n",
       "      <th>11558</th>\n",
       "      <td>52.0</td>\n",
       "      <td>1</td>\n",
       "      <td>1</td>\n",
       "      <td>1</td>\n",
       "    </tr>\n",
       "    <tr>\n",
       "      <th>390</th>\n",
       "      <td>53.0</td>\n",
       "      <td>1</td>\n",
       "      <td>0</td>\n",
       "      <td>1</td>\n",
       "    </tr>\n",
       "    <tr>\n",
       "      <th>8506</th>\n",
       "      <td>40.0</td>\n",
       "      <td>1</td>\n",
       "      <td>1</td>\n",
       "      <td>1</td>\n",
       "    </tr>\n",
       "  </tbody>\n",
       "</table>\n",
       "<p>10277 rows × 4 columns</p>\n",
       "</div>"
      ],
      "text/plain": [
       "        age  sex  home_quarantined  pregnant\n",
       "9886   65.0    0                 1         1\n",
       "6633   27.0    1                 1         1\n",
       "7048   54.0    1                 1         1\n",
       "3213   42.0    0                 1         0\n",
       "10921  84.0    0                 1         1\n",
       "...     ...  ...               ...       ...\n",
       "8671   52.0    1                 1         1\n",
       "7937   50.0    0                 1         1\n",
       "11558  52.0    1                 1         1\n",
       "390    53.0    1                 0         1\n",
       "8506   40.0    1                 1         1\n",
       "\n",
       "[10277 rows x 4 columns]"
      ]
     },
     "execution_count": 49,
     "metadata": {},
     "output_type": "execute_result"
    }
   ],
   "source": [
    "x_train"
   ]
  },
  {
   "cell_type": "code",
   "execution_count": 50,
   "id": "868c9d27",
   "metadata": {},
   "outputs": [],
   "source": [
    "model_nb = GaussianNB().fit(x_train, y_train)"
   ]
  },
  {
   "cell_type": "code",
   "execution_count": 51,
   "id": "39e851b4",
   "metadata": {},
   "outputs": [
    {
     "data": {
      "text/plain": [
       "array(['Mild', 'Recovered', 'Mild', ..., 'Mild', 'Mild', 'Mild'],\n",
       "      dtype='<U12')"
      ]
     },
     "execution_count": 51,
     "metadata": {},
     "output_type": "execute_result"
    }
   ],
   "source": [
    "y_pred_nb = model_nb.predict(x_test)\n",
    "y_pred_nb"
   ]
  },
  {
   "cell_type": "code",
   "execution_count": 52,
   "id": "b11a9b73",
   "metadata": {},
   "outputs": [
    {
     "data": {
      "text/plain": [
       "0.6328555678059536"
      ]
     },
     "execution_count": 52,
     "metadata": {},
     "output_type": "execute_result"
    }
   ],
   "source": [
    "accuracy_score(y_test, y_pred_nb)"
   ]
  },
  {
   "cell_type": "code",
   "execution_count": 53,
   "id": "5af3695c",
   "metadata": {},
   "outputs": [
    {
     "data": {
      "text/plain": [
       "(0.6328555678059536, 0.6328555678059536, 0.6328555678059536, None)"
      ]
     },
     "execution_count": 53,
     "metadata": {},
     "output_type": "execute_result"
    }
   ],
   "source": [
    "# all scores are the same\n",
    "precision_recall_fscore_support(y_test, y_pred_nb, average='micro')"
   ]
  },
  {
   "cell_type": "code",
   "execution_count": 54,
   "id": "384cd51e",
   "metadata": {},
   "outputs": [
    {
     "data": {
      "text/plain": [
       "array([[1039,   90,   16,   33,    0,    0],\n",
       "       [ 249,   65,   36,   19,    0,    0],\n",
       "       [  93,   26,   20,    2,    0,    0],\n",
       "       [  79,   12,    0,   24,    0,    0],\n",
       "       [   6,    1,    0,    0,    0,    0],\n",
       "       [   3,    0,    0,    1,    0,    0]], dtype=int64)"
      ]
     },
     "execution_count": 54,
     "metadata": {},
     "output_type": "execute_result"
    }
   ],
   "source": [
    "cm = confusion_matrix(y_test, y_pred_nb, labels=[\"Mild\", \"Recovered\", \"Asymptomatic\", \"Died\", \"Severe\", \"Critical\"])\n",
    "cm"
   ]
  },
  {
   "cell_type": "code",
   "execution_count": 55,
   "id": "4b6c50bd",
   "metadata": {},
   "outputs": [
    {
     "data": {
      "text/plain": [
       "<sklearn.metrics._plot.confusion_matrix.ConfusionMatrixDisplay at 0x1e681f7d100>"
      ]
     },
     "execution_count": 55,
     "metadata": {},
     "output_type": "execute_result"
    },
    {
     "data": {
      "image/png": "[encoded data removed]",
      "text/plain": [
       "<Figure size 720x720 with 2 Axes>"
      ]
     },
     "metadata": {
      "needs_background": "light"
     },
     "output_type": "display_data"
    }
   ],
   "source": [
    "display = ConfusionMatrixDisplay(confusion_matrix=cm, display_labels=[\"Mild\", \"Recovered\", \"Asymptomatic\", \"Died\", \"Severe\", \"Critical\"])\n",
    "fig, ax = plt.subplots(figsize=(10,10))\n",
    "plt.grid(False)\n",
    "display.plot(ax=ax, xticks_rotation=\"vertical\", cmap=\"pink\")"
   ]
  },
  {
   "cell_type": "markdown",
   "id": "92c97d0f",
   "metadata": {},
   "source": [
    "Since the performance metrics values are low, we will try to create a classifier by using age_group instead of age."
   ]
  },
  {
   "cell_type": "code",
   "execution_count": 56,
   "id": "7be9add4",
   "metadata": {},
   "outputs": [],
   "source": [
    "# if using age groups\n",
    "features_2 = df_health_status[['age_group', 'sex', 'home_quarantined', 'pregnant']]\n",
    "features_2 = features_2.fillna(\"Unknown\")\n",
    "features_2.age_group = features_2.age_group.replace([\"Unknown\"], \"0\")\n",
    "\n",
    "features_2.age_group = le.fit_transform(features_2.age_group)\n",
    "features_2.sex = le.fit_transform(features_2.sex)  # female = 0, male = 1\n",
    "features_2.home_quarantined = le.fit_transform(features_2.home_quarantined) # Unknown = 1, No = 0, Yes = 2\n",
    "features_2.pregnant = le.fit_transform(features_2.pregnant) # Unknown = 1, No = 0, Yes = 2\n",
    "\n",
    "# split data into trianing and testing\n",
    "x_train1, x_test1, y_train1, y_test1 = train_test_split(features, label, test_size = 0.15)"
   ]
  },
  {
   "cell_type": "code",
   "execution_count": 57,
   "id": "3528511c",
   "metadata": {},
   "outputs": [],
   "source": [
    "new_model = GaussianNB().fit(x_train1, y_train1)"
   ]
  },
  {
   "cell_type": "code",
   "execution_count": 58,
   "id": "d905d148",
   "metadata": {},
   "outputs": [
    {
     "data": {
      "text/plain": [
       "0.6058434399117971"
      ]
     },
     "execution_count": 58,
     "metadata": {},
     "output_type": "execute_result"
    }
   ],
   "source": [
    "new_y_pred = new_model.predict(x_test1)\n",
    "accuracy_score(y_test1, new_y_pred)"
   ]
  },
  {
   "cell_type": "code",
   "execution_count": 59,
   "id": "f6ca6709",
   "metadata": {},
   "outputs": [
    {
     "data": {
      "text/plain": [
       "(0.6058434399117971, 0.6058434399117971, 0.6058434399117971, None)"
      ]
     },
     "execution_count": 59,
     "metadata": {},
     "output_type": "execute_result"
    }
   ],
   "source": [
    "precision_recall_fscore_support(y_test1, new_y_pred, average='micro')"
   ]
  },
  {
   "cell_type": "markdown",
   "id": "dce7b941",
   "metadata": {},
   "source": [
    "Grouping the individuals by age doesn't improve the model by much, so we will stick with separating the individuals by their exact age and try to balance the dataset using SMOTENN."
   ]
  },
  {
   "cell_type": "code",
   "execution_count": 71,
   "id": "bf393f33",
   "metadata": {},
   "outputs": [
    {
     "name": "stdout",
     "output_type": "stream",
     "text": [
      "[('Asymptomatic', 1234), ('Critical', 5181), ('Died', 1619), ('Mild', 3659), ('Recovered', 695), ('Severe', 5207)]\n"
     ]
    }
   ],
   "source": [
    "smote_enn = SMOTEENN(sampling_strategy='not majority', random_state=0)\n",
    "x_resampled, y_resampled = smote_enn.fit_resample(x_train, y_train)\n",
    "print(sorted(Counter(y_resampled).items()))"
   ]
  },
  {
   "cell_type": "code",
   "execution_count": 72,
   "id": "e3f435bd",
   "metadata": {},
   "outputs": [],
   "source": [
    "sampled_model = GaussianNB().fit(x_resampled, y_resampled)"
   ]
  },
  {
   "cell_type": "code",
   "execution_count": 73,
   "id": "431e91a4",
   "metadata": {},
   "outputs": [],
   "source": [
    "sampled_y_pred = sampled_model.predict(x_test)"
   ]
  },
  {
   "cell_type": "code",
   "execution_count": 74,
   "id": "b08a1324",
   "metadata": {},
   "outputs": [
    {
     "data": {
      "text/plain": [
       "0.5242557883131201"
      ]
     },
     "execution_count": 74,
     "metadata": {},
     "output_type": "execute_result"
    }
   ],
   "source": [
    "accuracy_score(y_test, sampled_y_pred)"
   ]
  },
  {
   "cell_type": "code",
   "execution_count": 75,
   "id": "0fbb17d5",
   "metadata": {},
   "outputs": [
    {
     "data": {
      "text/plain": [
       "(0.5242557883131201, 0.5242557883131201, 0.5242557883131201, None)"
      ]
     },
     "execution_count": 75,
     "metadata": {},
     "output_type": "execute_result"
    }
   ],
   "source": [
    "precision_recall_fscore_support(y_test, sampled_y_pred, average=\"micro\")"
   ]
  },
  {
   "cell_type": "markdown",
   "id": "174c9632",
   "metadata": {},
   "source": [
    "Even over- and under- sampling the data produces lower performance metrics."
   ]
  },
  {
   "cell_type": "code",
   "execution_count": null,
   "id": "612e0feb",
   "metadata": {},
   "outputs": [],
   "source": []
  }
 ],
 "metadata": {
  "kernelspec": {
   "display_name": "Python 3 (ipykernel)",
   "language": "python",
   "name": "python3"
  },
  "language_info": {
   "codemirror_mode": {
    "name": "ipython",
    "version": 3
   },
   "file_extension": ".py",
   "mimetype": "text/x-python",
   "name": "python",
   "nbconvert_exporter": "python",
   "pygments_lexer": "ipython3",
   "version": "3.9.12"
  }
 },
 "nbformat": 4,
 "nbformat_minor": 5
}
