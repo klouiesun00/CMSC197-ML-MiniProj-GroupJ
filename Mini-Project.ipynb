{
 "cells": [
  {
   "cell_type": "markdown",
   "id": "94e58599",
   "metadata": {},
   "source": [
    "# COVID-19 Pandemic Prediction \n",
    "\n",
    "Predicting the number of positive cases in the Philippines and also the health equipment found in hospitals (Logistic Regression). Also predict the health status of a patient using demographic characteristics (Naive Bayes)."
   ]
  },
  {
   "cell_type": "markdown",
   "id": "750cbbdb",
   "metadata": {},
   "source": [
    "## Imports"
   ]
  },
  {
   "cell_type": "code",
   "execution_count": 2,
   "id": "8c63fc21",
   "metadata": {},
   "outputs": [
    {
     "name": "stdout",
     "output_type": "stream",
     "text": [
      "Collecting imbalanced-learn\n",
      "  Using cached imbalanced_learn-0.10.0-py3-none-any.whl (225 kB)\n",
      "Collecting joblib>=1.1.1\n",
      "  Using cached joblib-1.2.0-py3-none-any.whl (297 kB)\n",
      "Requirement already satisfied: threadpoolctl>=2.0.0 in d:\\anaconda3\\lib\\site-packages (from imbalanced-learn) (2.2.0)\n",
      "Requirement already satisfied: scipy>=1.3.2 in d:\\anaconda3\\lib\\site-packages (from imbalanced-learn) (1.7.3)\n",
      "Requirement already satisfied: scikit-learn>=1.0.2 in d:\\anaconda3\\lib\\site-packages (from imbalanced-learn) (1.0.2)\n",
      "Requirement already satisfied: numpy>=1.17.3 in d:\\anaconda3\\lib\\site-packages (from imbalanced-learn) (1.21.5)\n",
      "Installing collected packages: joblib, imbalanced-learn\n",
      "  Attempting uninstall: joblib\n",
      "    Found existing installation: joblib 1.1.0\n",
      "    Uninstalling joblib-1.1.0:\n",
      "      Successfully uninstalled joblib-1.1.0\n",
      "Successfully installed imbalanced-learn-0.10.0 joblib-1.2.0\n"
     ]
    }
   ],
   "source": [
    "!pip install imbalanced-learn"
   ]
  },
  {
   "cell_type": "code",
   "execution_count": 2,
   "id": "43db3171",
   "metadata": {},
   "outputs": [],
   "source": [
    "##### Standard Libraries #####\n",
    "import glob\n",
    "import numpy as np\n",
    "import pandas as pd\n",
    "import matplotlib.pyplot as plt\n",
    "import seaborn as sns\n",
    "import imblearn\n",
    "from numpy import log, dot, e\n",
    "from math import sqrt\n",
    "sns.set_style(\"whitegrid\")\n",
    "sns.set_context(\"poster\")\n",
    "\n",
    "%matplotlib inline\n",
    "\n",
    "##### For Preprocessing #####\n",
    "from sklearn.model_selection import train_test_split\n",
    "from sklearn import preprocessing\n",
    "#from sklearn.preprocessing import StandardScaler\n",
    "\n",
    "##### For Building the Model #####\n",
    "from sklearn.linear_model import LinearRegression, LogisticRegression\n",
    "from sklearn.naive_bayes import GaussianNB, ComplementNB, MultinomialNB\n",
    "#from sklearn.pipeline import make_pipeline\n",
    "\n",
    "##### For Validation of the Model #####\n",
    "from sklearn.model_selection import cross_val_score\n",
    "from sklearn.metrics import accuracy_score, precision_score, recall_score, f1_score\n",
    "from sklearn.metrics import precision_recall_fscore_support\n",
    "from sklearn.metrics import confusion_matrix, ConfusionMatrixDisplay\n",
    "from sklearn.metrics import mean_squared_error\n",
    "from sklearn.metrics import r2_score\n",
    "\n",
    "from collections import Counter\n",
    "from imblearn.over_sampling import RandomOverSampler\n",
    "from imblearn.under_sampling import RandomUnderSampler\n",
    "from imblearn.combine import SMOTEENN, SMOTETomek"
   ]
  },
  {
   "cell_type": "markdown",
   "id": "d1f11495",
   "metadata": {},
   "source": [
    "## Reading Data"
   ]
  },
  {
   "cell_type": "code",
   "execution_count": 3,
   "id": "03e43697",
   "metadata": {},
   "outputs": [],
   "source": [
    "df_cases = pd.read_csv('./COVID-19_Cases_in_the_Philippines_Dataset/Testing_Aggregates_20200513.csv')"
   ]
  },
  {
   "cell_type": "code",
   "execution_count": 4,
   "id": "a71c90b7",
   "metadata": {},
   "outputs": [
    {
     "data": {
      "text/html": [
       "<div>\n",
       "<style scoped>\n",
       "    .dataframe tbody tr th:only-of-type {\n",
       "        vertical-align: middle;\n",
       "    }\n",
       "\n",
       "    .dataframe tbody tr th {\n",
       "        vertical-align: top;\n",
       "    }\n",
       "\n",
       "    .dataframe thead th {\n",
       "        text-align: right;\n",
       "    }\n",
       "</style>\n",
       "<table border=\"1\" class=\"dataframe\">\n",
       "  <thead>\n",
       "    <tr style=\"text-align: right;\">\n",
       "      <th></th>\n",
       "      <th>Date</th>\n",
       "      <th>Name of Health Facility/Laboratory</th>\n",
       "      <th>Abbrev of Health Facility</th>\n",
       "      <th>Daily Output - Positive Individuals</th>\n",
       "      <th>Daily Output - Unique Individuals Tested</th>\n",
       "      <th>Daily Output - Tests Conducted</th>\n",
       "      <th>UNIQUE INDIVIDUALS TESTED</th>\n",
       "      <th>POSITIVE INDIVIDUALS</th>\n",
       "      <th>% positive/ unique individuals</th>\n",
       "      <th>NEGATIVE INDIVIDUALS</th>\n",
       "      <th>% negative/ unique individuals</th>\n",
       "      <th>EQUIVOCAL</th>\n",
       "      <th>% equivocal /unique individuals</th>\n",
       "      <th>INVALID</th>\n",
       "      <th>% invalid /unique individuals</th>\n",
       "      <th>TOTAL TESTS CONDUCTED</th>\n",
       "      <th>REMAINING AVAILABLE TESTS</th>\n",
       "      <th>Unnamed: 17</th>\n",
       "    </tr>\n",
       "  </thead>\n",
       "  <tbody>\n",
       "    <tr>\n",
       "      <th>0</th>\n",
       "      <td>April 2, 2020</td>\n",
       "      <td>Research Institute for Tropical Medicine (RITM)</td>\n",
       "      <td>RITM</td>\n",
       "      <td>NaN</td>\n",
       "      <td>NaN</td>\n",
       "      <td>NaN</td>\n",
       "      <td>15,197</td>\n",
       "      <td>2,652</td>\n",
       "      <td>17%</td>\n",
       "      <td>11,367</td>\n",
       "      <td>75%</td>\n",
       "      <td>32</td>\n",
       "      <td>0.20%</td>\n",
       "      <td>NaN</td>\n",
       "      <td>NaN</td>\n",
       "      <td>20,826</td>\n",
       "      <td>75,396</td>\n",
       "      <td>NaN</td>\n",
       "    </tr>\n",
       "    <tr>\n",
       "      <th>1</th>\n",
       "      <td>April 2, 2020</td>\n",
       "      <td>Baguio General Hospital and Medical Center (BG...</td>\n",
       "      <td>BGHMC</td>\n",
       "      <td>NaN</td>\n",
       "      <td>NaN</td>\n",
       "      <td>NaN</td>\n",
       "      <td>473</td>\n",
       "      <td>21</td>\n",
       "      <td>4%</td>\n",
       "      <td>452</td>\n",
       "      <td>96%</td>\n",
       "      <td>0</td>\n",
       "      <td>0.00%</td>\n",
       "      <td>NaN</td>\n",
       "      <td>NaN</td>\n",
       "      <td>478</td>\n",
       "      <td>4,519</td>\n",
       "      <td>NaN</td>\n",
       "    </tr>\n",
       "    <tr>\n",
       "      <th>2</th>\n",
       "      <td>April 2, 2020</td>\n",
       "      <td>San Lazaro Hospital (SLH)</td>\n",
       "      <td>SLH</td>\n",
       "      <td>NaN</td>\n",
       "      <td>NaN</td>\n",
       "      <td>NaN</td>\n",
       "      <td>115</td>\n",
       "      <td>31</td>\n",
       "      <td>27%</td>\n",
       "      <td>84</td>\n",
       "      <td>73%</td>\n",
       "      <td>0</td>\n",
       "      <td>0.00%</td>\n",
       "      <td>NaN</td>\n",
       "      <td>NaN</td>\n",
       "      <td>193</td>\n",
       "      <td>4,846</td>\n",
       "      <td>NaN</td>\n",
       "    </tr>\n",
       "    <tr>\n",
       "      <th>3</th>\n",
       "      <td>April 2, 2020</td>\n",
       "      <td>Vicente Sotto Memorial Medical Center (VSMMC)</td>\n",
       "      <td>VSMMC</td>\n",
       "      <td>NaN</td>\n",
       "      <td>NaN</td>\n",
       "      <td>NaN</td>\n",
       "      <td>672</td>\n",
       "      <td>37</td>\n",
       "      <td>6%</td>\n",
       "      <td>634</td>\n",
       "      <td>94%</td>\n",
       "      <td>1</td>\n",
       "      <td>0.10%</td>\n",
       "      <td>NaN</td>\n",
       "      <td>NaN</td>\n",
       "      <td>672</td>\n",
       "      <td>23,812</td>\n",
       "      <td>NaN</td>\n",
       "    </tr>\n",
       "    <tr>\n",
       "      <th>4</th>\n",
       "      <td>April 2, 2020</td>\n",
       "      <td>UP National Institutes of Health (UP-NIH)</td>\n",
       "      <td>UP-NIH</td>\n",
       "      <td>NaN</td>\n",
       "      <td>NaN</td>\n",
       "      <td>NaN</td>\n",
       "      <td>332</td>\n",
       "      <td>43</td>\n",
       "      <td>13%</td>\n",
       "      <td>279</td>\n",
       "      <td>84%</td>\n",
       "      <td>10</td>\n",
       "      <td>3.00%</td>\n",
       "      <td>NaN</td>\n",
       "      <td>NaN</td>\n",
       "      <td>335</td>\n",
       "      <td>4,565</td>\n",
       "      <td>NaN</td>\n",
       "    </tr>\n",
       "    <tr>\n",
       "      <th>...</th>\n",
       "      <td>...</td>\n",
       "      <td>...</td>\n",
       "      <td>...</td>\n",
       "      <td>...</td>\n",
       "      <td>...</td>\n",
       "      <td>...</td>\n",
       "      <td>...</td>\n",
       "      <td>...</td>\n",
       "      <td>...</td>\n",
       "      <td>...</td>\n",
       "      <td>...</td>\n",
       "      <td>...</td>\n",
       "      <td>...</td>\n",
       "      <td>...</td>\n",
       "      <td>...</td>\n",
       "      <td>...</td>\n",
       "      <td>...</td>\n",
       "      <td>...</td>\n",
       "    </tr>\n",
       "    <tr>\n",
       "      <th>651</th>\n",
       "      <td>May 12, 2020</td>\n",
       "      <td>Chinese General Hospital (CGH)</td>\n",
       "      <td>CGH</td>\n",
       "      <td>22</td>\n",
       "      <td>439</td>\n",
       "      <td>439</td>\n",
       "      <td>3,272</td>\n",
       "      <td>321</td>\n",
       "      <td>10%</td>\n",
       "      <td>2,951</td>\n",
       "      <td>90%</td>\n",
       "      <td>0</td>\n",
       "      <td>0.00%</td>\n",
       "      <td>0.0</td>\n",
       "      <td>0.00%</td>\n",
       "      <td>3,277</td>\n",
       "      <td>-</td>\n",
       "      <td>NaN</td>\n",
       "    </tr>\n",
       "    <tr>\n",
       "      <th>652</th>\n",
       "      <td>May 12, 2020</td>\n",
       "      <td>Philippine Red Cross Logistics &amp; Multipurpose ...</td>\n",
       "      <td>PLMC</td>\n",
       "      <td>30</td>\n",
       "      <td>2,158</td>\n",
       "      <td>2,158</td>\n",
       "      <td>14,754</td>\n",
       "      <td>538</td>\n",
       "      <td>4%</td>\n",
       "      <td>14,202</td>\n",
       "      <td>96%</td>\n",
       "      <td>14</td>\n",
       "      <td>0.10%</td>\n",
       "      <td>0.0</td>\n",
       "      <td>0.00%</td>\n",
       "      <td>14,755</td>\n",
       "      <td>-</td>\n",
       "      <td>NaN</td>\n",
       "    </tr>\n",
       "    <tr>\n",
       "      <th>653</th>\n",
       "      <td>May 12, 2020</td>\n",
       "      <td>Singapore Diagnostics</td>\n",
       "      <td>NaN</td>\n",
       "      <td>8</td>\n",
       "      <td>99</td>\n",
       "      <td>99</td>\n",
       "      <td>351</td>\n",
       "      <td>39</td>\n",
       "      <td>11%</td>\n",
       "      <td>312</td>\n",
       "      <td>89%</td>\n",
       "      <td>0</td>\n",
       "      <td>0.00%</td>\n",
       "      <td>0.0</td>\n",
       "      <td>0.00%</td>\n",
       "      <td>352</td>\n",
       "      <td>9,069</td>\n",
       "      <td>NaN</td>\n",
       "    </tr>\n",
       "    <tr>\n",
       "      <th>654</th>\n",
       "      <td>May 12, 2020</td>\n",
       "      <td>Lung Center of the Philippines GeneXpert Labor...</td>\n",
       "      <td>NaN</td>\n",
       "      <td>13</td>\n",
       "      <td>42</td>\n",
       "      <td>42</td>\n",
       "      <td>243</td>\n",
       "      <td>47</td>\n",
       "      <td>19%</td>\n",
       "      <td>196</td>\n",
       "      <td>81%</td>\n",
       "      <td>0</td>\n",
       "      <td>0.00%</td>\n",
       "      <td>0.0</td>\n",
       "      <td>0</td>\n",
       "      <td>243</td>\n",
       "      <td>894</td>\n",
       "      <td>NaN</td>\n",
       "    </tr>\n",
       "    <tr>\n",
       "      <th>655</th>\n",
       "      <td>May 12, 2020</td>\n",
       "      <td>Zamboanga City Medical Center GeneXpert Labora...</td>\n",
       "      <td>ZCMC</td>\n",
       "      <td>13</td>\n",
       "      <td>72</td>\n",
       "      <td>72</td>\n",
       "      <td>295</td>\n",
       "      <td>51</td>\n",
       "      <td>17%</td>\n",
       "      <td>243</td>\n",
       "      <td>82%</td>\n",
       "      <td>1</td>\n",
       "      <td>0.30%</td>\n",
       "      <td>0.0</td>\n",
       "      <td>0</td>\n",
       "      <td>298</td>\n",
       "      <td>842</td>\n",
       "      <td>NaN</td>\n",
       "    </tr>\n",
       "  </tbody>\n",
       "</table>\n",
       "<p>656 rows × 18 columns</p>\n",
       "</div>"
      ],
      "text/plain": [
       "              Date                 Name of Health Facility/Laboratory  \\\n",
       "0    April 2, 2020    Research Institute for Tropical Medicine (RITM)   \n",
       "1    April 2, 2020  Baguio General Hospital and Medical Center (BG...   \n",
       "2    April 2, 2020                          San Lazaro Hospital (SLH)   \n",
       "3    April 2, 2020      Vicente Sotto Memorial Medical Center (VSMMC)   \n",
       "4    April 2, 2020          UP National Institutes of Health (UP-NIH)   \n",
       "..             ...                                                ...   \n",
       "651   May 12, 2020                     Chinese General Hospital (CGH)   \n",
       "652   May 12, 2020  Philippine Red Cross Logistics & Multipurpose ...   \n",
       "653   May 12, 2020                              Singapore Diagnostics   \n",
       "654   May 12, 2020  Lung Center of the Philippines GeneXpert Labor...   \n",
       "655   May 12, 2020  Zamboanga City Medical Center GeneXpert Labora...   \n",
       "\n",
       "    Abbrev of Health Facility Daily Output - Positive Individuals  \\\n",
       "0                        RITM                                 NaN   \n",
       "1                       BGHMC                                 NaN   \n",
       "2                         SLH                                 NaN   \n",
       "3                       VSMMC                                 NaN   \n",
       "4                      UP-NIH                                 NaN   \n",
       "..                        ...                                 ...   \n",
       "651                       CGH                                  22   \n",
       "652                      PLMC                                  30   \n",
       "653                       NaN                                   8   \n",
       "654                       NaN                                  13   \n",
       "655                      ZCMC                                  13   \n",
       "\n",
       "    Daily Output - Unique Individuals Tested  Daily Output - Tests Conducted  \\\n",
       "0                                         NaN                            NaN   \n",
       "1                                         NaN                            NaN   \n",
       "2                                         NaN                            NaN   \n",
       "3                                         NaN                            NaN   \n",
       "4                                         NaN                            NaN   \n",
       "..                                        ...                            ...   \n",
       "651                                       439                            439   \n",
       "652                                     2,158                          2,158   \n",
       "653                                        99                             99   \n",
       "654                                        42                             42   \n",
       "655                                        72                             72   \n",
       "\n",
       "    UNIQUE INDIVIDUALS TESTED POSITIVE INDIVIDUALS  \\\n",
       "0                      15,197                2,652   \n",
       "1                         473                   21   \n",
       "2                         115                   31   \n",
       "3                         672                   37   \n",
       "4                         332                   43   \n",
       "..                        ...                  ...   \n",
       "651                     3,272                  321   \n",
       "652                    14,754                  538   \n",
       "653                       351                   39   \n",
       "654                       243                   47   \n",
       "655                       295                   51   \n",
       "\n",
       "    % positive/ unique individuals NEGATIVE INDIVIDUALS  \\\n",
       "0                              17%               11,367   \n",
       "1                               4%                  452   \n",
       "2                              27%                   84   \n",
       "3                               6%                  634   \n",
       "4                              13%                  279   \n",
       "..                             ...                  ...   \n",
       "651                            10%                2,951   \n",
       "652                             4%               14,202   \n",
       "653                            11%                  312   \n",
       "654                            19%                  196   \n",
       "655                            17%                  243   \n",
       "\n",
       "    % negative/ unique individuals  EQUIVOCAL % equivocal /unique individuals  \\\n",
       "0                              75%         32                           0.20%   \n",
       "1                              96%          0                           0.00%   \n",
       "2                              73%          0                           0.00%   \n",
       "3                              94%          1                           0.10%   \n",
       "4                              84%         10                           3.00%   \n",
       "..                             ...        ...                             ...   \n",
       "651                            90%          0                           0.00%   \n",
       "652                            96%         14                           0.10%   \n",
       "653                            89%          0                           0.00%   \n",
       "654                            81%          0                           0.00%   \n",
       "655                            82%          1                           0.30%   \n",
       "\n",
       "     INVALID % invalid /unique individuals TOTAL TESTS CONDUCTED  \\\n",
       "0        NaN                           NaN                20,826   \n",
       "1        NaN                           NaN                   478   \n",
       "2        NaN                           NaN                   193   \n",
       "3        NaN                           NaN                   672   \n",
       "4        NaN                           NaN                   335   \n",
       "..       ...                           ...                   ...   \n",
       "651      0.0                         0.00%                 3,277   \n",
       "652      0.0                         0.00%                14,755   \n",
       "653      0.0                         0.00%                   352   \n",
       "654      0.0                             0                   243   \n",
       "655      0.0                             0                   298   \n",
       "\n",
       "    REMAINING AVAILABLE TESTS Unnamed: 17  \n",
       "0                      75,396         NaN  \n",
       "1                       4,519         NaN  \n",
       "2                       4,846         NaN  \n",
       "3                      23,812         NaN  \n",
       "4                       4,565         NaN  \n",
       "..                        ...         ...  \n",
       "651                         -         NaN  \n",
       "652                         -         NaN  \n",
       "653                     9,069         NaN  \n",
       "654                       894         NaN  \n",
       "655                       842         NaN  \n",
       "\n",
       "[656 rows x 18 columns]"
      ]
     },
     "execution_count": 4,
     "metadata": {},
     "output_type": "execute_result"
    }
   ],
   "source": [
    "df_cases"
   ]
  },
  {
   "cell_type": "code",
   "execution_count": 90,
   "id": "c5cc9286",
   "metadata": {},
   "outputs": [],
   "source": [
    "path_isolbed_o = './COVID-19_Cases_in_the_Philippines_Dataset/DOH Data Collect - Daily Reports'\n",
    "csv_isolbed_o = glob.glob(path_isolbed_o + \"/*.csv\")\n",
    "df_list_isolbed_o = (pd.read_csv(file) for file in csv_isolbed_o)"
   ]
  },
  {
   "cell_type": "code",
   "execution_count": 91,
   "id": "944403a5",
   "metadata": {},
   "outputs": [],
   "source": [
    "df_isolbed_o = pd.concat(df_list_isolbed_o, ignore_index=True)"
   ]
  },
  {
   "cell_type": "code",
   "execution_count": 92,
   "id": "b774bda2",
   "metadata": {},
   "outputs": [
    {
     "data": {
      "text/plain": [
       "Index(['updateddate', 'addeddate', 'reportdate', 'icu_np_o', 'beds_ward_v',\n",
       "       'isolbed_o', 'icu_wnp_v', 'hfhudcode', 'beds_ward_o', 'id',\n",
       "       'reporttime', 'icu_np_v', 'mechvent_o', 'mechvent_v', 'isolbed_v',\n",
       "       'icu_wnp_o', 'cfname', 'er_suspro', 'adm_suspro', 'er_confirm',\n",
       "       'adm_confirm', 'icu_o', 'icu_v'],\n",
       "      dtype='object')"
      ]
     },
     "execution_count": 92,
     "metadata": {},
     "output_type": "execute_result"
    }
   ],
   "source": [
    "df_isolbed_o.columns"
   ]
  },
  {
   "cell_type": "code",
   "execution_count": 87,
   "id": "92ac6f07",
   "metadata": {},
   "outputs": [],
   "source": [
    "path_surgmask = './COVID-19_Cases_in_the_Philippines_Dataset/DOH Data Collect - Weekly Reports'\n",
    "csv_surgmask = glob.glob(path_surgmask + \"/*.csv\")\n",
    "df_list_surgmask = (pd.read_csv(file) for file in csv_surgmask)"
   ]
  },
  {
   "cell_type": "code",
   "execution_count": 88,
   "id": "fa499d55",
   "metadata": {},
   "outputs": [],
   "source": [
    "df_surgmask = pd.concat(df_list_surgmask, ignore_index=True)"
   ]
  },
  {
   "cell_type": "code",
   "execution_count": 89,
   "id": "c5bdc48c",
   "metadata": {},
   "outputs": [
    {
     "data": {
      "text/plain": [
       "Index(['updateddate', 'addeddate', 'reportdate', 'goggles', 'mechvent_tech',\n",
       "       'icu_nurse', 'respthe', 'shoe_cover', 'pulmo', 'medtech', 'gloves',\n",
       "       'face_shield', 'resident', 'gown', 'hfhudcode', 'ic_specialist',\n",
       "       'n95mask', 'er_nurse', 'id_specialist', 'ward_nurse', 'id', 'surgmask',\n",
       "       'head_cover', 'cfname', 'coverall'],\n",
       "      dtype='object')"
      ]
     },
     "execution_count": 89,
     "metadata": {},
     "output_type": "execute_result"
    }
   ],
   "source": [
    "df_surgmask.columns"
   ]
  },
  {
   "cell_type": "code",
   "execution_count": 5,
   "id": "d5274b00",
   "metadata": {},
   "outputs": [],
   "source": [
    "df_health_status = pd.read_csv('./COVID-19_Cases_in_the_Philippines_Dataset/Case_Information.csv')"
   ]
  },
  {
   "cell_type": "code",
   "execution_count": 6,
   "id": "a6629b73",
   "metadata": {},
   "outputs": [
    {
     "data": {
      "text/plain": [
       "Index(['case_id', 'age', 'age_group', 'sex', 'date_announced',\n",
       "       'date_recovered', 'date_of_death', 'status',\n",
       "       'date_announced_as_removed', 'province', 'muni_city', 'health_status',\n",
       "       'home_quarantined', 'date_of_onset_of_symptoms', 'pregnant', 'region'],\n",
       "      dtype='object')"
      ]
     },
     "execution_count": 6,
     "metadata": {},
     "output_type": "execute_result"
    }
   ],
   "source": [
    "df_health_status.columns"
   ]
  },
  {
   "cell_type": "markdown",
   "id": "b76df6cc",
   "metadata": {},
   "source": [
    "## Predict Number of Positive Cases\n",
    "\n",
    "Use logistic regression to predict the number of <i> positive individuals </i> by finding out which factors have a strong correlation with <i> positive individuals </i>\n",
    "\n",
    "Steps:\n",
    "1. Clean data and convert all values to int\n",
    "2. Create correlation matrix and visualize it. Choose factors with high correlation to <i>POSITIVE INDIVIDUALS</i>\n",
    "3. Create linear regression model and predict using x_test.\n",
    "4. Compare y_pred and y_test\n",
    "5. Evaluate model using R2 and MSE\n"
   ]
  },
  {
   "cell_type": "code",
   "execution_count": 6,
   "id": "6b643a5a",
   "metadata": {},
   "outputs": [
    {
     "data": {
      "text/plain": [
       "Index(['Date', 'Name of Health Facility/Laboratory',\n",
       "       'Abbrev of Health Facility', 'Daily Output - Positive Individuals',\n",
       "       'Daily Output - Unique Individuals Tested ',\n",
       "       'Daily Output - Tests Conducted', 'UNIQUE INDIVIDUALS TESTED',\n",
       "       'POSITIVE INDIVIDUALS', '% positive/ unique individuals',\n",
       "       'NEGATIVE INDIVIDUALS', '% negative/ unique individuals', 'EQUIVOCAL',\n",
       "       '% equivocal /unique individuals', 'INVALID',\n",
       "       '% invalid /unique individuals', 'TOTAL TESTS CONDUCTED',\n",
       "       'REMAINING AVAILABLE TESTS', 'Unnamed: 17'],\n",
       "      dtype='object')"
      ]
     },
     "execution_count": 6,
     "metadata": {},
     "output_type": "execute_result"
    }
   ],
   "source": [
    "df_cases.columns"
   ]
  },
  {
   "cell_type": "code",
   "execution_count": 7,
   "id": "2767946d",
   "metadata": {},
   "outputs": [],
   "source": [
    "df_cases = df_cases.drop('Unnamed: 17', axis=1)"
   ]
  },
  {
   "cell_type": "code",
   "execution_count": 8,
   "id": "82921e77",
   "metadata": {},
   "outputs": [],
   "source": [
    "df_corr_cases = df_cases.drop(['Date', 'Name of Health Facility/Laboratory',\n",
    "       'Abbrev of Health Facility', '% positive/ unique individuals', '% negative/ unique individuals', '% equivocal /unique individuals', \n",
    "        '% invalid /unique individuals'], axis=1)"
   ]
  },
  {
   "cell_type": "code",
   "execution_count": 9,
   "id": "b2c658a7",
   "metadata": {},
   "outputs": [],
   "source": [
    "# replace NA data with 0\n",
    "df_corr_cases = df_corr_cases.fillna(0)"
   ]
  },
  {
   "cell_type": "code",
   "execution_count": 10,
   "id": "f6145a65",
   "metadata": {},
   "outputs": [
    {
     "data": {
      "text/plain": [
       "Daily Output - Positive Individuals           object\n",
       "Daily Output - Unique Individuals Tested      object\n",
       "Daily Output - Tests Conducted                object\n",
       "UNIQUE INDIVIDUALS TESTED                     object\n",
       "POSITIVE INDIVIDUALS                          object\n",
       "NEGATIVE INDIVIDUALS                          object\n",
       "EQUIVOCAL                                      int64\n",
       "INVALID                                      float64\n",
       "TOTAL TESTS CONDUCTED                         object\n",
       "REMAINING AVAILABLE TESTS                     object\n",
       "dtype: object"
      ]
     },
     "execution_count": 10,
     "metadata": {},
     "output_type": "execute_result"
    }
   ],
   "source": [
    "# check the types of each column\n",
    "df_corr_cases.dtypes"
   ]
  },
  {
   "cell_type": "code",
   "execution_count": 11,
   "id": "42cfdf16",
   "metadata": {},
   "outputs": [],
   "source": [
    "# the numbers in eahc column are in string format with commas. remove commas first to convert str to int\n",
    "df_corr_cases = df_corr_cases.replace(\",\", \"\", regex=True)"
   ]
  },
  {
   "cell_type": "code",
   "execution_count": 12,
   "id": "f3ebbb4f",
   "metadata": {},
   "outputs": [],
   "source": [
    "# this row has 'NR' as its values so dropped it\n",
    "df_corr_cases = df_corr_cases.drop(146)"
   ]
  },
  {
   "cell_type": "code",
   "execution_count": 13,
   "id": "6772a03c",
   "metadata": {},
   "outputs": [
    {
     "data": {
      "text/html": [
       "<div>\n",
       "<style scoped>\n",
       "    .dataframe tbody tr th:only-of-type {\n",
       "        vertical-align: middle;\n",
       "    }\n",
       "\n",
       "    .dataframe tbody tr th {\n",
       "        vertical-align: top;\n",
       "    }\n",
       "\n",
       "    .dataframe thead th {\n",
       "        text-align: right;\n",
       "    }\n",
       "</style>\n",
       "<table border=\"1\" class=\"dataframe\">\n",
       "  <thead>\n",
       "    <tr style=\"text-align: right;\">\n",
       "      <th></th>\n",
       "      <th>Daily Output - Positive Individuals</th>\n",
       "      <th>Daily Output - Unique Individuals Tested</th>\n",
       "      <th>Daily Output - Tests Conducted</th>\n",
       "      <th>UNIQUE INDIVIDUALS TESTED</th>\n",
       "      <th>POSITIVE INDIVIDUALS</th>\n",
       "      <th>NEGATIVE INDIVIDUALS</th>\n",
       "      <th>EQUIVOCAL</th>\n",
       "      <th>INVALID</th>\n",
       "      <th>TOTAL TESTS CONDUCTED</th>\n",
       "      <th>REMAINING AVAILABLE TESTS</th>\n",
       "    </tr>\n",
       "  </thead>\n",
       "  <tbody>\n",
       "    <tr>\n",
       "      <th>617</th>\n",
       "      <td>0</td>\n",
       "      <td>8</td>\n",
       "      <td>7</td>\n",
       "      <td>8</td>\n",
       "      <td>0</td>\n",
       "      <td>7</td>\n",
       "      <td>0</td>\n",
       "      <td>1.0</td>\n",
       "      <td>7</td>\n",
       "      <td>-</td>\n",
       "    </tr>\n",
       "    <tr>\n",
       "      <th>624</th>\n",
       "      <td>24</td>\n",
       "      <td>366</td>\n",
       "      <td>366</td>\n",
       "      <td>2833</td>\n",
       "      <td>299</td>\n",
       "      <td>2534</td>\n",
       "      <td>0</td>\n",
       "      <td>0.0</td>\n",
       "      <td>2838</td>\n",
       "      <td>-</td>\n",
       "    </tr>\n",
       "    <tr>\n",
       "      <th>644</th>\n",
       "      <td>0</td>\n",
       "      <td>16</td>\n",
       "      <td>17</td>\n",
       "      <td>16</td>\n",
       "      <td>0</td>\n",
       "      <td>24</td>\n",
       "      <td>0</td>\n",
       "      <td>0.0</td>\n",
       "      <td>24</td>\n",
       "      <td>-</td>\n",
       "    </tr>\n",
       "    <tr>\n",
       "      <th>651</th>\n",
       "      <td>22</td>\n",
       "      <td>439</td>\n",
       "      <td>439</td>\n",
       "      <td>3272</td>\n",
       "      <td>321</td>\n",
       "      <td>2951</td>\n",
       "      <td>0</td>\n",
       "      <td>0.0</td>\n",
       "      <td>3277</td>\n",
       "      <td>-</td>\n",
       "    </tr>\n",
       "    <tr>\n",
       "      <th>652</th>\n",
       "      <td>30</td>\n",
       "      <td>2158</td>\n",
       "      <td>2158</td>\n",
       "      <td>14754</td>\n",
       "      <td>538</td>\n",
       "      <td>14202</td>\n",
       "      <td>14</td>\n",
       "      <td>0.0</td>\n",
       "      <td>14755</td>\n",
       "      <td>-</td>\n",
       "    </tr>\n",
       "  </tbody>\n",
       "</table>\n",
       "</div>"
      ],
      "text/plain": [
       "    Daily Output - Positive Individuals  \\\n",
       "617                                   0   \n",
       "624                                  24   \n",
       "644                                   0   \n",
       "651                                  22   \n",
       "652                                  30   \n",
       "\n",
       "    Daily Output - Unique Individuals Tested  Daily Output - Tests Conducted  \\\n",
       "617                                         8                              7   \n",
       "624                                       366                            366   \n",
       "644                                        16                             17   \n",
       "651                                       439                            439   \n",
       "652                                      2158                           2158   \n",
       "\n",
       "    UNIQUE INDIVIDUALS TESTED POSITIVE INDIVIDUALS NEGATIVE INDIVIDUALS  \\\n",
       "617                         8                    0                    7   \n",
       "624                      2833                  299                 2534   \n",
       "644                        16                    0                   24   \n",
       "651                      3272                  321                 2951   \n",
       "652                     14754                  538                14202   \n",
       "\n",
       "     EQUIVOCAL  INVALID TOTAL TESTS CONDUCTED REMAINING AVAILABLE TESTS  \n",
       "617          0      1.0                     7                         -  \n",
       "624          0      0.0                  2838                         -  \n",
       "644          0      0.0                    24                         -  \n",
       "651          0      0.0                  3277                         -  \n",
       "652         14      0.0                 14755                         -  "
      ]
     },
     "execution_count": 13,
     "metadata": {},
     "output_type": "execute_result"
    }
   ],
   "source": [
    "# some rows have '-' as their value in REMAINING AVAILABLE TESTS so replace them with 0\n",
    "df_corr_cases.loc[df_corr_cases['REMAINING AVAILABLE TESTS'] == '-']"
   ]
  },
  {
   "cell_type": "code",
   "execution_count": 14,
   "id": "f69e2c5d",
   "metadata": {},
   "outputs": [],
   "source": [
    "df_corr_cases = df_corr_cases.replace(\"-\", \"0\")"
   ]
  },
  {
   "cell_type": "code",
   "execution_count": 15,
   "id": "cb5be709",
   "metadata": {},
   "outputs": [],
   "source": [
    "# now change all values in the dataframe to int\n",
    "df_corr_cases = df_corr_cases.astype(int)"
   ]
  },
  {
   "cell_type": "code",
   "execution_count": 16,
   "id": "a3fcd4ad",
   "metadata": {},
   "outputs": [
    {
     "data": {
      "text/plain": [
       "Daily Output - Positive Individuals          int32\n",
       "Daily Output - Unique Individuals Tested     int32\n",
       "Daily Output - Tests Conducted               int32\n",
       "UNIQUE INDIVIDUALS TESTED                    int32\n",
       "POSITIVE INDIVIDUALS                         int32\n",
       "NEGATIVE INDIVIDUALS                         int32\n",
       "EQUIVOCAL                                    int32\n",
       "INVALID                                      int32\n",
       "TOTAL TESTS CONDUCTED                        int32\n",
       "REMAINING AVAILABLE TESTS                    int32\n",
       "dtype: object"
      ]
     },
     "execution_count": 16,
     "metadata": {},
     "output_type": "execute_result"
    }
   ],
   "source": [
    "# types have now changed to int\n",
    "df_corr_cases.dtypes"
   ]
  },
  {
   "cell_type": "code",
   "execution_count": 17,
   "id": "8a230012",
   "metadata": {},
   "outputs": [
    {
     "data": {
      "text/html": [
       "<div>\n",
       "<style scoped>\n",
       "    .dataframe tbody tr th:only-of-type {\n",
       "        vertical-align: middle;\n",
       "    }\n",
       "\n",
       "    .dataframe tbody tr th {\n",
       "        vertical-align: top;\n",
       "    }\n",
       "\n",
       "    .dataframe thead th {\n",
       "        text-align: right;\n",
       "    }\n",
       "</style>\n",
       "<table border=\"1\" class=\"dataframe\">\n",
       "  <thead>\n",
       "    <tr style=\"text-align: right;\">\n",
       "      <th></th>\n",
       "      <th>Daily Output - Positive Individuals</th>\n",
       "      <th>Daily Output - Unique Individuals Tested</th>\n",
       "      <th>Daily Output - Tests Conducted</th>\n",
       "      <th>UNIQUE INDIVIDUALS TESTED</th>\n",
       "      <th>POSITIVE INDIVIDUALS</th>\n",
       "      <th>NEGATIVE INDIVIDUALS</th>\n",
       "      <th>EQUIVOCAL</th>\n",
       "      <th>INVALID</th>\n",
       "      <th>TOTAL TESTS CONDUCTED</th>\n",
       "      <th>REMAINING AVAILABLE TESTS</th>\n",
       "    </tr>\n",
       "  </thead>\n",
       "  <tbody>\n",
       "    <tr>\n",
       "      <th>Daily Output - Positive Individuals</th>\n",
       "      <td>1.000000</td>\n",
       "      <td>0.658014</td>\n",
       "      <td>0.671802</td>\n",
       "      <td>0.476077</td>\n",
       "      <td>0.514300</td>\n",
       "      <td>0.465780</td>\n",
       "      <td>0.251123</td>\n",
       "      <td>0.081320</td>\n",
       "      <td>0.467161</td>\n",
       "      <td>0.196757</td>\n",
       "    </tr>\n",
       "    <tr>\n",
       "      <th>Daily Output - Unique Individuals Tested</th>\n",
       "      <td>0.658014</td>\n",
       "      <td>1.000000</td>\n",
       "      <td>0.990812</td>\n",
       "      <td>0.644753</td>\n",
       "      <td>0.567148</td>\n",
       "      <td>0.655022</td>\n",
       "      <td>0.200055</td>\n",
       "      <td>0.064238</td>\n",
       "      <td>0.625036</td>\n",
       "      <td>0.364163</td>\n",
       "    </tr>\n",
       "    <tr>\n",
       "      <th>Daily Output - Tests Conducted</th>\n",
       "      <td>0.671802</td>\n",
       "      <td>0.990812</td>\n",
       "      <td>1.000000</td>\n",
       "      <td>0.701332</td>\n",
       "      <td>0.629663</td>\n",
       "      <td>0.710170</td>\n",
       "      <td>0.212423</td>\n",
       "      <td>0.067451</td>\n",
       "      <td>0.683453</td>\n",
       "      <td>0.377935</td>\n",
       "    </tr>\n",
       "    <tr>\n",
       "      <th>UNIQUE INDIVIDUALS TESTED</th>\n",
       "      <td>0.476077</td>\n",
       "      <td>0.644753</td>\n",
       "      <td>0.701332</td>\n",
       "      <td>1.000000</td>\n",
       "      <td>0.970181</td>\n",
       "      <td>0.998950</td>\n",
       "      <td>0.294263</td>\n",
       "      <td>0.068177</td>\n",
       "      <td>0.999053</td>\n",
       "      <td>0.596016</td>\n",
       "    </tr>\n",
       "    <tr>\n",
       "      <th>POSITIVE INDIVIDUALS</th>\n",
       "      <td>0.514300</td>\n",
       "      <td>0.567148</td>\n",
       "      <td>0.629663</td>\n",
       "      <td>0.970181</td>\n",
       "      <td>1.000000</td>\n",
       "      <td>0.958205</td>\n",
       "      <td>0.332230</td>\n",
       "      <td>0.059700</td>\n",
       "      <td>0.975383</td>\n",
       "      <td>0.538851</td>\n",
       "    </tr>\n",
       "    <tr>\n",
       "      <th>NEGATIVE INDIVIDUALS</th>\n",
       "      <td>0.465780</td>\n",
       "      <td>0.655022</td>\n",
       "      <td>0.710170</td>\n",
       "      <td>0.998950</td>\n",
       "      <td>0.958205</td>\n",
       "      <td>1.000000</td>\n",
       "      <td>0.281079</td>\n",
       "      <td>0.065034</td>\n",
       "      <td>0.996830</td>\n",
       "      <td>0.602826</td>\n",
       "    </tr>\n",
       "    <tr>\n",
       "      <th>EQUIVOCAL</th>\n",
       "      <td>0.251123</td>\n",
       "      <td>0.200055</td>\n",
       "      <td>0.212423</td>\n",
       "      <td>0.294263</td>\n",
       "      <td>0.332230</td>\n",
       "      <td>0.281079</td>\n",
       "      <td>1.000000</td>\n",
       "      <td>0.752341</td>\n",
       "      <td>0.290951</td>\n",
       "      <td>0.104416</td>\n",
       "    </tr>\n",
       "    <tr>\n",
       "      <th>INVALID</th>\n",
       "      <td>0.081320</td>\n",
       "      <td>0.064238</td>\n",
       "      <td>0.067451</td>\n",
       "      <td>0.068177</td>\n",
       "      <td>0.059700</td>\n",
       "      <td>0.065034</td>\n",
       "      <td>0.752341</td>\n",
       "      <td>1.000000</td>\n",
       "      <td>0.063102</td>\n",
       "      <td>-0.019909</td>\n",
       "    </tr>\n",
       "    <tr>\n",
       "      <th>TOTAL TESTS CONDUCTED</th>\n",
       "      <td>0.467161</td>\n",
       "      <td>0.625036</td>\n",
       "      <td>0.683453</td>\n",
       "      <td>0.999053</td>\n",
       "      <td>0.975383</td>\n",
       "      <td>0.996830</td>\n",
       "      <td>0.290951</td>\n",
       "      <td>0.063102</td>\n",
       "      <td>1.000000</td>\n",
       "      <td>0.598473</td>\n",
       "    </tr>\n",
       "    <tr>\n",
       "      <th>REMAINING AVAILABLE TESTS</th>\n",
       "      <td>0.196757</td>\n",
       "      <td>0.364163</td>\n",
       "      <td>0.377935</td>\n",
       "      <td>0.596016</td>\n",
       "      <td>0.538851</td>\n",
       "      <td>0.602826</td>\n",
       "      <td>0.104416</td>\n",
       "      <td>-0.019909</td>\n",
       "      <td>0.598473</td>\n",
       "      <td>1.000000</td>\n",
       "    </tr>\n",
       "  </tbody>\n",
       "</table>\n",
       "</div>"
      ],
      "text/plain": [
       "                                           Daily Output - Positive Individuals  \\\n",
       "Daily Output - Positive Individuals                                   1.000000   \n",
       "Daily Output - Unique Individuals Tested                              0.658014   \n",
       "Daily Output - Tests Conducted                                        0.671802   \n",
       "UNIQUE INDIVIDUALS TESTED                                             0.476077   \n",
       "POSITIVE INDIVIDUALS                                                  0.514300   \n",
       "NEGATIVE INDIVIDUALS                                                  0.465780   \n",
       "EQUIVOCAL                                                             0.251123   \n",
       "INVALID                                                               0.081320   \n",
       "TOTAL TESTS CONDUCTED                                                 0.467161   \n",
       "REMAINING AVAILABLE TESTS                                             0.196757   \n",
       "\n",
       "                                           Daily Output - Unique Individuals Tested   \\\n",
       "Daily Output - Positive Individuals                                         0.658014   \n",
       "Daily Output - Unique Individuals Tested                                    1.000000   \n",
       "Daily Output - Tests Conducted                                              0.990812   \n",
       "UNIQUE INDIVIDUALS TESTED                                                   0.644753   \n",
       "POSITIVE INDIVIDUALS                                                        0.567148   \n",
       "NEGATIVE INDIVIDUALS                                                        0.655022   \n",
       "EQUIVOCAL                                                                   0.200055   \n",
       "INVALID                                                                     0.064238   \n",
       "TOTAL TESTS CONDUCTED                                                       0.625036   \n",
       "REMAINING AVAILABLE TESTS                                                   0.364163   \n",
       "\n",
       "                                           Daily Output - Tests Conducted  \\\n",
       "Daily Output - Positive Individuals                              0.671802   \n",
       "Daily Output - Unique Individuals Tested                         0.990812   \n",
       "Daily Output - Tests Conducted                                   1.000000   \n",
       "UNIQUE INDIVIDUALS TESTED                                        0.701332   \n",
       "POSITIVE INDIVIDUALS                                             0.629663   \n",
       "NEGATIVE INDIVIDUALS                                             0.710170   \n",
       "EQUIVOCAL                                                        0.212423   \n",
       "INVALID                                                          0.067451   \n",
       "TOTAL TESTS CONDUCTED                                            0.683453   \n",
       "REMAINING AVAILABLE TESTS                                        0.377935   \n",
       "\n",
       "                                           UNIQUE INDIVIDUALS TESTED  \\\n",
       "Daily Output - Positive Individuals                         0.476077   \n",
       "Daily Output - Unique Individuals Tested                    0.644753   \n",
       "Daily Output - Tests Conducted                              0.701332   \n",
       "UNIQUE INDIVIDUALS TESTED                                   1.000000   \n",
       "POSITIVE INDIVIDUALS                                        0.970181   \n",
       "NEGATIVE INDIVIDUALS                                        0.998950   \n",
       "EQUIVOCAL                                                   0.294263   \n",
       "INVALID                                                     0.068177   \n",
       "TOTAL TESTS CONDUCTED                                       0.999053   \n",
       "REMAINING AVAILABLE TESTS                                   0.596016   \n",
       "\n",
       "                                           POSITIVE INDIVIDUALS  \\\n",
       "Daily Output - Positive Individuals                    0.514300   \n",
       "Daily Output - Unique Individuals Tested               0.567148   \n",
       "Daily Output - Tests Conducted                         0.629663   \n",
       "UNIQUE INDIVIDUALS TESTED                              0.970181   \n",
       "POSITIVE INDIVIDUALS                                   1.000000   \n",
       "NEGATIVE INDIVIDUALS                                   0.958205   \n",
       "EQUIVOCAL                                              0.332230   \n",
       "INVALID                                                0.059700   \n",
       "TOTAL TESTS CONDUCTED                                  0.975383   \n",
       "REMAINING AVAILABLE TESTS                              0.538851   \n",
       "\n",
       "                                           NEGATIVE INDIVIDUALS  EQUIVOCAL  \\\n",
       "Daily Output - Positive Individuals                    0.465780   0.251123   \n",
       "Daily Output - Unique Individuals Tested               0.655022   0.200055   \n",
       "Daily Output - Tests Conducted                         0.710170   0.212423   \n",
       "UNIQUE INDIVIDUALS TESTED                              0.998950   0.294263   \n",
       "POSITIVE INDIVIDUALS                                   0.958205   0.332230   \n",
       "NEGATIVE INDIVIDUALS                                   1.000000   0.281079   \n",
       "EQUIVOCAL                                              0.281079   1.000000   \n",
       "INVALID                                                0.065034   0.752341   \n",
       "TOTAL TESTS CONDUCTED                                  0.996830   0.290951   \n",
       "REMAINING AVAILABLE TESTS                              0.602826   0.104416   \n",
       "\n",
       "                                            INVALID  TOTAL TESTS CONDUCTED  \\\n",
       "Daily Output - Positive Individuals        0.081320               0.467161   \n",
       "Daily Output - Unique Individuals Tested   0.064238               0.625036   \n",
       "Daily Output - Tests Conducted             0.067451               0.683453   \n",
       "UNIQUE INDIVIDUALS TESTED                  0.068177               0.999053   \n",
       "POSITIVE INDIVIDUALS                       0.059700               0.975383   \n",
       "NEGATIVE INDIVIDUALS                       0.065034               0.996830   \n",
       "EQUIVOCAL                                  0.752341               0.290951   \n",
       "INVALID                                    1.000000               0.063102   \n",
       "TOTAL TESTS CONDUCTED                      0.063102               1.000000   \n",
       "REMAINING AVAILABLE TESTS                 -0.019909               0.598473   \n",
       "\n",
       "                                           REMAINING AVAILABLE TESTS  \n",
       "Daily Output - Positive Individuals                         0.196757  \n",
       "Daily Output - Unique Individuals Tested                    0.364163  \n",
       "Daily Output - Tests Conducted                              0.377935  \n",
       "UNIQUE INDIVIDUALS TESTED                                   0.596016  \n",
       "POSITIVE INDIVIDUALS                                        0.538851  \n",
       "NEGATIVE INDIVIDUALS                                        0.602826  \n",
       "EQUIVOCAL                                                   0.104416  \n",
       "INVALID                                                    -0.019909  \n",
       "TOTAL TESTS CONDUCTED                                       0.598473  \n",
       "REMAINING AVAILABLE TESTS                                   1.000000  "
      ]
     },
     "execution_count": 17,
     "metadata": {},
     "output_type": "execute_result"
    }
   ],
   "source": [
    "# calculate correlation values of each column with each other to find the columns we can use\n",
    "df_corr_cases.corr()"
   ]
  },
  {
   "cell_type": "code",
   "execution_count": 18,
   "id": "9491d2d8",
   "metadata": {},
   "outputs": [
    {
     "data": {
      "text/plain": [
       "<AxesSubplot:>"
      ]
     },
     "execution_count": 18,
     "metadata": {},
     "output_type": "execute_result"
    },
    {
     "data": {
      "image/png": "[encoded data removed]",
      "text/plain": [
       "<Figure size 648x504 with 2 Axes>"
      ]
     },
     "metadata": {
      "needs_background": "light"
     },
     "output_type": "display_data"
    }
   ],
   "source": [
    "# Correlation heatmap\n",
    "\n",
    "# Set up the matplotlib figure\n",
    "f, ax = plt.subplots(figsize=(9, 7))\n",
    "\n",
    "# Generate a custom diverging colormap\n",
    "cmap = sns.diverging_palette(230, 10, as_cmap=True)\n",
    "\n",
    "# Draw the heatmap with the mask and correct aspect ratio\n",
    "sns.heatmap(df_corr_cases.corr(), cmap=cmap, vmax=.9, square=True, linewidths=.5, ax=ax)"
   ]
  },
  {
   "cell_type": "code",
   "execution_count": 19,
   "id": "da2468ba",
   "metadata": {},
   "outputs": [
    {
     "data": {
      "text/plain": [
       "<seaborn.axisgrid.PairGrid at 0x1680078fdc0>"
      ]
     },
     "execution_count": 19,
     "metadata": {},
     "output_type": "execute_result"
    },
    {
     "data": {
      "image/png": "[encoded data removed]",
      "text/plain": [
       "<Figure size 1512x504 with 3 Axes>"
      ]
     },
     "metadata": {
      "needs_background": "light"
     },
     "output_type": "display_data"
    }
   ],
   "source": [
    "# visualize the relationship of the 3 predictors and positive individuals\n",
    "sns.pairplot(df_corr_cases, x_vars=['UNIQUE INDIVIDUALS TESTED', 'NEGATIVE INDIVIDUALS', 'TOTAL TESTS CONDUCTED'], y_vars='POSITIVE INDIVIDUALS', height=7,aspect=1,kind='reg')"
   ]
  },
  {
   "cell_type": "markdown",
   "id": "ed061e1a",
   "metadata": {},
   "source": [
    "To predict the number positive individuals, we will use the predictors that scored over 90% on the correlation matrix which are: unique individuals tested, negative individuals, and total tests conducted."
   ]
  },
  {
   "cell_type": "code",
   "execution_count": 20,
   "id": "8dbb8b72",
   "metadata": {},
   "outputs": [
    {
     "data": {
      "text/html": [
       "<div>\n",
       "<style scoped>\n",
       "    .dataframe tbody tr th:only-of-type {\n",
       "        vertical-align: middle;\n",
       "    }\n",
       "\n",
       "    .dataframe tbody tr th {\n",
       "        vertical-align: top;\n",
       "    }\n",
       "\n",
       "    .dataframe thead th {\n",
       "        text-align: right;\n",
       "    }\n",
       "</style>\n",
       "<table border=\"1\" class=\"dataframe\">\n",
       "  <thead>\n",
       "    <tr style=\"text-align: right;\">\n",
       "      <th></th>\n",
       "      <th>UNIQUE INDIVIDUALS TESTED</th>\n",
       "      <th>NEGATIVE INDIVIDUALS</th>\n",
       "      <th>TOTAL TESTS CONDUCTED</th>\n",
       "    </tr>\n",
       "  </thead>\n",
       "  <tbody>\n",
       "    <tr>\n",
       "      <th>0</th>\n",
       "      <td>15197</td>\n",
       "      <td>11367</td>\n",
       "      <td>20826</td>\n",
       "    </tr>\n",
       "    <tr>\n",
       "      <th>1</th>\n",
       "      <td>473</td>\n",
       "      <td>452</td>\n",
       "      <td>478</td>\n",
       "    </tr>\n",
       "    <tr>\n",
       "      <th>2</th>\n",
       "      <td>115</td>\n",
       "      <td>84</td>\n",
       "      <td>193</td>\n",
       "    </tr>\n",
       "    <tr>\n",
       "      <th>3</th>\n",
       "      <td>672</td>\n",
       "      <td>634</td>\n",
       "      <td>672</td>\n",
       "    </tr>\n",
       "    <tr>\n",
       "      <th>4</th>\n",
       "      <td>332</td>\n",
       "      <td>279</td>\n",
       "      <td>335</td>\n",
       "    </tr>\n",
       "  </tbody>\n",
       "</table>\n",
       "</div>"
      ],
      "text/plain": [
       "   UNIQUE INDIVIDUALS TESTED  NEGATIVE INDIVIDUALS  TOTAL TESTS CONDUCTED\n",
       "0                      15197                 11367                  20826\n",
       "1                        473                   452                    478\n",
       "2                        115                    84                    193\n",
       "3                        672                   634                    672\n",
       "4                        332                   279                    335"
      ]
     },
     "execution_count": 20,
     "metadata": {},
     "output_type": "execute_result"
    }
   ],
   "source": [
    "x = df_corr_cases[['UNIQUE INDIVIDUALS TESTED', 'NEGATIVE INDIVIDUALS', 'TOTAL TESTS CONDUCTED']]\n",
    "x.head(5)"
   ]
  },
  {
   "cell_type": "code",
   "execution_count": 21,
   "id": "fbf6ec74",
   "metadata": {},
   "outputs": [
    {
     "data": {
      "text/plain": [
       "0    2652\n",
       "1      21\n",
       "2      31\n",
       "3      37\n",
       "4      43\n",
       "Name: POSITIVE INDIVIDUALS, dtype: int32"
      ]
     },
     "execution_count": 21,
     "metadata": {},
     "output_type": "execute_result"
    }
   ],
   "source": [
    "y = df_corr_cases['POSITIVE INDIVIDUALS']\n",
    "y.head(5)"
   ]
  },
  {
   "cell_type": "code",
   "execution_count": 22,
   "id": "37af2416",
   "metadata": {},
   "outputs": [],
   "source": [
    "# separate into training and testing\n",
    "x_train, x_test, y_train, y_test = train_test_split(x, y, test_size = 0.15)"
   ]
  },
  {
   "cell_type": "code",
   "execution_count": 23,
   "id": "0beeec9d",
   "metadata": {},
   "outputs": [],
   "source": [
    "model = LinearRegression().fit(x_train, y_train)"
   ]
  },
  {
   "cell_type": "code",
   "execution_count": 24,
   "id": "c3e024c0",
   "metadata": {},
   "outputs": [],
   "source": [
    "# predictions by the model\n",
    "y_pred = model.predict(x_test)"
   ]
  },
  {
   "cell_type": "code",
   "execution_count": 25,
   "id": "b8dc38c6",
   "metadata": {},
   "outputs": [
    {
     "data": {
      "text/plain": [
       "-16.214679295941323"
      ]
     },
     "execution_count": 25,
     "metadata": {},
     "output_type": "execute_result"
    }
   ],
   "source": [
    "# intercept\n",
    "model.intercept_"
   ]
  },
  {
   "cell_type": "code",
   "execution_count": 26,
   "id": "0bec33ff",
   "metadata": {},
   "outputs": [
    {
     "data": {
      "text/plain": [
       "array([ 0.97031444, -0.95875753, -0.00533587])"
      ]
     },
     "execution_count": 26,
     "metadata": {},
     "output_type": "execute_result"
    }
   ],
   "source": [
    "# coefficients\n",
    "model.coef_"
   ]
  },
  {
   "cell_type": "code",
   "execution_count": 27,
   "id": "087caf61",
   "metadata": {},
   "outputs": [
    {
     "data": {
      "text/plain": [
       "0.9996204291538086"
      ]
     },
     "execution_count": 27,
     "metadata": {},
     "output_type": "execute_result"
    }
   ],
   "source": [
    "# coefficient of determination (r2)\n",
    "model.score(x_test, y_test)"
   ]
  },
  {
   "cell_type": "code",
   "execution_count": 28,
   "id": "5dc42fe7",
   "metadata": {},
   "outputs": [
    {
     "data": {
      "text/plain": [
       "1014.2045322051213"
      ]
     },
     "execution_count": 28,
     "metadata": {},
     "output_type": "execute_result"
    }
   ],
   "source": [
    "MSE = mean_squared_error(y_pred, y_test)\n",
    "MSE"
   ]
  },
  {
   "cell_type": "code",
   "execution_count": 29,
   "id": "09d2502e",
   "metadata": {},
   "outputs": [
    {
     "data": {
      "image/png": "[encoded data removed]",
      "text/plain": [
       "<Figure size 720x360 with 1 Axes>"
      ]
     },
     "metadata": {
      "needs_background": "light"
     },
     "output_type": "display_data"
    }
   ],
   "source": [
    "plt.figure(figsize=(10, 5))\n",
    "plt.scatter(y_pred, y_test, color ='r')\n",
    "plt.xlabel('Predicted')\n",
    "plt.ylabel('Actual')\n",
    "plt.show()"
   ]
  },
  {
   "cell_type": "code",
   "execution_count": 34,
   "id": "50f8f48f",
   "metadata": {},
   "outputs": [
    {
     "data": {
      "image/png": "[encoded data removed]",
      "text/plain": [
       "<Figure size 720x360 with 1 Axes>"
      ]
     },
     "metadata": {
      "needs_background": "light"
     },
     "output_type": "display_data"
    }
   ],
   "source": [
    "plt.figure(figsize=(10, 5))\n",
    "plt.scatter(x_test['UNIQUE INDIVIDUALS TESTED'], y_test, color ='b')\n",
    "plt.scatter(x_test['UNIQUE INDIVIDUALS TESTED'], y_pred, color ='r')\n",
    "#plt.plot(y_pred, color ='k')\n",
    "  \n",
    "plt.show()"
   ]
  },
  {
   "cell_type": "markdown",
   "id": "080d7ea7",
   "metadata": {},
   "source": [
    "<b>Model: </b> -15.89 + 0.9720052(Unique Individuals Tested) - 0.96037935(Negative Individuals) - 0.00563916(Total Tests Conducted) note: changes every run of this notebook\n",
    "\n",
    "The model was able to get 99.9% of the points within the regression line, as indicated by the coefficient of determination score. The MSE of the model is 1778.6613602289347\n"
   ]
  },
  {
   "cell_type": "code",
   "execution_count": null,
   "id": "56d73862",
   "metadata": {},
   "outputs": [],
   "source": []
  },
  {
   "cell_type": "markdown",
   "id": "3b999131",
   "metadata": {},
   "source": [
    "## Predict Number of Isolation Beds - Benjie\n",
    "- use logistic regression to predict number of isolation beds\n",
    "- choose which factors strongly affect isolbed_o and use thos in the regression "
   ]
  },
  {
   "cell_type": "code",
   "execution_count": null,
   "id": "fc33a5fa",
   "metadata": {},
   "outputs": [],
   "source": []
  },
  {
   "cell_type": "code",
   "execution_count": null,
   "id": "559dd952",
   "metadata": {},
   "outputs": [],
   "source": []
  },
  {
   "cell_type": "code",
   "execution_count": null,
   "id": "69bb5ab7",
   "metadata": {},
   "outputs": [],
   "source": []
  },
  {
   "cell_type": "code",
   "execution_count": null,
   "id": "9d569ec9",
   "metadata": {},
   "outputs": [],
   "source": []
  },
  {
   "cell_type": "markdown",
   "id": "1b5ac0c0",
   "metadata": {},
   "source": [
    "## Predict Number of Surgical Masks - Pam\n",
    "- use logistic regression to predict number of isolation beds\n",
    "- choose which factors strongly affect isolbed_o and use thos in the regression "
   ]
  },
  {
   "cell_type": "code",
   "execution_count": null,
   "id": "6e80597b",
   "metadata": {},
   "outputs": [],
   "source": []
  },
  {
   "cell_type": "code",
   "execution_count": null,
   "id": "fc4c26e0",
   "metadata": {},
   "outputs": [],
   "source": []
  },
  {
   "cell_type": "code",
   "execution_count": null,
   "id": "3887a45a",
   "metadata": {},
   "outputs": [],
   "source": []
  },
  {
   "cell_type": "code",
   "execution_count": null,
   "id": "f8a4e4db",
   "metadata": {},
   "outputs": [],
   "source": []
  },
  {
   "cell_type": "markdown",
   "id": "543fc5af",
   "metadata": {},
   "source": [
    "## Predict Health Status of Individual - Keanna\n",
    "- use Multinomial Naive Bayes classifier to classify if an individual's health status is Mild (0), Recovered (1), Asymptomatic (2), Died (3), Severe (4), or Critical (5)\n",
    "- features to be used are: age, sex, home_quarantined, pregnant\n",
    "\n",
    "Steps:\n",
    "1. Separate data into features and label, clean, then encode\n",
    "2. Create the multinomial classifier and fit using x_train and y_train\n",
    "3. Predict\n",
    "4. Evaluate"
   ]
  },
  {
   "cell_type": "code",
   "execution_count": 7,
   "id": "07445613",
   "metadata": {},
   "outputs": [
    {
     "data": {
      "text/plain": [
       "Index(['case_id', 'age', 'age_group', 'sex', 'date_announced',\n",
       "       'date_recovered', 'date_of_death', 'status',\n",
       "       'date_announced_as_removed', 'province', 'muni_city', 'health_status',\n",
       "       'home_quarantined', 'date_of_onset_of_symptoms', 'pregnant', 'region'],\n",
       "      dtype='object')"
      ]
     },
     "execution_count": 7,
     "metadata": {},
     "output_type": "execute_result"
    }
   ],
   "source": [
    "df_health_status.columns"
   ]
  },
  {
   "cell_type": "code",
   "execution_count": 8,
   "id": "186a8ebb",
   "metadata": {},
   "outputs": [
    {
     "data": {
      "text/plain": [
       "Mild            7777\n",
       "Recovered       2460\n",
       "Asymptomatic     969\n",
       "Died             806\n",
       "Severe            54\n",
       "Critical          25\n",
       "Name: health_status, dtype: int64"
      ]
     },
     "execution_count": 8,
     "metadata": {},
     "output_type": "execute_result"
    }
   ],
   "source": [
    "# we have 6 classes biased towards Mild class\n",
    "df_health_status.health_status.value_counts()"
   ]
  },
  {
   "cell_type": "code",
   "execution_count": 9,
   "id": "8ef68da2",
   "metadata": {},
   "outputs": [
    {
     "data": {
      "text/html": [
       "<div>\n",
       "<style scoped>\n",
       "    .dataframe tbody tr th:only-of-type {\n",
       "        vertical-align: middle;\n",
       "    }\n",
       "\n",
       "    .dataframe tbody tr th {\n",
       "        vertical-align: top;\n",
       "    }\n",
       "\n",
       "    .dataframe thead th {\n",
       "        text-align: right;\n",
       "    }\n",
       "</style>\n",
       "<table border=\"1\" class=\"dataframe\">\n",
       "  <thead>\n",
       "    <tr style=\"text-align: right;\">\n",
       "      <th></th>\n",
       "      <th>case_id</th>\n",
       "      <th>age</th>\n",
       "      <th>age_group</th>\n",
       "      <th>sex</th>\n",
       "      <th>date_announced</th>\n",
       "      <th>date_recovered</th>\n",
       "      <th>date_of_death</th>\n",
       "      <th>status</th>\n",
       "      <th>date_announced_as_removed</th>\n",
       "      <th>province</th>\n",
       "      <th>muni_city</th>\n",
       "      <th>health_status</th>\n",
       "      <th>home_quarantined</th>\n",
       "      <th>date_of_onset_of_symptoms</th>\n",
       "      <th>pregnant</th>\n",
       "      <th>region</th>\n",
       "    </tr>\n",
       "  </thead>\n",
       "  <tbody>\n",
       "    <tr>\n",
       "      <th>0</th>\n",
       "      <td>C404174</td>\n",
       "      <td>38.0</td>\n",
       "      <td>35 to 39</td>\n",
       "      <td>Female</td>\n",
       "      <td>2020-01-30</td>\n",
       "      <td>NaN</td>\n",
       "      <td>NaN</td>\n",
       "      <td>Recovered</td>\n",
       "      <td>2020-02-07</td>\n",
       "      <td>Negros Oriental</td>\n",
       "      <td>Dumaguete City</td>\n",
       "      <td>Recovered</td>\n",
       "      <td>NaN</td>\n",
       "      <td>2020-01-21</td>\n",
       "      <td>NaN</td>\n",
       "      <td>Central Visayas (Region VII)</td>\n",
       "    </tr>\n",
       "    <tr>\n",
       "      <th>1</th>\n",
       "      <td>C462688</td>\n",
       "      <td>44.0</td>\n",
       "      <td>40 to 44</td>\n",
       "      <td>Male</td>\n",
       "      <td>2020-02-03</td>\n",
       "      <td>NaN</td>\n",
       "      <td>2020-02-01</td>\n",
       "      <td>Died</td>\n",
       "      <td>2020-02-02</td>\n",
       "      <td>Negros Oriental</td>\n",
       "      <td>Dumaguete City</td>\n",
       "      <td>Died</td>\n",
       "      <td>NaN</td>\n",
       "      <td>2020-01-18</td>\n",
       "      <td>NaN</td>\n",
       "      <td>Central Visayas (Region VII)</td>\n",
       "    </tr>\n",
       "    <tr>\n",
       "      <th>2</th>\n",
       "      <td>C387710</td>\n",
       "      <td>60.0</td>\n",
       "      <td>60 to 64</td>\n",
       "      <td>Female</td>\n",
       "      <td>2020-02-05</td>\n",
       "      <td>2020-01-31</td>\n",
       "      <td>NaN</td>\n",
       "      <td>Recovered</td>\n",
       "      <td>2020-02-05</td>\n",
       "      <td>Bohol</td>\n",
       "      <td>Panglao</td>\n",
       "      <td>Recovered</td>\n",
       "      <td>No</td>\n",
       "      <td>2020-01-21</td>\n",
       "      <td>NaN</td>\n",
       "      <td>Central Visayas (Region VII)</td>\n",
       "    </tr>\n",
       "  </tbody>\n",
       "</table>\n",
       "</div>"
      ],
      "text/plain": [
       "   case_id   age age_group     sex date_announced date_recovered  \\\n",
       "0  C404174  38.0  35 to 39  Female     2020-01-30            NaN   \n",
       "1  C462688  44.0  40 to 44    Male     2020-02-03            NaN   \n",
       "2  C387710  60.0  60 to 64  Female     2020-02-05     2020-01-31   \n",
       "\n",
       "  date_of_death     status date_announced_as_removed         province  \\\n",
       "0           NaN  Recovered                2020-02-07  Negros Oriental   \n",
       "1    2020-02-01       Died                2020-02-02  Negros Oriental   \n",
       "2           NaN  Recovered                2020-02-05            Bohol   \n",
       "\n",
       "        muni_city health_status home_quarantined date_of_onset_of_symptoms  \\\n",
       "0  Dumaguete City     Recovered              NaN                2020-01-21   \n",
       "1  Dumaguete City          Died              NaN                2020-01-18   \n",
       "2         Panglao     Recovered               No                2020-01-21   \n",
       "\n",
       "  pregnant                        region  \n",
       "0      NaN  Central Visayas (Region VII)  \n",
       "1      NaN  Central Visayas (Region VII)  \n",
       "2      NaN  Central Visayas (Region VII)  "
      ]
     },
     "execution_count": 9,
     "metadata": {},
     "output_type": "execute_result"
    }
   ],
   "source": [
    "df_health_status.head(3)"
   ]
  },
  {
   "cell_type": "code",
   "execution_count": 10,
   "id": "e22f0ed0",
   "metadata": {},
   "outputs": [],
   "source": [
    "features = df_health_status[['age', 'sex', 'home_quarantined', 'pregnant']]\n",
    "label = df_health_status['health_status']"
   ]
  },
  {
   "cell_type": "code",
   "execution_count": 11,
   "id": "c7c47dd9",
   "metadata": {},
   "outputs": [
    {
     "data": {
      "text/html": [
       "<div>\n",
       "<style scoped>\n",
       "    .dataframe tbody tr th:only-of-type {\n",
       "        vertical-align: middle;\n",
       "    }\n",
       "\n",
       "    .dataframe tbody tr th {\n",
       "        vertical-align: top;\n",
       "    }\n",
       "\n",
       "    .dataframe thead th {\n",
       "        text-align: right;\n",
       "    }\n",
       "</style>\n",
       "<table border=\"1\" class=\"dataframe\">\n",
       "  <thead>\n",
       "    <tr style=\"text-align: right;\">\n",
       "      <th></th>\n",
       "      <th>age</th>\n",
       "      <th>sex</th>\n",
       "      <th>home_quarantined</th>\n",
       "      <th>pregnant</th>\n",
       "    </tr>\n",
       "  </thead>\n",
       "  <tbody>\n",
       "    <tr>\n",
       "      <th>0</th>\n",
       "      <td>38.0</td>\n",
       "      <td>Female</td>\n",
       "      <td>Unknown</td>\n",
       "      <td>Unknown</td>\n",
       "    </tr>\n",
       "    <tr>\n",
       "      <th>1</th>\n",
       "      <td>44.0</td>\n",
       "      <td>Male</td>\n",
       "      <td>Unknown</td>\n",
       "      <td>Unknown</td>\n",
       "    </tr>\n",
       "    <tr>\n",
       "      <th>2</th>\n",
       "      <td>60.0</td>\n",
       "      <td>Female</td>\n",
       "      <td>No</td>\n",
       "      <td>Unknown</td>\n",
       "    </tr>\n",
       "    <tr>\n",
       "      <th>3</th>\n",
       "      <td>48.0</td>\n",
       "      <td>Male</td>\n",
       "      <td>No</td>\n",
       "      <td>Unknown</td>\n",
       "    </tr>\n",
       "    <tr>\n",
       "      <th>4</th>\n",
       "      <td>62.0</td>\n",
       "      <td>Male</td>\n",
       "      <td>No</td>\n",
       "      <td>Unknown</td>\n",
       "    </tr>\n",
       "    <tr>\n",
       "      <th>...</th>\n",
       "      <td>...</td>\n",
       "      <td>...</td>\n",
       "      <td>...</td>\n",
       "      <td>...</td>\n",
       "    </tr>\n",
       "    <tr>\n",
       "      <th>12086</th>\n",
       "      <td>35.0</td>\n",
       "      <td>Male</td>\n",
       "      <td>Unknown</td>\n",
       "      <td>Unknown</td>\n",
       "    </tr>\n",
       "    <tr>\n",
       "      <th>12087</th>\n",
       "      <td>37.0</td>\n",
       "      <td>Male</td>\n",
       "      <td>Unknown</td>\n",
       "      <td>Unknown</td>\n",
       "    </tr>\n",
       "    <tr>\n",
       "      <th>12088</th>\n",
       "      <td>62.0</td>\n",
       "      <td>Female</td>\n",
       "      <td>Unknown</td>\n",
       "      <td>Unknown</td>\n",
       "    </tr>\n",
       "    <tr>\n",
       "      <th>12089</th>\n",
       "      <td>18.0</td>\n",
       "      <td>Female</td>\n",
       "      <td>Yes</td>\n",
       "      <td>No</td>\n",
       "    </tr>\n",
       "    <tr>\n",
       "      <th>12090</th>\n",
       "      <td>50.0</td>\n",
       "      <td>Female</td>\n",
       "      <td>Unknown</td>\n",
       "      <td>Unknown</td>\n",
       "    </tr>\n",
       "  </tbody>\n",
       "</table>\n",
       "<p>12091 rows × 4 columns</p>\n",
       "</div>"
      ],
      "text/plain": [
       "        age     sex home_quarantined pregnant\n",
       "0      38.0  Female          Unknown  Unknown\n",
       "1      44.0    Male          Unknown  Unknown\n",
       "2      60.0  Female               No  Unknown\n",
       "3      48.0    Male               No  Unknown\n",
       "4      62.0    Male               No  Unknown\n",
       "...     ...     ...              ...      ...\n",
       "12086  35.0    Male          Unknown  Unknown\n",
       "12087  37.0    Male          Unknown  Unknown\n",
       "12088  62.0  Female          Unknown  Unknown\n",
       "12089  18.0  Female              Yes       No\n",
       "12090  50.0  Female          Unknown  Unknown\n",
       "\n",
       "[12091 rows x 4 columns]"
      ]
     },
     "execution_count": 11,
     "metadata": {},
     "output_type": "execute_result"
    }
   ],
   "source": [
    "# replace NaN values with unknown\n",
    "features = features.fillna(\"Unknown\")\n",
    "features"
   ]
  },
  {
   "cell_type": "code",
   "execution_count": 12,
   "id": "9bc91059",
   "metadata": {},
   "outputs": [],
   "source": [
    "# replace unkown ages with 0\n",
    "features.age = features.age.replace([\"Unknown\"], 0)"
   ]
  },
  {
   "cell_type": "code",
   "execution_count": 13,
   "id": "6f4cf109",
   "metadata": {},
   "outputs": [],
   "source": [
    "# encoding strings into numerical\n",
    "le = preprocessing.LabelEncoder()\n",
    "features.sex = le.fit_transform(features.sex)  # female = 0, male = 1\n",
    "features.home_quarantined = le.fit_transform(features.home_quarantined) # Unknown = 1, No = 0, Yes = 2\n",
    "features.pregnant = le.fit_transform(features.pregnant) # Unknown = 1, No = 0, Yes = 2"
   ]
  },
  {
   "cell_type": "code",
   "execution_count": 14,
   "id": "e71343b3",
   "metadata": {},
   "outputs": [
    {
     "data": {
      "text/html": [
       "<div>\n",
       "<style scoped>\n",
       "    .dataframe tbody tr th:only-of-type {\n",
       "        vertical-align: middle;\n",
       "    }\n",
       "\n",
       "    .dataframe tbody tr th {\n",
       "        vertical-align: top;\n",
       "    }\n",
       "\n",
       "    .dataframe thead th {\n",
       "        text-align: right;\n",
       "    }\n",
       "</style>\n",
       "<table border=\"1\" class=\"dataframe\">\n",
       "  <thead>\n",
       "    <tr style=\"text-align: right;\">\n",
       "      <th></th>\n",
       "      <th>age</th>\n",
       "      <th>sex</th>\n",
       "      <th>home_quarantined</th>\n",
       "      <th>pregnant</th>\n",
       "    </tr>\n",
       "  </thead>\n",
       "  <tbody>\n",
       "    <tr>\n",
       "      <th>0</th>\n",
       "      <td>38.0</td>\n",
       "      <td>0</td>\n",
       "      <td>1</td>\n",
       "      <td>1</td>\n",
       "    </tr>\n",
       "    <tr>\n",
       "      <th>1</th>\n",
       "      <td>44.0</td>\n",
       "      <td>1</td>\n",
       "      <td>1</td>\n",
       "      <td>1</td>\n",
       "    </tr>\n",
       "    <tr>\n",
       "      <th>2</th>\n",
       "      <td>60.0</td>\n",
       "      <td>0</td>\n",
       "      <td>0</td>\n",
       "      <td>1</td>\n",
       "    </tr>\n",
       "    <tr>\n",
       "      <th>3</th>\n",
       "      <td>48.0</td>\n",
       "      <td>1</td>\n",
       "      <td>0</td>\n",
       "      <td>1</td>\n",
       "    </tr>\n",
       "    <tr>\n",
       "      <th>4</th>\n",
       "      <td>62.0</td>\n",
       "      <td>1</td>\n",
       "      <td>0</td>\n",
       "      <td>1</td>\n",
       "    </tr>\n",
       "    <tr>\n",
       "      <th>...</th>\n",
       "      <td>...</td>\n",
       "      <td>...</td>\n",
       "      <td>...</td>\n",
       "      <td>...</td>\n",
       "    </tr>\n",
       "    <tr>\n",
       "      <th>12086</th>\n",
       "      <td>35.0</td>\n",
       "      <td>1</td>\n",
       "      <td>1</td>\n",
       "      <td>1</td>\n",
       "    </tr>\n",
       "    <tr>\n",
       "      <th>12087</th>\n",
       "      <td>37.0</td>\n",
       "      <td>1</td>\n",
       "      <td>1</td>\n",
       "      <td>1</td>\n",
       "    </tr>\n",
       "    <tr>\n",
       "      <th>12088</th>\n",
       "      <td>62.0</td>\n",
       "      <td>0</td>\n",
       "      <td>1</td>\n",
       "      <td>1</td>\n",
       "    </tr>\n",
       "    <tr>\n",
       "      <th>12089</th>\n",
       "      <td>18.0</td>\n",
       "      <td>0</td>\n",
       "      <td>2</td>\n",
       "      <td>0</td>\n",
       "    </tr>\n",
       "    <tr>\n",
       "      <th>12090</th>\n",
       "      <td>50.0</td>\n",
       "      <td>0</td>\n",
       "      <td>1</td>\n",
       "      <td>1</td>\n",
       "    </tr>\n",
       "  </tbody>\n",
       "</table>\n",
       "<p>12091 rows × 4 columns</p>\n",
       "</div>"
      ],
      "text/plain": [
       "        age  sex  home_quarantined  pregnant\n",
       "0      38.0    0                 1         1\n",
       "1      44.0    1                 1         1\n",
       "2      60.0    0                 0         1\n",
       "3      48.0    1                 0         1\n",
       "4      62.0    1                 0         1\n",
       "...     ...  ...               ...       ...\n",
       "12086  35.0    1                 1         1\n",
       "12087  37.0    1                 1         1\n",
       "12088  62.0    0                 1         1\n",
       "12089  18.0    0                 2         0\n",
       "12090  50.0    0                 1         1\n",
       "\n",
       "[12091 rows x 4 columns]"
      ]
     },
     "execution_count": 14,
     "metadata": {},
     "output_type": "execute_result"
    }
   ],
   "source": [
    "features"
   ]
  },
  {
   "cell_type": "code",
   "execution_count": 15,
   "id": "298f3b11",
   "metadata": {},
   "outputs": [],
   "source": [
    "# split data into trianing and testing\n",
    "x_train, x_test, y_train, y_test = train_test_split(features, label, test_size = 0.15)"
   ]
  },
  {
   "cell_type": "code",
   "execution_count": 16,
   "id": "1da3e667",
   "metadata": {},
   "outputs": [
    {
     "data": {
      "text/html": [
       "<div>\n",
       "<style scoped>\n",
       "    .dataframe tbody tr th:only-of-type {\n",
       "        vertical-align: middle;\n",
       "    }\n",
       "\n",
       "    .dataframe tbody tr th {\n",
       "        vertical-align: top;\n",
       "    }\n",
       "\n",
       "    .dataframe thead th {\n",
       "        text-align: right;\n",
       "    }\n",
       "</style>\n",
       "<table border=\"1\" class=\"dataframe\">\n",
       "  <thead>\n",
       "    <tr style=\"text-align: right;\">\n",
       "      <th></th>\n",
       "      <th>age</th>\n",
       "      <th>sex</th>\n",
       "      <th>home_quarantined</th>\n",
       "      <th>pregnant</th>\n",
       "    </tr>\n",
       "  </thead>\n",
       "  <tbody>\n",
       "    <tr>\n",
       "      <th>11668</th>\n",
       "      <td>26.0</td>\n",
       "      <td>1</td>\n",
       "      <td>1</td>\n",
       "      <td>1</td>\n",
       "    </tr>\n",
       "    <tr>\n",
       "      <th>10352</th>\n",
       "      <td>64.0</td>\n",
       "      <td>1</td>\n",
       "      <td>2</td>\n",
       "      <td>1</td>\n",
       "    </tr>\n",
       "    <tr>\n",
       "      <th>8416</th>\n",
       "      <td>33.0</td>\n",
       "      <td>0</td>\n",
       "      <td>2</td>\n",
       "      <td>0</td>\n",
       "    </tr>\n",
       "    <tr>\n",
       "      <th>11852</th>\n",
       "      <td>61.0</td>\n",
       "      <td>1</td>\n",
       "      <td>2</td>\n",
       "      <td>1</td>\n",
       "    </tr>\n",
       "    <tr>\n",
       "      <th>1338</th>\n",
       "      <td>52.0</td>\n",
       "      <td>1</td>\n",
       "      <td>2</td>\n",
       "      <td>1</td>\n",
       "    </tr>\n",
       "    <tr>\n",
       "      <th>...</th>\n",
       "      <td>...</td>\n",
       "      <td>...</td>\n",
       "      <td>...</td>\n",
       "      <td>...</td>\n",
       "    </tr>\n",
       "    <tr>\n",
       "      <th>1022</th>\n",
       "      <td>68.0</td>\n",
       "      <td>1</td>\n",
       "      <td>0</td>\n",
       "      <td>1</td>\n",
       "    </tr>\n",
       "    <tr>\n",
       "      <th>6995</th>\n",
       "      <td>21.0</td>\n",
       "      <td>0</td>\n",
       "      <td>1</td>\n",
       "      <td>1</td>\n",
       "    </tr>\n",
       "    <tr>\n",
       "      <th>10464</th>\n",
       "      <td>24.0</td>\n",
       "      <td>1</td>\n",
       "      <td>1</td>\n",
       "      <td>1</td>\n",
       "    </tr>\n",
       "    <tr>\n",
       "      <th>1833</th>\n",
       "      <td>30.0</td>\n",
       "      <td>0</td>\n",
       "      <td>2</td>\n",
       "      <td>0</td>\n",
       "    </tr>\n",
       "    <tr>\n",
       "      <th>4948</th>\n",
       "      <td>45.0</td>\n",
       "      <td>0</td>\n",
       "      <td>1</td>\n",
       "      <td>1</td>\n",
       "    </tr>\n",
       "  </tbody>\n",
       "</table>\n",
       "<p>10277 rows × 4 columns</p>\n",
       "</div>"
      ],
      "text/plain": [
       "        age  sex  home_quarantined  pregnant\n",
       "11668  26.0    1                 1         1\n",
       "10352  64.0    1                 2         1\n",
       "8416   33.0    0                 2         0\n",
       "11852  61.0    1                 2         1\n",
       "1338   52.0    1                 2         1\n",
       "...     ...  ...               ...       ...\n",
       "1022   68.0    1                 0         1\n",
       "6995   21.0    0                 1         1\n",
       "10464  24.0    1                 1         1\n",
       "1833   30.0    0                 2         0\n",
       "4948   45.0    0                 1         1\n",
       "\n",
       "[10277 rows x 4 columns]"
      ]
     },
     "execution_count": 16,
     "metadata": {},
     "output_type": "execute_result"
    }
   ],
   "source": [
    "x_train"
   ]
  },
  {
   "cell_type": "code",
   "execution_count": 17,
   "id": "868c9d27",
   "metadata": {},
   "outputs": [],
   "source": [
    "model_nb = MultinomialNB().fit(x_train, y_train)"
   ]
  },
  {
   "cell_type": "code",
   "execution_count": 18,
   "id": "39e851b4",
   "metadata": {},
   "outputs": [
    {
     "data": {
      "text/plain": [
       "array(['Mild', 'Mild', 'Mild', ..., 'Mild', 'Mild', 'Mild'], dtype='<U12')"
      ]
     },
     "execution_count": 18,
     "metadata": {},
     "output_type": "execute_result"
    }
   ],
   "source": [
    "y_pred_nb = model_nb.predict(x_test)\n",
    "y_pred_nb"
   ]
  },
  {
   "cell_type": "code",
   "execution_count": 19,
   "id": "b11a9b73",
   "metadata": {},
   "outputs": [
    {
     "data": {
      "text/plain": [
       "0.6207276736493936"
      ]
     },
     "execution_count": 19,
     "metadata": {},
     "output_type": "execute_result"
    }
   ],
   "source": [
    "accuracy_score(y_test, y_pred_nb)"
   ]
  },
  {
   "cell_type": "code",
   "execution_count": 20,
   "id": "5af3695c",
   "metadata": {},
   "outputs": [
    {
     "data": {
      "text/plain": [
       "(0.6207276736493936, 0.6207276736493936, 0.6207276736493936, None)"
      ]
     },
     "execution_count": 20,
     "metadata": {},
     "output_type": "execute_result"
    }
   ],
   "source": [
    "# all scores are the same\n",
    "precision_recall_fscore_support(y_test, y_pred_nb, average='micro')"
   ]
  },
  {
   "cell_type": "code",
   "execution_count": 21,
   "id": "384cd51e",
   "metadata": {},
   "outputs": [
    {
     "data": {
      "text/plain": [
       "array([[1126,    0,    0,    0,    0,    0],\n",
       "       [ 393,    0,    0,    0,    0,    0],\n",
       "       [ 155,    0,    0,    0,    0,    0],\n",
       "       [ 130,    0,    0,    0,    0,    0],\n",
       "       [   9,    0,    0,    0,    0,    0],\n",
       "       [   1,    0,    0,    0,    0,    0]], dtype=int64)"
      ]
     },
     "execution_count": 21,
     "metadata": {},
     "output_type": "execute_result"
    }
   ],
   "source": [
    "cm = confusion_matrix(y_test, y_pred_nb, labels=[\"Mild\", \"Recovered\", \"Asymptomatic\", \"Died\", \"Severe\", \"Critical\"])\n",
    "cm"
   ]
  },
  {
   "cell_type": "code",
   "execution_count": 22,
   "id": "4b6c50bd",
   "metadata": {},
   "outputs": [
    {
     "data": {
      "text/plain": [
       "<sklearn.metrics._plot.confusion_matrix.ConfusionMatrixDisplay at 0x2bb60bef4c0>"
      ]
     },
     "execution_count": 22,
     "metadata": {},
     "output_type": "execute_result"
    },
    {
     "data": {
      "image/png": "[encoded data removed]",
      "text/plain": [
       "<Figure size 720x720 with 2 Axes>"
      ]
     },
     "metadata": {
      "needs_background": "light"
     },
     "output_type": "display_data"
    }
   ],
   "source": [
    "display = ConfusionMatrixDisplay(confusion_matrix=cm, display_labels=[\"Mild\", \"Recovered\", \"Asymptomatic\", \"Died\", \"Severe\", \"Critical\"])\n",
    "fig, ax = plt.subplots(figsize=(10,10))\n",
    "plt.grid(False)\n",
    "display.plot(ax=ax, xticks_rotation=\"vertical\", cmap=\"pink\")"
   ]
  },
  {
   "cell_type": "markdown",
   "id": "92c97d0f",
   "metadata": {},
   "source": [
    "Since the performance emtrics values are low, we will try yo create a classifier by using age_group instead of age."
   ]
  },
  {
   "cell_type": "code",
   "execution_count": 23,
   "id": "7be9add4",
   "metadata": {},
   "outputs": [],
   "source": [
    "# if using age groups\n",
    "features_2 = df_health_status[['age_group', 'sex', 'home_quarantined', 'pregnant']]\n",
    "features_2 = features_2.fillna(\"Unknown\")\n",
    "features_2.age_group = features_2.age_group.replace([\"Unknown\"], \"0\")\n",
    "\n",
    "features_2.age_group = le.fit_transform(features_2.age_group)\n",
    "features_2.sex = le.fit_transform(features_2.sex)  # female = 0, male = 1\n",
    "features_2.home_quarantined = le.fit_transform(features_2.home_quarantined) # Unknown = 1, No = 0, Yes = 2\n",
    "features_2.pregnant = le.fit_transform(features_2.pregnant) # Unknown = 1, No = 0, Yes = 2\n",
    "\n",
    "# split data into trianing and testing\n",
    "x_train1, x_test1, y_train1, y_test1 = train_test_split(features, label, test_size = 0.15)"
   ]
  },
  {
   "cell_type": "code",
   "execution_count": 24,
   "id": "3528511c",
   "metadata": {},
   "outputs": [],
   "source": [
    "new_model = MultinomialNB().fit(x_train1, y_train1)"
   ]
  },
  {
   "cell_type": "code",
   "execution_count": 25,
   "id": "d905d148",
   "metadata": {},
   "outputs": [
    {
     "data": {
      "text/plain": [
       "0.6289966923925028"
      ]
     },
     "execution_count": 25,
     "metadata": {},
     "output_type": "execute_result"
    }
   ],
   "source": [
    "new_y_pred = new_model.predict(x_test1)\n",
    "accuracy_score(y_test1, new_y_pred)"
   ]
  },
  {
   "cell_type": "code",
   "execution_count": 26,
   "id": "f6ca6709",
   "metadata": {},
   "outputs": [
    {
     "data": {
      "text/plain": [
       "(0.6289966923925028, 0.6289966923925028, 0.6289966923925028, None)"
      ]
     },
     "execution_count": 26,
     "metadata": {},
     "output_type": "execute_result"
    }
   ],
   "source": [
    "precision_recall_fscore_support(y_test1, new_y_pred, average='micro')"
   ]
  },
  {
   "cell_type": "markdown",
   "id": "dce7b941",
   "metadata": {},
   "source": [
    "Grouping the individuals by age doesn't improve the model by much, so we will stick with separating the individuals by their exact age and trying out the ComplementNB classifier. --> worse performance "
   ]
  },
  {
   "cell_type": "code",
   "execution_count": null,
   "id": "c0210e68",
   "metadata": {},
   "outputs": [],
   "source": []
  },
  {
   "cell_type": "markdown",
   "id": "871502bf",
   "metadata": {},
   "source": [
    "Try undersampling and oversampling so that minority classes are bigger and majority class samples are smaller"
   ]
  },
  {
   "cell_type": "code",
   "execution_count": 27,
   "id": "bf393f33",
   "metadata": {},
   "outputs": [
    {
     "name": "stdout",
     "output_type": "stream",
     "text": [
      "[('Asymptomatic', 6366), ('Critical', 6389), ('Died', 6321), ('Mild', 6647), ('Recovered', 6397), ('Severe', 6414)]\n"
     ]
    }
   ],
   "source": [
    "smote_enn = SMOTETomek(sampling_strategy='not majority', random_state=0)\n",
    "x_resampled, y_resampled = smote_enn.fit_resample(x_train, y_train)\n",
    "print(sorted(Counter(y_resampled).items()))"
   ]
  },
  {
   "cell_type": "code",
   "execution_count": 28,
   "id": "e3f435bd",
   "metadata": {},
   "outputs": [],
   "source": [
    "sampled_model = MultinomialNB().fit(x_resampled, y_resampled)"
   ]
  },
  {
   "cell_type": "code",
   "execution_count": 29,
   "id": "431e91a4",
   "metadata": {},
   "outputs": [],
   "source": [
    "sampled_y_pred = sampled_model.predict(x_test)"
   ]
  },
  {
   "cell_type": "code",
   "execution_count": 30,
   "id": "b08a1324",
   "metadata": {},
   "outputs": [
    {
     "data": {
      "text/plain": [
       "0.45810363836824697"
      ]
     },
     "execution_count": 30,
     "metadata": {},
     "output_type": "execute_result"
    }
   ],
   "source": [
    "accuracy_score(y_test, sampled_y_pred)"
   ]
  },
  {
   "cell_type": "code",
   "execution_count": 31,
   "id": "0fbb17d5",
   "metadata": {},
   "outputs": [
    {
     "data": {
      "text/plain": [
       "(0.45810363836824697, 0.45810363836824697, 0.45810363836824697, None)"
      ]
     },
     "execution_count": 31,
     "metadata": {},
     "output_type": "execute_result"
    }
   ],
   "source": [
    "precision_recall_fscore_support(y_test, sampled_y_pred, average=\"micro\")"
   ]
  },
  {
   "cell_type": "code",
   "execution_count": null,
   "id": "5a485ff8",
   "metadata": {},
   "outputs": [],
   "source": []
  }
 ],
 "metadata": {
  "kernelspec": {
   "display_name": "Python 3 (ipykernel)",
   "language": "python",
   "name": "python3"
  },
  "language_info": {
   "codemirror_mode": {
    "name": "ipython",
    "version": 3
   },
   "file_extension": ".py",
   "mimetype": "text/x-python",
   "name": "python",
   "nbconvert_exporter": "python",
   "pygments_lexer": "ipython3",
   "version": "3.9.12"
  }
 },
 "nbformat": 4,
 "nbformat_minor": 5
}
